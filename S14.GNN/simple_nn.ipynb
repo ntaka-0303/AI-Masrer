{
 "cells": [
  {
   "attachments": {},
   "cell_type": "markdown",
   "metadata": {},
   "source": [
    "# Simple Neural Network\n",
    "This notebook is a simple neural network with PyTorch that classifies the MNIST dataset."
   ]
  },
  {
   "cell_type": "code",
   "execution_count": 14,
   "metadata": {},
   "outputs": [],
   "source": [
    "# if you want to run this code on GPU, please change the following line to True\n",
    "WITH_GPU = False"
   ]
  },
  {
   "attachments": {},
   "cell_type": "markdown",
   "metadata": {},
   "source": [
    "## Load the dataset"
   ]
  },
  {
   "cell_type": "code",
   "execution_count": 15,
   "metadata": {},
   "outputs": [
    {
     "name": "stdout",
     "output_type": "stream",
     "text": [
      "Train data size:  60000 Test data size:  10000\n"
     ]
    }
   ],
   "source": [
    "import torch\n",
    "from torchvision.datasets import MNIST\n",
    "from torchvision import transforms\n",
    "from torch.utils.data import DataLoader\n",
    "\n",
    "# load the training and test data\n",
    "train_data = MNIST(root='data', train=True, download=True, transform=transforms.ToTensor())\n",
    "test_data = MNIST(root='data', train=False, download=True, transform=transforms.ToTensor())\n",
    "print(\"Train data size: \", len(train_data), \"Test data size: \", len(test_data))\n",
    "\n",
    "# create the data loader\n",
    "img_size = 28\n",
    "batch_size = 256\n",
    "train_loader = DataLoader(train_data, batch_size=batch_size, shuffle=True)\n",
    "test_loader = DataLoader(test_data, batch_size=batch_size, shuffle=False)"
   ]
  },
  {
   "attachments": {},
   "cell_type": "markdown",
   "metadata": {},
   "source": [
    "## Build the model"
   ]
  },
  {
   "cell_type": "code",
   "execution_count": 16,
   "metadata": {},
   "outputs": [],
   "source": [
    "import torch.nn as nn\n",
    "import torch.nn.functional as F\n",
    "\n",
    "# define the neural network\n",
    "class Net(nn.Module):\n",
    "    def __init__(self):\n",
    "        super(Net, self).__init__()\n",
    "        self.fc1 = nn.Linear(img_size*img_size, 1024) # fully connected layer\n",
    "        self.fc2 = nn.Linear(1024, 512)\n",
    "        self.fc3 = nn.Linear(512, 10)\n",
    "        \n",
    "    def forward(self, x):\n",
    "        x = x.view(-1, img_size*img_size)\n",
    "        x = F.relu(self.fc1(x))\n",
    "        x = F.relu(self.fc2(x))\n",
    "        x = self.fc3(x)\n",
    "        return x\n",
    "\n",
    "net = Net()\n",
    "if WITH_GPU:\n",
    "    net.cuda() # use GPU"
   ]
  },
  {
   "attachments": {},
   "cell_type": "markdown",
   "metadata": {},
   "source": [
    "## Train the model"
   ]
  },
  {
   "cell_type": "code",
   "execution_count": 17,
   "metadata": {},
   "outputs": [
    {
     "name": "stdout",
     "output_type": "stream",
     "text": [
      "Epoch:  0 Loss_train:  0.2984383739372517 Loss_test:  0.12299801337067037\n",
      "Epoch:  1 Loss_train:  0.09768606788934546 Loss_test:  0.07867958500282839\n",
      "Epoch:  2 Loss_train:  0.06150876514296583 Loss_test:  0.06892775236046873\n",
      "Epoch:  3 Loss_train:  0.041566201600622625 Loss_test:  0.06878276158531663\n",
      "Epoch:  4 Loss_train:  0.02954471493139863 Loss_test:  0.07117512093391269\n",
      "Epoch:  5 Loss_train:  0.02138996691878964 Loss_test:  0.07237103586430749\n",
      "Epoch:  6 Loss_train:  0.01747058325922711 Loss_test:  0.08033704764820868\n",
      "Epoch:  7 Loss_train:  0.015558482244353187 Loss_test:  0.08516587880512816\n",
      "Epoch:  8 Loss_train:  0.015315327216732375 Loss_test:  0.07525051501070265\n",
      "Epoch:  9 Loss_train:  0.010434989090587824 Loss_test:  0.08177652308513643\n"
     ]
    }
   ],
   "source": [
    "from torch import optim\n",
    "\n",
    "# define the loss function and optimizer\n",
    "loss_fn = nn.CrossEntropyLoss()\n",
    "optimizer = optim.Adam(net.parameters(), lr=0.01)\n",
    "\n",
    "# log the loss of training and test data\n",
    "record_loss_train = []\n",
    "record_loss_test = []\n",
    "\n",
    "# train the model\n",
    "for epoch in range(10): # 10 epochs\n",
    "    # train the model\n",
    "    net.train()\n",
    "    loss_train = 0\n",
    "    for i, (x, t) in enumerate(train_loader): # get a batch of data\n",
    "        if WITH_GPU:\n",
    "            x, t = x.cuda(), t.cuda()\n",
    "        optimizer.zero_grad() # clear the gradients\n",
    "        y = net(x) # forward pass\n",
    "        loss = loss_fn(y, t) # compute the loss\n",
    "        loss_train += loss.item()\n",
    "        loss.backward() # backpropagation\n",
    "        optimizer.step() # update the parameters\n",
    "    record_loss_train.append(loss_train/(i+1))\n",
    "    \n",
    "    # evaluate the model\n",
    "    net.eval()\n",
    "    loss_test = 0\n",
    "    for i, (x, t) in enumerate(test_loader): # get a batch of data\n",
    "        if WITH_GPU:\n",
    "            x, t = x.cuda(), t.cuda()\n",
    "        y = net(x)\n",
    "        loss = loss_fn(y, t)\n",
    "        loss_test += loss.item()\n",
    "    record_loss_test.append(loss_test/(i+1))\n",
    "\n",
    "    if epoch % 1 == 0:\n",
    "        print(\"Epoch: \", epoch, \"Loss_train: \", loss_train/len(train_loader), \"Loss_test: \", loss_test/len(test_loader))"
   ]
  },
  {
   "attachments": {},
   "cell_type": "markdown",
   "metadata": {},
   "source": [
    "## History"
   ]
  },
  {
   "cell_type": "code",
   "execution_count": 18,
   "metadata": {},
   "outputs": [
    {
     "data": {
      "image/png": "[encoded data removed]",
      "text/plain": [
       "<Figure size 640x480 with 1 Axes>"
      ]
     },
     "metadata": {},
     "output_type": "display_data"
    }
   ],
   "source": [
    "import matplotlib.pyplot as plt\n",
    "\n",
    "# plot the loss curve\n",
    "plt.plot(range(len(record_loss_train)) ,record_loss_train, label='train')\n",
    "plt.plot(range(len(record_loss_test)) ,record_loss_test, label='test')\n",
    "plt.legend()\n",
    "plt.xlabel('Epoch')\n",
    "plt.ylabel('Loss')\n",
    "plt.show()"
   ]
  },
  {
   "attachments": {},
   "cell_type": "markdown",
   "metadata": {},
   "source": [
    "## Accuracy"
   ]
  },
  {
   "cell_type": "code",
   "execution_count": 19,
   "metadata": {},
   "outputs": [
    {
     "name": "stdout",
     "output_type": "stream",
     "text": [
      "Accuracy:  98.04 %\n"
     ]
    }
   ],
   "source": [
    "# calculate the accuracy\n",
    "net.eval()\n",
    "correct = 0\n",
    "total = 0\n",
    "for i, (x, t) in enumerate(test_loader):\n",
    "    if WITH_GPU:\n",
    "        x, t = x.cuda(), t.cuda()\n",
    "    x = x.view(-1, img_size*img_size)\n",
    "    y = net(x)\n",
    "    correct += (torch.argmax(y, dim=1) == t).sum().item()\n",
    "    total += len(x)\n",
    "print(\"Accuracy: \", correct/total*100, \"%\")"
   ]
  },
  {
   "cell_type": "code",
   "execution_count": null,
   "metadata": {},
   "outputs": [],
   "source": []
  }
 ],
 "metadata": {
  "kernelspec": {
   "display_name": "ai-master",
   "language": "python",
   "name": "python3"
  },
  "language_info": {
   "codemirror_mode": {
    "name": "ipython",
    "version": 3
   },
   "file_extension": ".py",
   "mimetype": "text/x-python",
   "name": "python",
   "nbconvert_exporter": "python",
   "pygments_lexer": "ipython3",
   "version": "3.7.16"
  },
  "orig_nbformat": 4,
  "vscode": {
   "interpreter": {
    "hash": "2512312fceb6e908b1c6087f9c29f0bb0c93a332146a69690954edd67c2954cb"
   }
  }
 },
 "nbformat": 4,
 "nbformat_minor": 2
}
