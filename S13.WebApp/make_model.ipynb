{
  "cells": [
    {
      "attachments": {},
      "cell_type": "markdown",
      "metadata": {
        "id": "mqAxv_QFU7_-"
      },
      "source": [
        "# Training and saving the CNN model"
      ]
    },
    {
      "cell_type": "markdown",
      "metadata": {
        "id": "ODI5JqKvU8AC"
      },
      "source": [
        "## Load the data and Preprocess the data"
      ]
    },
    {
      "cell_type": "code",
      "execution_count": 1,
      "metadata": {
        "colab": {
          "base_uri": "https://localhost:8080/"
        },
        "id": "Zjc75QArU8AD",
        "outputId": "7769a62c-404d-4c01-abfb-e016347e4b47"
      },
      "outputs": [
        {
          "name": "stdout",
          "output_type": "stream",
          "text": [
            "Downloading data from https://www.cs.toronto.edu/~kriz/cifar-10-python.tar.gz\n",
            "170498071/170498071 [==============================] - 6s 0us/step\n"
          ]
        }
      ],
      "source": [
        "import keras\n",
        "from keras.datasets import cifar10\n",
        "from keras.preprocessing.image import ImageDataGenerator\n",
        "\n",
        "# Load the CIFAR10 data.\n",
        "(x_train, y_train), (x_test, y_test) = cifar10.load_data()\n",
        "\n",
        "# Convert class vectors to binary class matrices.\n",
        "y_train = keras.utils.to_categorical(y_train, 10)\n",
        "y_test = keras.utils.to_categorical(y_test, 10)\n",
        "\n",
        "# Normalize the data.\n",
        "x_train = x_train.astype('float32')\n",
        "x_test = x_test.astype('float32')\n",
        "x_train /= 255\n",
        "x_test /= 255\n",
        "\n",
        "# Create ImageDataGenerator objects for data augmentation.\n",
        "from keras.preprocessing.image import ImageDataGenerator\n",
        "generator = ImageDataGenerator(\n",
        "    rotation_range=20,\n",
        "    width_shift_range=0.2,\n",
        "    height_shift_range=0.2,\n",
        "    horizontal_flip=True)\n",
        "generator.fit(x_train)"
      ]
    },
    {
      "cell_type": "markdown",
      "metadata": {
        "id": "TdYdPqyLU8AF"
      },
      "source": [
        "## Build the model"
      ]
    },
    {
      "cell_type": "code",
      "execution_count": 2,
      "metadata": {
        "colab": {
          "base_uri": "https://localhost:8080/"
        },
        "id": "24Gx7NrxU8AH",
        "outputId": "cb52c3c7-c9ca-4081-e5e2-17a4dc333b13"
      },
      "outputs": [
        {
          "name": "stderr",
          "output_type": "stream",
          "text": [
            "/usr/local/lib/python3.8/dist-packages/keras/optimizers/optimizer_v2/adam.py:117: UserWarning: The `lr` argument is deprecated, use `learning_rate` instead.\n",
            "  super().__init__(name, **kwargs)\n"
          ]
        },
        {
          "name": "stdout",
          "output_type": "stream",
          "text": [
            "Model: \"sequential\"\n",
            "_________________________________________________________________\n",
            " Layer (type)                Output Shape              Param #   \n",
            "=================================================================\n",
            " conv2d (Conv2D)             (None, 32, 32, 64)        1792      \n",
            "                                                                 \n",
            " conv2d_1 (Conv2D)           (None, 32, 32, 64)        36928     \n",
            "                                                                 \n",
            " conv2d_2 (Conv2D)           (None, 32, 32, 64)        36928     \n",
            "                                                                 \n",
            " batch_normalization (BatchN  (None, 32, 32, 64)       256       \n",
            " ormalization)                                                   \n",
            "                                                                 \n",
            " max_pooling2d (MaxPooling2D  (None, 16, 16, 64)       0         \n",
            " )                                                               \n",
            "                                                                 \n",
            " dropout (Dropout)           (None, 16, 16, 64)        0         \n",
            "                                                                 \n",
            " conv2d_3 (Conv2D)           (None, 16, 16, 128)       73856     \n",
            "                                                                 \n",
            " conv2d_4 (Conv2D)           (None, 16, 16, 128)       147584    \n",
            "                                                                 \n",
            " batch_normalization_1 (Batc  (None, 16, 16, 128)      512       \n",
            " hNormalization)                                                 \n",
            "                                                                 \n",
            " conv2d_5 (Conv2D)           (None, 16, 16, 128)       147584    \n",
            "                                                                 \n",
            " max_pooling2d_1 (MaxPooling  (None, 8, 8, 128)        0         \n",
            " 2D)                                                             \n",
            "                                                                 \n",
            " dropout_1 (Dropout)         (None, 8, 8, 128)         0         \n",
            "                                                                 \n",
            " conv2d_6 (Conv2D)           (None, 8, 8, 256)         295168    \n",
            "                                                                 \n",
            " conv2d_7 (Conv2D)           (None, 8, 8, 256)         590080    \n",
            "                                                                 \n",
            " batch_normalization_2 (Batc  (None, 8, 8, 256)        1024      \n",
            " hNormalization)                                                 \n",
            "                                                                 \n",
            " conv2d_8 (Conv2D)           (None, 8, 8, 512)         1180160   \n",
            "                                                                 \n",
            " conv2d_9 (Conv2D)           (None, 8, 8, 512)         2359808   \n",
            "                                                                 \n",
            " max_pooling2d_2 (MaxPooling  (None, 4, 4, 512)        0         \n",
            " 2D)                                                             \n",
            "                                                                 \n",
            " dropout_2 (Dropout)         (None, 4, 4, 512)         0         \n",
            "                                                                 \n",
            " flatten (Flatten)           (None, 8192)              0         \n",
            "                                                                 \n",
            " dense (Dense)               (None, 1024)              8389632   \n",
            "                                                                 \n",
            " dropout_3 (Dropout)         (None, 1024)              0         \n",
            "                                                                 \n",
            " dense_1 (Dense)             (None, 1024)              1049600   \n",
            "                                                                 \n",
            " dropout_4 (Dropout)         (None, 1024)              0         \n",
            "                                                                 \n",
            " dense_2 (Dense)             (None, 10)                10250     \n",
            "                                                                 \n",
            "=================================================================\n",
            "Total params: 14,321,162\n",
            "Trainable params: 14,320,266\n",
            "Non-trainable params: 896\n",
            "_________________________________________________________________\n"
          ]
        }
      ],
      "source": [
        "# Set the parameters for the model.\n",
        "batch_size = 500\n",
        "num_classes = 10\n",
        "epochs = 100\n",
        "init_lr = 0.001\n",
        "\n",
        "# Set the opimizer\n",
        "from keras.optimizers import Adam\n",
        "optimizer = Adam(learning_rate=init_lr)\n",
        "\n",
        "\n",
        "# Define the model.\n",
        "from keras.models import Sequential\n",
        "from keras.layers import Dense, Dropout, Flatten, BatchNormalization\n",
        "from keras.layers import Conv2D, MaxPooling2D\n",
        "\n",
        "model = Sequential()\n",
        "\n",
        "model.add(Conv2D(64, (3, 3), padding='same', activation='relu', input_shape=x_train.shape[1:]))\n",
        "model.add(Conv2D(64, (3, 3), padding='same', activation='relu'))\n",
        "model.add(Conv2D(64, (3, 3), padding='same', activation='relu'))\n",
        "model.add(BatchNormalization())\n",
        "model.add(MaxPooling2D(pool_size=(2, 2)))\n",
        "model.add(Dropout(0.25))\n",
        "\n",
        "model.add(Conv2D(128, (3, 3), padding='same', activation='relu'))\n",
        "model.add(Conv2D(128, (3, 3), padding='same', activation='relu'))\n",
        "model.add(BatchNormalization())\n",
        "model.add(Conv2D(128, (3, 3), padding='same', activation='relu'))\n",
        "model.add(MaxPooling2D(pool_size=(2, 2)))\n",
        "model.add(Dropout(0.25))\n",
        "\n",
        "model.add(Conv2D(256, (3, 3), padding='same', activation='relu'))\n",
        "model.add(Conv2D(256, (3, 3), padding='same', activation='relu'))\n",
        "model.add(BatchNormalization())\n",
        "model.add(Conv2D(512, (3, 3), padding='same', activation='relu'))\n",
        "model.add(Conv2D(512, (3, 3), padding='same', activation='relu'))\n",
        "model.add(MaxPooling2D(pool_size=(2, 2)))\n",
        "model.add(Dropout(0.25))\n",
        "\n",
        "model.add(Flatten())\n",
        "model.add(Dense(1024, activation='relu'))\n",
        "model.add(Dropout(0.5))\n",
        "model.add(Dense(1024, activation='relu'))\n",
        "model.add(Dropout(0.5))\n",
        "model.add(Dense(num_classes, activation='softmax'))\n",
        "\n",
        "# Compile the model.\n",
        "model.compile(loss='categorical_crossentropy', optimizer=optimizer, metrics=['accuracy'])\n",
        "model.summary()"
      ]
    },
    {
      "cell_type": "markdown",
      "metadata": {
        "id": "GEacCqrQU8AP"
      },
      "source": [
        "## Train the model"
      ]
    },
    {
      "cell_type": "code",
      "execution_count": 6,
      "metadata": {
        "colab": {
          "base_uri": "https://localhost:8080/"
        },
        "id": "Vxr_9n6hU8AQ",
        "outputId": "ebe3538b-633f-4925-e132-1411ef6d0705"
      },
      "outputs": [
        {
          "name": "stdout",
          "output_type": "stream",
          "text": [
            "Epoch 1/100\n",
            "100/100 [==============================] - 35s 348ms/step - loss: 1.6086 - accuracy: 0.3980 - val_loss: 3.2418 - val_accuracy: 0.1027 - lr: 9.9897e-04\n",
            "Epoch 2/100\n",
            "100/100 [==============================] - 35s 353ms/step - loss: 1.4451 - accuracy: 0.4738 - val_loss: 4.3786 - val_accuracy: 0.1299 - lr: 9.9846e-04\n",
            "Epoch 3/100\n",
            "100/100 [==============================] - 36s 357ms/step - loss: 1.3082 - accuracy: 0.5347 - val_loss: 2.5239 - val_accuracy: 0.2634 - lr: 9.9744e-04\n",
            "Epoch 4/100\n",
            "100/100 [==============================] - 36s 358ms/step - loss: 1.2121 - accuracy: 0.5713 - val_loss: 1.3681 - val_accuracy: 0.4981 - lr: 9.9591e-04\n",
            "Epoch 5/100\n",
            "100/100 [==============================] - 36s 357ms/step - loss: 1.1107 - accuracy: 0.6091 - val_loss: 1.5031 - val_accuracy: 0.5187 - lr: 9.9386e-04\n",
            "Epoch 6/100\n",
            "100/100 [==============================] - 35s 352ms/step - loss: 1.0329 - accuracy: 0.6382 - val_loss: 1.1748 - val_accuracy: 0.6032 - lr: 9.9132e-04\n",
            "Epoch 7/100\n",
            "100/100 [==============================] - 35s 348ms/step - loss: 0.9611 - accuracy: 0.6675 - val_loss: 1.4219 - val_accuracy: 0.5761 - lr: 9.8827e-04\n",
            "Epoch 8/100\n",
            "100/100 [==============================] - 35s 351ms/step - loss: 0.9019 - accuracy: 0.6917 - val_loss: 1.1868 - val_accuracy: 0.6183 - lr: 9.8473e-04\n",
            "Epoch 9/100\n",
            "100/100 [==============================] - 35s 353ms/step - loss: 0.8575 - accuracy: 0.7089 - val_loss: 1.1741 - val_accuracy: 0.6450 - lr: 9.8070e-04\n",
            "Epoch 10/100\n",
            "100/100 [==============================] - 35s 347ms/step - loss: 0.8141 - accuracy: 0.7245 - val_loss: 1.0066 - val_accuracy: 0.6861 - lr: 9.7618e-04\n",
            "Epoch 11/100\n",
            "100/100 [==============================] - 35s 352ms/step - loss: 0.7781 - accuracy: 0.7402 - val_loss: 1.3531 - val_accuracy: 0.5971 - lr: 9.7119e-04\n",
            "Epoch 12/100\n",
            "100/100 [==============================] - 36s 355ms/step - loss: 0.7483 - accuracy: 0.7499 - val_loss: 0.9095 - val_accuracy: 0.6883 - lr: 9.6572e-04\n",
            "Epoch 13/100\n",
            "100/100 [==============================] - 34s 344ms/step - loss: 0.7145 - accuracy: 0.7614 - val_loss: 0.8431 - val_accuracy: 0.7201 - lr: 9.5980e-04\n",
            "Epoch 14/100\n",
            "100/100 [==============================] - 36s 355ms/step - loss: 0.6835 - accuracy: 0.7730 - val_loss: 0.7219 - val_accuracy: 0.7587 - lr: 9.5342e-04\n",
            "Epoch 15/100\n",
            "100/100 [==============================] - 35s 352ms/step - loss: 0.6571 - accuracy: 0.7814 - val_loss: 0.6752 - val_accuracy: 0.7789 - lr: 9.4660e-04\n",
            "Epoch 16/100\n",
            "100/100 [==============================] - 35s 345ms/step - loss: 0.6321 - accuracy: 0.7921 - val_loss: 0.7612 - val_accuracy: 0.7462 - lr: 9.3934e-04\n",
            "Epoch 17/100\n",
            "100/100 [==============================] - 34s 344ms/step - loss: 0.6101 - accuracy: 0.8002 - val_loss: 0.6275 - val_accuracy: 0.7950 - lr: 9.3166e-04\n",
            "Epoch 18/100\n",
            "100/100 [==============================] - 35s 353ms/step - loss: 0.6072 - accuracy: 0.7999 - val_loss: 0.8520 - val_accuracy: 0.7402 - lr: 9.2357e-04\n",
            "Epoch 19/100\n",
            "100/100 [==============================] - 35s 347ms/step - loss: 0.5819 - accuracy: 0.8082 - val_loss: 0.5927 - val_accuracy: 0.8067 - lr: 9.1509e-04\n",
            "Epoch 20/100\n",
            "100/100 [==============================] - 35s 353ms/step - loss: 0.5629 - accuracy: 0.8142 - val_loss: 0.6658 - val_accuracy: 0.7903 - lr: 9.0621e-04\n",
            "Epoch 21/100\n",
            "100/100 [==============================] - 35s 347ms/step - loss: 0.5382 - accuracy: 0.8227 - val_loss: 0.6393 - val_accuracy: 0.7970 - lr: 8.9696e-04\n",
            "Epoch 22/100\n",
            "100/100 [==============================] - 34s 343ms/step - loss: 0.5249 - accuracy: 0.8275 - val_loss: 0.6470 - val_accuracy: 0.7896 - lr: 8.8735e-04\n",
            "Epoch 23/100\n",
            "100/100 [==============================] - 35s 348ms/step - loss: 0.5121 - accuracy: 0.8312 - val_loss: 0.6009 - val_accuracy: 0.8016 - lr: 8.7740e-04\n",
            "Epoch 24/100\n",
            "100/100 [==============================] - 35s 347ms/step - loss: 0.5091 - accuracy: 0.8335 - val_loss: 0.6653 - val_accuracy: 0.7793 - lr: 8.6710e-04\n",
            "Epoch 25/100\n",
            "100/100 [==============================] - 35s 349ms/step - loss: 0.4827 - accuracy: 0.8406 - val_loss: 0.5435 - val_accuracy: 0.8238 - lr: 8.5650e-04\n",
            "Epoch 26/100\n",
            "100/100 [==============================] - 34s 341ms/step - loss: 0.4809 - accuracy: 0.8435 - val_loss: 0.5677 - val_accuracy: 0.8166 - lr: 8.4558e-04\n",
            "Epoch 27/100\n",
            "100/100 [==============================] - 34s 341ms/step - loss: 0.4666 - accuracy: 0.8467 - val_loss: 0.5622 - val_accuracy: 0.8175 - lr: 8.3438e-04\n",
            "Epoch 28/100\n",
            "100/100 [==============================] - 36s 359ms/step - loss: 0.4525 - accuracy: 0.8499 - val_loss: 0.5553 - val_accuracy: 0.8256 - lr: 8.2291e-04\n",
            "Epoch 29/100\n",
            "100/100 [==============================] - 35s 348ms/step - loss: 0.4416 - accuracy: 0.8555 - val_loss: 0.5902 - val_accuracy: 0.8125 - lr: 8.1117e-04\n",
            "Epoch 30/100\n",
            "100/100 [==============================] - 35s 349ms/step - loss: 0.4279 - accuracy: 0.8587 - val_loss: 0.5289 - val_accuracy: 0.8285 - lr: 7.9919e-04\n",
            "Epoch 31/100\n",
            "100/100 [==============================] - 35s 349ms/step - loss: 0.4263 - accuracy: 0.8599 - val_loss: 0.5318 - val_accuracy: 0.8354 - lr: 7.8699e-04\n",
            "Epoch 32/100\n",
            "100/100 [==============================] - 34s 341ms/step - loss: 0.4145 - accuracy: 0.8642 - val_loss: 0.4494 - val_accuracy: 0.8518 - lr: 7.7458e-04\n",
            "Epoch 33/100\n",
            "100/100 [==============================] - 35s 343ms/step - loss: 0.4051 - accuracy: 0.8669 - val_loss: 0.5698 - val_accuracy: 0.8195 - lr: 7.6197e-04\n",
            "Epoch 34/100\n",
            "100/100 [==============================] - 35s 349ms/step - loss: 0.4014 - accuracy: 0.8662 - val_loss: 0.4980 - val_accuracy: 0.8426 - lr: 7.4918e-04\n",
            "Epoch 35/100\n",
            "100/100 [==============================] - 35s 347ms/step - loss: 0.4010 - accuracy: 0.8675 - val_loss: 0.5280 - val_accuracy: 0.8318 - lr: 7.3622e-04\n",
            "Epoch 36/100\n",
            "100/100 [==============================] - 35s 350ms/step - loss: 0.3816 - accuracy: 0.8734 - val_loss: 0.4047 - val_accuracy: 0.8617 - lr: 7.2312e-04\n",
            "Epoch 37/100\n",
            "100/100 [==============================] - 34s 341ms/step - loss: 0.3764 - accuracy: 0.8758 - val_loss: 0.5600 - val_accuracy: 0.8354 - lr: 7.0989e-04\n",
            "Epoch 38/100\n",
            "100/100 [==============================] - 35s 343ms/step - loss: 0.3593 - accuracy: 0.8819 - val_loss: 0.4843 - val_accuracy: 0.8471 - lr: 6.9655e-04\n",
            "Epoch 39/100\n",
            "100/100 [==============================] - 35s 350ms/step - loss: 0.3583 - accuracy: 0.8811 - val_loss: 0.4737 - val_accuracy: 0.8419 - lr: 6.8310e-04\n",
            "Epoch 40/100\n",
            "100/100 [==============================] - 35s 347ms/step - loss: 0.3429 - accuracy: 0.8864 - val_loss: 0.4505 - val_accuracy: 0.8585 - lr: 6.6957e-04\n",
            "Epoch 41/100\n",
            "100/100 [==============================] - 35s 345ms/step - loss: 0.3435 - accuracy: 0.8852 - val_loss: 0.4820 - val_accuracy: 0.8420 - lr: 6.5598e-04\n",
            "Epoch 42/100\n",
            "100/100 [==============================] - 35s 346ms/step - loss: 0.3419 - accuracy: 0.8863 - val_loss: 0.4813 - val_accuracy: 0.8484 - lr: 6.4232e-04\n",
            "Epoch 43/100\n",
            "100/100 [==============================] - 35s 348ms/step - loss: 0.3260 - accuracy: 0.8903 - val_loss: 0.4466 - val_accuracy: 0.8612 - lr: 6.2864e-04\n",
            "Epoch 44/100\n",
            "100/100 [==============================] - 34s 342ms/step - loss: 0.3211 - accuracy: 0.8925 - val_loss: 0.4592 - val_accuracy: 0.8557 - lr: 6.1492e-04\n",
            "Epoch 45/100\n",
            "100/100 [==============================] - 35s 346ms/step - loss: 0.3121 - accuracy: 0.8948 - val_loss: 0.3991 - val_accuracy: 0.8733 - lr: 6.0120e-04\n",
            "Epoch 46/100\n",
            "100/100 [==============================] - 35s 348ms/step - loss: 0.3093 - accuracy: 0.8973 - val_loss: 0.4720 - val_accuracy: 0.8496 - lr: 5.8748e-04\n",
            "Epoch 47/100\n",
            "100/100 [==============================] - 34s 339ms/step - loss: 0.3091 - accuracy: 0.8977 - val_loss: 0.5090 - val_accuracy: 0.8498 - lr: 5.7378e-04\n",
            "Epoch 48/100\n",
            "100/100 [==============================] - 35s 349ms/step - loss: 0.2950 - accuracy: 0.9028 - val_loss: 0.4385 - val_accuracy: 0.8627 - lr: 5.6011e-04\n",
            "Epoch 49/100\n",
            "100/100 [==============================] - 35s 347ms/step - loss: 0.2939 - accuracy: 0.9017 - val_loss: 0.4197 - val_accuracy: 0.8697 - lr: 5.4649e-04\n",
            "Epoch 50/100\n",
            "100/100 [==============================] - 34s 336ms/step - loss: 0.2824 - accuracy: 0.9059 - val_loss: 0.4056 - val_accuracy: 0.8708 - lr: 5.3293e-04\n",
            "Epoch 51/100\n",
            "100/100 [==============================] - 35s 349ms/step - loss: 0.2832 - accuracy: 0.9039 - val_loss: 0.4134 - val_accuracy: 0.8734 - lr: 5.1943e-04\n",
            "Epoch 52/100\n",
            "100/100 [==============================] - 35s 349ms/step - loss: 0.2791 - accuracy: 0.9081 - val_loss: 0.3990 - val_accuracy: 0.8747 - lr: 5.0602e-04\n",
            "Epoch 53/100\n",
            "100/100 [==============================] - 34s 337ms/step - loss: 0.2709 - accuracy: 0.9083 - val_loss: 0.4204 - val_accuracy: 0.8730 - lr: 4.9270e-04\n",
            "Epoch 54/100\n",
            "100/100 [==============================] - 35s 343ms/step - loss: 0.2655 - accuracy: 0.9121 - val_loss: 0.3960 - val_accuracy: 0.8772 - lr: 4.7949e-04\n",
            "Epoch 55/100\n",
            "100/100 [==============================] - 35s 347ms/step - loss: 0.2612 - accuracy: 0.9126 - val_loss: 0.3563 - val_accuracy: 0.8849 - lr: 4.6639e-04\n",
            "Epoch 56/100\n",
            "100/100 [==============================] - 35s 347ms/step - loss: 0.2560 - accuracy: 0.9158 - val_loss: 0.4035 - val_accuracy: 0.8799 - lr: 4.5342e-04\n",
            "Epoch 57/100\n",
            "100/100 [==============================] - 34s 342ms/step - loss: 0.2480 - accuracy: 0.9166 - val_loss: 0.3636 - val_accuracy: 0.8858 - lr: 4.4058e-04\n",
            "Epoch 58/100\n",
            "100/100 [==============================] - 35s 345ms/step - loss: 0.2537 - accuracy: 0.9149 - val_loss: 0.3776 - val_accuracy: 0.8835 - lr: 4.2788e-04\n",
            "Epoch 59/100\n",
            "100/100 [==============================] - 34s 343ms/step - loss: 0.2413 - accuracy: 0.9193 - val_loss: 0.4444 - val_accuracy: 0.8693 - lr: 4.1534e-04\n",
            "Epoch 60/100\n",
            "100/100 [==============================] - 34s 341ms/step - loss: 0.2315 - accuracy: 0.9209 - val_loss: 0.3881 - val_accuracy: 0.8810 - lr: 4.0296e-04\n",
            "Epoch 61/100\n",
            "100/100 [==============================] - 35s 348ms/step - loss: 0.2336 - accuracy: 0.9207 - val_loss: 0.3818 - val_accuracy: 0.8789 - lr: 3.9075e-04\n",
            "Epoch 62/100\n",
            "100/100 [==============================] - 35s 346ms/step - loss: 0.2221 - accuracy: 0.9257 - val_loss: 0.3965 - val_accuracy: 0.8757 - lr: 3.7871e-04\n",
            "Epoch 63/100\n",
            "100/100 [==============================] - 33s 331ms/step - loss: 0.2197 - accuracy: 0.9252 - val_loss: 0.4080 - val_accuracy: 0.8782 - lr: 3.6686e-04\n",
            "Epoch 64/100\n",
            "100/100 [==============================] - 34s 335ms/step - loss: 0.2180 - accuracy: 0.9275 - val_loss: 0.3697 - val_accuracy: 0.8866 - lr: 3.5519e-04\n",
            "Epoch 65/100\n",
            "100/100 [==============================] - 34s 340ms/step - loss: 0.2178 - accuracy: 0.9268 - val_loss: 0.3624 - val_accuracy: 0.8842 - lr: 3.4372e-04\n",
            "Epoch 66/100\n",
            "100/100 [==============================] - 34s 341ms/step - loss: 0.2125 - accuracy: 0.9282 - val_loss: 0.4294 - val_accuracy: 0.8740 - lr: 3.3245e-04\n",
            "Epoch 67/100\n",
            "100/100 [==============================] - 34s 340ms/step - loss: 0.2076 - accuracy: 0.9301 - val_loss: 0.3683 - val_accuracy: 0.8862 - lr: 3.2138e-04\n",
            "Epoch 68/100\n",
            "100/100 [==============================] - 34s 338ms/step - loss: 0.2006 - accuracy: 0.9334 - val_loss: 0.4158 - val_accuracy: 0.8824 - lr: 3.1053e-04\n",
            "Epoch 69/100\n",
            "100/100 [==============================] - 34s 337ms/step - loss: 0.1966 - accuracy: 0.9334 - val_loss: 0.4235 - val_accuracy: 0.8767 - lr: 2.9988e-04\n",
            "Epoch 70/100\n",
            "100/100 [==============================] - 34s 338ms/step - loss: 0.1983 - accuracy: 0.9326 - val_loss: 0.3491 - val_accuracy: 0.8929 - lr: 2.8945e-04\n",
            "Epoch 71/100\n",
            "100/100 [==============================] - 34s 334ms/step - loss: 0.1940 - accuracy: 0.9356 - val_loss: 0.3874 - val_accuracy: 0.8845 - lr: 2.7925e-04\n",
            "Epoch 72/100\n",
            "100/100 [==============================] - 34s 334ms/step - loss: 0.1933 - accuracy: 0.9349 - val_loss: 0.3584 - val_accuracy: 0.8895 - lr: 2.6926e-04\n",
            "Epoch 73/100\n",
            "100/100 [==============================] - 34s 342ms/step - loss: 0.1854 - accuracy: 0.9369 - val_loss: 0.4030 - val_accuracy: 0.8831 - lr: 2.5950e-04\n",
            "Epoch 74/100\n",
            "100/100 [==============================] - 34s 340ms/step - loss: 0.1837 - accuracy: 0.9371 - val_loss: 0.3492 - val_accuracy: 0.8924 - lr: 2.4996e-04\n",
            "Epoch 75/100\n",
            "100/100 [==============================] - 34s 341ms/step - loss: 0.1771 - accuracy: 0.9393 - val_loss: 0.3350 - val_accuracy: 0.9002 - lr: 2.4065e-04\n",
            "Epoch 76/100\n",
            "100/100 [==============================] - 34s 342ms/step - loss: 0.1822 - accuracy: 0.9383 - val_loss: 0.3564 - val_accuracy: 0.8908 - lr: 2.3157e-04\n",
            "Epoch 77/100\n",
            "100/100 [==============================] - 34s 339ms/step - loss: 0.1759 - accuracy: 0.9413 - val_loss: 0.3707 - val_accuracy: 0.8890 - lr: 2.2271e-04\n",
            "Epoch 78/100\n",
            "100/100 [==============================] - 34s 342ms/step - loss: 0.1699 - accuracy: 0.9417 - val_loss: 0.3616 - val_accuracy: 0.8912 - lr: 2.1409e-04\n",
            "Epoch 79/100\n",
            "100/100 [==============================] - 34s 339ms/step - loss: 0.1661 - accuracy: 0.9431 - val_loss: 0.3616 - val_accuracy: 0.8953 - lr: 2.0569e-04\n",
            "Epoch 80/100\n",
            "100/100 [==============================] - 34s 340ms/step - loss: 0.1666 - accuracy: 0.9429 - val_loss: 0.3754 - val_accuracy: 0.8924 - lr: 1.9752e-04\n",
            "Epoch 81/100\n",
            "100/100 [==============================] - 34s 340ms/step - loss: 0.1693 - accuracy: 0.9425 - val_loss: 0.3904 - val_accuracy: 0.8857 - lr: 1.8958e-04\n",
            "Epoch 82/100\n",
            "100/100 [==============================] - 34s 339ms/step - loss: 0.1620 - accuracy: 0.9454 - val_loss: 0.3657 - val_accuracy: 0.8946 - lr: 1.8187e-04\n",
            "Epoch 83/100\n",
            "100/100 [==============================] - 34s 335ms/step - loss: 0.1593 - accuracy: 0.9453 - val_loss: 0.3707 - val_accuracy: 0.8929 - lr: 1.7438e-04\n",
            "Epoch 84/100\n",
            "100/100 [==============================] - 34s 340ms/step - loss: 0.1570 - accuracy: 0.9475 - val_loss: 0.3712 - val_accuracy: 0.8930 - lr: 1.6711e-04\n",
            "Epoch 85/100\n",
            "100/100 [==============================] - 34s 339ms/step - loss: 0.1505 - accuracy: 0.9490 - val_loss: 0.4066 - val_accuracy: 0.8855 - lr: 1.6006e-04\n",
            "Epoch 86/100\n",
            "100/100 [==============================] - 34s 338ms/step - loss: 0.1546 - accuracy: 0.9470 - val_loss: 0.3646 - val_accuracy: 0.8961 - lr: 1.5323e-04\n",
            "Epoch 87/100\n",
            "100/100 [==============================] - 34s 338ms/step - loss: 0.1453 - accuracy: 0.9508 - val_loss: 0.3919 - val_accuracy: 0.8895 - lr: 1.4662e-04\n",
            "Epoch 88/100\n",
            "100/100 [==============================] - 34s 338ms/step - loss: 0.1518 - accuracy: 0.9465 - val_loss: 0.3646 - val_accuracy: 0.8955 - lr: 1.4022e-04\n",
            "Epoch 89/100\n",
            "100/100 [==============================] - 34s 337ms/step - loss: 0.1453 - accuracy: 0.9510 - val_loss: 0.3646 - val_accuracy: 0.8947 - lr: 1.3403e-04\n",
            "Epoch 90/100\n",
            "100/100 [==============================] - 33s 333ms/step - loss: 0.1431 - accuracy: 0.9512 - val_loss: 0.3673 - val_accuracy: 0.8924 - lr: 1.2805e-04\n",
            "Epoch 91/100\n",
            "100/100 [==============================] - 34s 336ms/step - loss: 0.1431 - accuracy: 0.9510 - val_loss: 0.3449 - val_accuracy: 0.9007 - lr: 1.2227e-04\n",
            "Epoch 92/100\n",
            "100/100 [==============================] - 34s 343ms/step - loss: 0.1405 - accuracy: 0.9522 - val_loss: 0.3979 - val_accuracy: 0.8925 - lr: 1.1670e-04\n",
            "Epoch 93/100\n",
            "100/100 [==============================] - 34s 340ms/step - loss: 0.1374 - accuracy: 0.9526 - val_loss: 0.3700 - val_accuracy: 0.8950 - lr: 1.1132e-04\n",
            "Epoch 94/100\n",
            "100/100 [==============================] - 34s 343ms/step - loss: 0.1361 - accuracy: 0.9531 - val_loss: 0.3527 - val_accuracy: 0.8965 - lr: 1.0613e-04\n",
            "Epoch 95/100\n",
            "100/100 [==============================] - 34s 337ms/step - loss: 0.1367 - accuracy: 0.9535 - val_loss: 0.3603 - val_accuracy: 0.8968 - lr: 1.0114e-04\n"
          ]
        }
      ],
      "source": [
        "# Set the callbackes\n",
        "from keras.callbacks import EarlyStopping\n",
        "early_stopping = EarlyStopping(monitor='val_loss', patience=20)\n",
        "\n",
        "from keras.callbacks import LearningRateScheduler\n",
        "def exponential_decay(epoch, lr):\n",
        "    decay_rate = 0.95\n",
        "    decay_steps = epochs\n",
        "    new_lr = lr * (decay_rate ** (epoch / decay_steps))\n",
        "    return new_lr\n",
        "lr_scheduler = LearningRateScheduler(exponential_decay)\n",
        "\n",
        "history = model.fit(generator.flow(x_train, y_train, batch_size=batch_size),\n",
        "                    steps_per_epoch=len(x_train) / batch_size,\n",
        "                    epochs=epochs,\n",
        "                    validation_data=(x_test, y_test),\n",
        "                    validation_steps=len(x_test) / batch_size,\n",
        "                    callbacks=[lr_scheduler, early_stopping])"
      ]
    },
    {
      "cell_type": "markdown",
      "metadata": {
        "id": "arIHJNmlU8AR"
      },
      "source": [
        "## Evaluate the model"
      ]
    },
    {
      "cell_type": "code",
      "execution_count": 7,
      "metadata": {
        "colab": {
          "base_uri": "https://localhost:8080/",
          "height": 548
        },
        "id": "hioVctbmU8AR",
        "outputId": "fbd9501d-c855-42e1-e6be-b0fdd8c82185"
      },
      "outputs": [
        {
          "data": {
            "image/png": "[encoded data removed]",
            "text/plain": [
              "<Figure size 432x288 with 1 Axes>"
            ]
          },
          "metadata": {
            "needs_background": "light"
          },
          "output_type": "display_data"
        },
        {
          "data": {
            "image/png": "[encoded data removed]",
            "text/plain": [
              "<Figure size 432x288 with 1 Axes>"
            ]
          },
          "metadata": {
            "needs_background": "light"
          },
          "output_type": "display_data"
        },
        {
          "name": "stdout",
          "output_type": "stream",
          "text": [
            "Test loss: 0.3603251278400421\n",
            "Test accuracy: 0.8967999815940857\n"
          ]
        }
      ],
      "source": [
        "# Plot the loss and accuracy curves for training and validation\n",
        "import matplotlib.pyplot as plt\n",
        "import numpy as np\n",
        "\n",
        "train_loss = history.history['loss']\n",
        "val_loss = history.history['val_loss']\n",
        "train_acc = history.history['accuracy']\n",
        "val_acc = history.history['val_accuracy']\n",
        "\n",
        "plt.plot(np.arange(len(train_loss)), train_loss, label='train_loss')\n",
        "plt.plot(np.arange(len(val_loss)), val_loss, label='val_loss')\n",
        "plt.legend()\n",
        "plt.show()\n",
        "\n",
        "plt.plot(np.arange(len(train_acc)), train_acc, label='train_accuracy')\n",
        "plt.plot(np.arange(len(val_acc)), val_acc, label='val_accuracy')\n",
        "plt.legend()\n",
        "plt.show()\n",
        "\n",
        "# Evaluate the model on the test data using `evaluate`\n",
        "loss, acc = model.evaluate(x_test, y_test, verbose=0)\n",
        "print('Test loss:', loss)\n",
        "print('Test accuracy:', acc)"
      ]
    },
    {
      "attachments": {},
      "cell_type": "markdown",
      "metadata": {},
      "source": [
        "## Save the model"
      ]
    },
    {
      "cell_type": "code",
      "execution_count": null,
      "metadata": {},
      "outputs": [],
      "source": [
        "from google.colab import files\n",
        "\n",
        "# save the model\n",
        "model.save('cifar10_model.h5', include_optimizer=False)\n",
        "files.download('cifar10_model.h5')"
      ]
    }
  ],
  "metadata": {
    "accelerator": "GPU",
    "colab": {
      "provenance": []
    },
    "gpuClass": "standard",
    "kernelspec": {
      "display_name": "ai-master",
      "language": "python",
      "name": "python3"
    },
    "language_info": {
      "name": "python",
      "version": "3.7.16 (default, Jan 17 2023, 09:28:58) \n[Clang 14.0.6 ]"
    },
    "orig_nbformat": 4,
    "vscode": {
      "interpreter": {
        "hash": "2512312fceb6e908b1c6087f9c29f0bb0c93a332146a69690954edd67c2954cb"
      }
    }
  },
  "nbformat": 4,
  "nbformat_minor": 0
}
