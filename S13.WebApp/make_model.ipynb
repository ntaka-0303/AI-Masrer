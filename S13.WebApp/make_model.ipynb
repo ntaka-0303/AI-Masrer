{
  "cells": [
    {
      "cell_type": "markdown",
      "metadata": {
        "id": "BWo38ARqltn8"
      },
      "source": [
        "# Training and saving the CNN model\n",
        "* Dataset: CIFAR10\n",
        "* Model: VGG16 + hidden-layer + full-coupled layer\n",
        "* Framework: Tensorflow"
      ]
    },
    {
      "cell_type": "markdown",
      "metadata": {
        "id": "mZvi_715ltoB"
      },
      "source": [
        "## Load the dataset"
      ]
    },
    {
      "cell_type": "code",
      "execution_count": 1,
      "metadata": {
        "id": "aasjC8EhltoB"
      },
      "outputs": [],
      "source": [
        "import numpy as np\n",
        "import tensorflow as tf\n",
        "\n",
        "# load cifar10 dataset\n",
        "(x_train, y_train), (x_test, y_test) = tf.keras.datasets.cifar10.load_data()\n",
        "\n",
        "# extract the data only for the classes 0 and 1\n",
        "y_train = y_train.reshape(-1)\n",
        "y_test = y_test.reshape(-1)\n",
        "x_train = x_train[y_train <= 1]\n",
        "y_train = y_train[y_train <= 1]\n",
        "x_test = x_test[y_test <= 1]\n",
        "y_test = y_test[y_test <= 1]\n",
        "\n",
        "# zoom in on the images from 32x32 to 64x64\n",
        "x_train = np.repeat(x_train, 2, axis=1)\n",
        "x_train = np.repeat(x_train, 2, axis=2)\n",
        "x_test = np.repeat(x_test, 2, axis=1)\n",
        "x_test = np.repeat(x_test, 2, axis=2)\n",
        "\n",
        "# normalize data\n",
        "x_train = x_train.astype('float32') / 255\n",
        "x_test = x_test.astype('float32')  / 255"
      ]
    },
    {
      "cell_type": "markdown",
      "metadata": {
        "id": "zAjMfEpcltoD"
      },
      "source": [
        "## Build the model"
      ]
    },
    {
      "cell_type": "code",
      "execution_count": 2,
      "metadata": {
        "id": "Hal52AnlltoD",
        "outputId": "59781f20-f80d-4b98-ce8c-2c11c1fafefc",
        "colab": {
          "base_uri": "https://localhost:8080/",
          "height": 240
        }
      },
      "outputs": [
        {
          "output_type": "error",
          "ename": "AttributeError",
          "evalue": "ignored",
          "traceback": [
            "\u001b[0;31m---------------------------------------------------------------------------\u001b[0m",
            "\u001b[0;31mAttributeError\u001b[0m                            Traceback (most recent call last)",
            "\u001b[0;32m<ipython-input-2-24f6e15a1896>\u001b[0m in \u001b[0;36m<module>\u001b[0;34m\u001b[0m\n\u001b[1;32m     18\u001b[0m \u001b[0;34m\u001b[0m\u001b[0m\n\u001b[1;32m     19\u001b[0m \u001b[0;31m# load the VGG16 model\u001b[0m\u001b[0;34m\u001b[0m\u001b[0;34m\u001b[0m\u001b[0m\n\u001b[0;32m---> 20\u001b[0;31m \u001b[0mvgg16\u001b[0m \u001b[0;34m=\u001b[0m \u001b[0mtf\u001b[0m\u001b[0;34m.\u001b[0m\u001b[0mkeras\u001b[0m\u001b[0;34m.\u001b[0m\u001b[0mactivations\u001b[0m\u001b[0;34m.\u001b[0m\u001b[0mVGG16\u001b[0m\u001b[0;34m(\u001b[0m\u001b[0mweights\u001b[0m\u001b[0;34m=\u001b[0m\u001b[0;34m'imagenet'\u001b[0m\u001b[0;34m,\u001b[0m \u001b[0minclude_top\u001b[0m\u001b[0;34m=\u001b[0m\u001b[0;32mFalse\u001b[0m\u001b[0;34m,\u001b[0m \u001b[0minput_shape\u001b[0m\u001b[0;34m=\u001b[0m\u001b[0;34m(\u001b[0m\u001b[0mimg_size\u001b[0m\u001b[0;34m,\u001b[0m \u001b[0mimg_size\u001b[0m\u001b[0;34m,\u001b[0m \u001b[0mn_channels\u001b[0m\u001b[0;34m)\u001b[0m\u001b[0;34m)\u001b[0m\u001b[0;34m\u001b[0m\u001b[0;34m\u001b[0m\u001b[0m\n\u001b[0m\u001b[1;32m     21\u001b[0m \u001b[0mvgg16\u001b[0m\u001b[0;34m.\u001b[0m\u001b[0msummary\u001b[0m\u001b[0;34m(\u001b[0m\u001b[0;34m)\u001b[0m\u001b[0;34m\u001b[0m\u001b[0;34m\u001b[0m\u001b[0m\n\u001b[1;32m     22\u001b[0m \u001b[0;34m\u001b[0m\u001b[0m\n",
            "\u001b[0;31mAttributeError\u001b[0m: module 'keras.api._v2.keras.activations' has no attribute 'VGG16'"
          ]
        }
      ],
      "source": [
        "# set up the hyperparameters\n",
        "batch_size = 500\n",
        "epochs = 100\n",
        "img_size = 64\n",
        "n_channels = 3\n",
        "n_hidden = 256\n",
        "n_classes = 10\n",
        "init_lr = 0.001\n",
        "\n",
        "# set up the learning rate scheduler\n",
        "lr_schedule = tf.keras.optimizers.schedules.ExponentialDecay(\n",
        "    init_lr,\n",
        "    decay_steps=10000,\n",
        "    decay_rate=0.99)\n",
        "\n",
        "# set up the optimizer\n",
        "opt = tf.keras.optimizers.Adam(learning_rate=lr_schedule)\n",
        "\n",
        "# \n",
        "\n",
        "# load the MobileNetV2 model\n",
        "base_model = tf.keras.activations.MobileNetV2(weights='imagenet', include_top=False, input_shape=(img_size, img_size, n_channels))\n",
        "base_model.summary()\n",
        "\n",
        "# set up the model \n",
        "model = tf.keras.models.Seaquential()\n",
        "model.add(base_model)\n",
        "\n",
        "# freeze the weights of the VGG16 model\n",
        "base_model.trainable = False\n",
        "\n",
        "# add the layers\n",
        "model.add(tf.keras.layers.Conv2D(n_hidden, (3, 3), padding='same', activation='relu'))\n",
        "model.add(tf.keras.layers.Conv2D(n_hidden, (3, 3), activation='relu'))\n",
        "model.add(tf.keras.layers.Conv2D(n_hidden, (3, 3), activation='relu'))\n",
        "model.add(tf.keras.layers.BatchNormalization())\n",
        "model.add(tf.keras.layers.MaxPooling2D(pool_size=(2, 2)))\n",
        "model.add(tf.keras.layers.Dropout(0.25))\n",
        "model.add(tf.keras.layers.Flatten())\n",
        "model.add(tf.keras.layers.Dense(512, activation='relu'))\n",
        "model.add(tf.keras.layers.Dropout(0.5))\n",
        "model.add(tf.keras.layers.Dense(n_classes, activation='softmax'))\n",
        "\n",
        "\n",
        "# compile the model\n",
        "model.compile(loss='categorical_crossentropy', optimizer=opt, metrics=['accuracy'])\n",
        "model.summary()"
      ]
    },
    {
      "cell_type": "markdown",
      "metadata": {
        "id": "ZM4LreBDltoG"
      },
      "source": [
        "## Train the model"
      ]
    },
    {
      "cell_type": "code",
      "execution_count": null,
      "metadata": {
        "id": "Pk0_B31IltoH"
      },
      "outputs": [],
      "source": [
        "# set up the early stopping callback\n",
        "early_stopping = tf.keras.callbacks.EarlyStopping(monitor='val_loss', patience=10)\n",
        "\n",
        "# data augmentation\n",
        "datagen = tf.keras.preprocessing.image.ImageDataGenerator(\n",
        "    rotation_range=20,\n",
        "    width_shift_range=0.2,\n",
        "    height_shift_range=0.2,\n",
        "    shear_range=10,\n",
        "    zoom_range=0.2,\n",
        "    horizontal_flip=True)\n",
        "datagen.fit(x_train)\n",
        "\n",
        "# train the model\n",
        "history = model.fit(datagen.flow(x_train, y_train, batch_size=batch_size),\n",
        "                    steps_per_epoch=x_train.shape[0] // batch_size,\n",
        "                    epochs=epochs,\n",
        "                    validation_data=(x_test, y_test),\n",
        "                    validation_steps=x_test.shape[0] // batch_size,\n",
        "                    callbacks=[early_stopping])\n"
      ]
    },
    {
      "cell_type": "markdown",
      "metadata": {
        "id": "p1FRg5H3ltoH"
      },
      "source": [
        "## Evaluate the model"
      ]
    },
    {
      "cell_type": "code",
      "execution_count": null,
      "metadata": {
        "id": "rkmfe2yYltoI"
      },
      "outputs": [],
      "source": [
        "import matplotlib.pyplot as plt\n",
        "\n",
        "# set up the parameters\n",
        "train_loss = history.history['loss']\n",
        "val_loss = history.history['val_loss']\n",
        "train_acc = history.history['accuracy']\n",
        "val_acc = history.history['val_accuracy']\n",
        "\n",
        "# plot the loss of the training and validation sets\n",
        "plt.plot(xc, train_loss, label='train_loss')\n",
        "plt.plot(xc, val_loss, label='val_loss')\n",
        "plt.xlabel('Epochs')\n",
        "plt.ylabel('Loss')\n",
        "plt.legend()\n",
        "plt.show()\n",
        "\n",
        "# plot the accuracy of the training and validation sets\n",
        "plt.plot(xc, train_acc, label='train_acc')\n",
        "plt.plot(xc, val_acc, label='val_acc')\n",
        "plt.xlabel('Epochs')\n",
        "plt.ylabel('Accuracy')\n",
        "plt.legend()\n",
        "plt.show()\n",
        "\n",
        "# Evaluate the model on the test data using `evaluate`\n",
        "loss, acc = model.evaluate(x_test, y_test, verbose=0)\n",
        "print('Test loss:', loss)\n",
        "print('Test accuracy:', acc)"
      ]
    },
    {
      "cell_type": "markdown",
      "metadata": {
        "id": "hWESXTA-ltoI"
      },
      "source": [
        "## Save the model"
      ]
    },
    {
      "cell_type": "code",
      "execution_count": null,
      "metadata": {
        "id": "ZaXYn-KiltoI"
      },
      "outputs": [],
      "source": [
        "from google.colab import files\n",
        "\n",
        "# save the model\n",
        "model.save('cifar10_model.h5', include_optimizer=False)\n",
        "files.download('cifar10_model.h5')"
      ]
    }
  ],
  "metadata": {
    "kernelspec": {
      "display_name": "ai-master",
      "language": "python",
      "name": "python3"
    },
    "language_info": {
      "codemirror_mode": {
        "name": "ipython",
        "version": 3
      },
      "file_extension": ".py",
      "mimetype": "text/x-python",
      "name": "python",
      "nbconvert_exporter": "python",
      "pygments_lexer": "ipython3",
      "version": "3.7.16"
    },
    "orig_nbformat": 4,
    "vscode": {
      "interpreter": {
        "hash": "2512312fceb6e908b1c6087f9c29f0bb0c93a332146a69690954edd67c2954cb"
      }
    },
    "colab": {
      "provenance": []
    },
    "accelerator": "GPU",
    "gpuClass": "standard"
  },
  "nbformat": 4,
  "nbformat_minor": 0
}