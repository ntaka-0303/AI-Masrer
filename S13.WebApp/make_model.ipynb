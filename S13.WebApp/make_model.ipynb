{
  "cells": [
    {
      "cell_type": "markdown",
      "metadata": {
        "id": "mqAxv_QFU7_-"
      },
      "source": [
        "# Training and saving the CNN model"
      ]
    },
    {
      "cell_type": "markdown",
      "metadata": {
        "id": "ODI5JqKvU8AC"
      },
      "source": [
        "## Load the data and Preprocess the data"
      ]
    },
    {
      "cell_type": "code",
      "execution_count": 1,
      "metadata": {
        "colab": {
          "base_uri": "https://localhost:8080/"
        },
        "id": "Zjc75QArU8AD",
        "outputId": "4ae29f3f-76ec-4eb2-86b8-43c590991ac3"
      },
      "outputs": [
        {
          "output_type": "stream",
          "name": "stdout",
          "text": [
            "Downloading data from https://www.cs.toronto.edu/~kriz/cifar-10-python.tar.gz\n",
            "170498071/170498071 [==============================] - 7s 0us/step\n"
          ]
        }
      ],
      "source": [
        "import keras\n",
        "from keras.datasets import cifar10\n",
        "from keras.preprocessing.image import ImageDataGenerator\n",
        "\n",
        "# Load the CIFAR10 data.\n",
        "(x_train, y_train), (x_test, y_test) = cifar10.load_data()\n",
        "\n",
        "# Convert class vectors to binary class matrices.\n",
        "y_train = keras.utils.to_categorical(y_train, 10)\n",
        "y_test = keras.utils.to_categorical(y_test, 10)\n",
        "\n",
        "# Normalize the data.\n",
        "x_train = x_train.astype('float32')\n",
        "x_test = x_test.astype('float32')\n",
        "x_train /= 255\n",
        "x_test /= 255\n",
        "\n",
        "# Create ImageDataGenerator objects for data augmentation.\n",
        "from keras.preprocessing.image import ImageDataGenerator\n",
        "generator = ImageDataGenerator(\n",
        "    rotation_range=20,\n",
        "    width_shift_range=0.2,\n",
        "    height_shift_range=0.2,\n",
        "    horizontal_flip=True)\n",
        "generator.fit(x_train)"
      ]
    },
    {
      "cell_type": "markdown",
      "metadata": {
        "id": "TdYdPqyLU8AF"
      },
      "source": [
        "## Build the model"
      ]
    },
    {
      "cell_type": "code",
      "execution_count": 2,
      "metadata": {
        "colab": {
          "base_uri": "https://localhost:8080/"
        },
        "id": "24Gx7NrxU8AH",
        "outputId": "792df503-ca92-4466-cf04-1c4b70fb8626"
      },
      "outputs": [
        {
          "output_type": "stream",
          "name": "stdout",
          "text": [
            "Model: \"sequential\"\n",
            "_________________________________________________________________\n",
            " Layer (type)                Output Shape              Param #   \n",
            "=================================================================\n",
            " conv2d (Conv2D)             (None, 32, 32, 64)        1792      \n",
            "                                                                 \n",
            " conv2d_1 (Conv2D)           (None, 32, 32, 64)        36928     \n",
            "                                                                 \n",
            " conv2d_2 (Conv2D)           (None, 32, 32, 64)        36928     \n",
            "                                                                 \n",
            " batch_normalization (BatchN  (None, 32, 32, 64)       256       \n",
            " ormalization)                                                   \n",
            "                                                                 \n",
            " max_pooling2d (MaxPooling2D  (None, 16, 16, 64)       0         \n",
            " )                                                               \n",
            "                                                                 \n",
            " dropout (Dropout)           (None, 16, 16, 64)        0         \n",
            "                                                                 \n",
            " conv2d_3 (Conv2D)           (None, 16, 16, 128)       73856     \n",
            "                                                                 \n",
            " conv2d_4 (Conv2D)           (None, 16, 16, 128)       147584    \n",
            "                                                                 \n",
            " batch_normalization_1 (Batc  (None, 16, 16, 128)      512       \n",
            " hNormalization)                                                 \n",
            "                                                                 \n",
            " conv2d_5 (Conv2D)           (None, 16, 16, 128)       147584    \n",
            "                                                                 \n",
            " max_pooling2d_1 (MaxPooling  (None, 8, 8, 128)        0         \n",
            " 2D)                                                             \n",
            "                                                                 \n",
            " dropout_1 (Dropout)         (None, 8, 8, 128)         0         \n",
            "                                                                 \n",
            " conv2d_6 (Conv2D)           (None, 8, 8, 256)         295168    \n",
            "                                                                 \n",
            " conv2d_7 (Conv2D)           (None, 8, 8, 256)         590080    \n",
            "                                                                 \n",
            " batch_normalization_2 (Batc  (None, 8, 8, 256)        1024      \n",
            " hNormalization)                                                 \n",
            "                                                                 \n",
            " conv2d_8 (Conv2D)           (None, 8, 8, 512)         1180160   \n",
            "                                                                 \n",
            " conv2d_9 (Conv2D)           (None, 8, 8, 512)         2359808   \n",
            "                                                                 \n",
            " max_pooling2d_2 (MaxPooling  (None, 4, 4, 512)        0         \n",
            " 2D)                                                             \n",
            "                                                                 \n",
            " dropout_2 (Dropout)         (None, 4, 4, 512)         0         \n",
            "                                                                 \n",
            " flatten (Flatten)           (None, 8192)              0         \n",
            "                                                                 \n",
            " dense (Dense)               (None, 1024)              8389632   \n",
            "                                                                 \n",
            " dropout_3 (Dropout)         (None, 1024)              0         \n",
            "                                                                 \n",
            " dense_1 (Dense)             (None, 1024)              1049600   \n",
            "                                                                 \n",
            " dropout_4 (Dropout)         (None, 1024)              0         \n",
            "                                                                 \n",
            " dense_2 (Dense)             (None, 10)                10250     \n",
            "                                                                 \n",
            "=================================================================\n",
            "Total params: 14,321,162\n",
            "Trainable params: 14,320,266\n",
            "Non-trainable params: 896\n",
            "_________________________________________________________________\n"
          ]
        }
      ],
      "source": [
        "# Set the parameters for the model.\n",
        "batch_size = 500\n",
        "num_classes = 10\n",
        "epochs = 100\n",
        "init_lr = 0.001\n",
        "\n",
        "# Set the opimizer\n",
        "from keras.optimizers import Adam\n",
        "optimizer = Adam(learning_rate=init_lr)\n",
        "\n",
        "\n",
        "# Define the model.\n",
        "from keras.models import Sequential\n",
        "from keras.layers import Dense, Dropout, Flatten, BatchNormalization\n",
        "from keras.layers import Conv2D, MaxPooling2D\n",
        "\n",
        "model = Sequential()\n",
        "\n",
        "model.add(Conv2D(64, (3, 3), padding='same', activation='relu', input_shape=x_train.shape[1:]))\n",
        "model.add(Conv2D(64, (3, 3), padding='same', activation='relu'))\n",
        "model.add(Conv2D(64, (3, 3), padding='same', activation='relu'))\n",
        "model.add(BatchNormalization())\n",
        "model.add(MaxPooling2D(pool_size=(2, 2)))\n",
        "model.add(Dropout(0.25))\n",
        "\n",
        "model.add(Conv2D(128, (3, 3), padding='same', activation='relu'))\n",
        "model.add(Conv2D(128, (3, 3), padding='same', activation='relu'))\n",
        "model.add(BatchNormalization())\n",
        "model.add(Conv2D(128, (3, 3), padding='same', activation='relu'))\n",
        "model.add(MaxPooling2D(pool_size=(2, 2)))\n",
        "model.add(Dropout(0.25))\n",
        "\n",
        "model.add(Conv2D(256, (3, 3), padding='same', activation='relu'))\n",
        "model.add(Conv2D(256, (3, 3), padding='same', activation='relu'))\n",
        "model.add(BatchNormalization())\n",
        "model.add(Conv2D(512, (3, 3), padding='same', activation='relu'))\n",
        "model.add(Conv2D(512, (3, 3), padding='same', activation='relu'))\n",
        "model.add(MaxPooling2D(pool_size=(2, 2)))\n",
        "model.add(Dropout(0.25))\n",
        "\n",
        "model.add(Flatten())\n",
        "model.add(Dense(1024, activation='relu'))\n",
        "model.add(Dropout(0.5))\n",
        "model.add(Dense(1024, activation='relu'))\n",
        "model.add(Dropout(0.5))\n",
        "model.add(Dense(num_classes, activation='softmax'))\n",
        "\n",
        "# Compile the model.\n",
        "model.compile(loss='categorical_crossentropy', optimizer=optimizer, metrics=['accuracy'])\n",
        "model.summary()"
      ]
    },
    {
      "cell_type": "markdown",
      "metadata": {
        "id": "GEacCqrQU8AP"
      },
      "source": [
        "## Train the model"
      ]
    },
    {
      "cell_type": "code",
      "execution_count": 3,
      "metadata": {
        "colab": {
          "base_uri": "https://localhost:8080/"
        },
        "id": "Vxr_9n6hU8AQ",
        "outputId": "38fa7e60-d0ff-43d8-d7d2-b4cb8cf1461c"
      },
      "outputs": [
        {
          "output_type": "stream",
          "name": "stdout",
          "text": [
            "Epoch 1/100\n",
            "100/100 [==============================] - 50s 353ms/step - loss: 2.2680 - accuracy: 0.1868 - val_loss: 2.3022 - val_accuracy: 0.1358 - lr: 0.0010\n",
            "Epoch 2/100\n",
            "100/100 [==============================] - 37s 364ms/step - loss: 1.8934 - accuracy: 0.2840 - val_loss: 3.0657 - val_accuracy: 0.1029 - lr: 9.9949e-04\n",
            "Epoch 3/100\n",
            "100/100 [==============================] - 35s 352ms/step - loss: 1.7180 - accuracy: 0.3503 - val_loss: 2.3646 - val_accuracy: 0.2031 - lr: 9.9846e-04\n",
            "Epoch 4/100\n",
            "100/100 [==============================] - 35s 352ms/step - loss: 1.5802 - accuracy: 0.4066 - val_loss: 1.7572 - val_accuracy: 0.3646 - lr: 9.9693e-04\n",
            "Epoch 5/100\n",
            "100/100 [==============================] - 35s 347ms/step - loss: 1.4550 - accuracy: 0.4659 - val_loss: 1.4176 - val_accuracy: 0.4791 - lr: 9.9488e-04\n",
            "Epoch 6/100\n",
            "100/100 [==============================] - 34s 343ms/step - loss: 1.3257 - accuracy: 0.5260 - val_loss: 1.3060 - val_accuracy: 0.5365 - lr: 9.9234e-04\n",
            "Epoch 7/100\n",
            "100/100 [==============================] - 35s 349ms/step - loss: 1.2101 - accuracy: 0.5730 - val_loss: 1.2307 - val_accuracy: 0.5751 - lr: 9.8929e-04\n",
            "Epoch 8/100\n",
            "100/100 [==============================] - 36s 354ms/step - loss: 1.1119 - accuracy: 0.6146 - val_loss: 1.2088 - val_accuracy: 0.5841 - lr: 9.8574e-04\n",
            "Epoch 9/100\n",
            "100/100 [==============================] - 35s 350ms/step - loss: 1.0409 - accuracy: 0.6424 - val_loss: 1.2745 - val_accuracy: 0.5827 - lr: 9.8170e-04\n",
            "Epoch 10/100\n",
            "100/100 [==============================] - 35s 346ms/step - loss: 0.9752 - accuracy: 0.6668 - val_loss: 1.4304 - val_accuracy: 0.5452 - lr: 9.7718e-04\n",
            "Epoch 11/100\n",
            "100/100 [==============================] - 35s 348ms/step - loss: 0.9266 - accuracy: 0.6847 - val_loss: 0.9898 - val_accuracy: 0.6742 - lr: 9.7218e-04\n",
            "Epoch 12/100\n",
            "100/100 [==============================] - 35s 346ms/step - loss: 0.8800 - accuracy: 0.7051 - val_loss: 0.9522 - val_accuracy: 0.6828 - lr: 9.6671e-04\n",
            "Epoch 13/100\n",
            "100/100 [==============================] - 34s 341ms/step - loss: 0.8295 - accuracy: 0.7218 - val_loss: 0.9969 - val_accuracy: 0.6767 - lr: 9.6078e-04\n",
            "Epoch 14/100\n",
            "100/100 [==============================] - 35s 346ms/step - loss: 0.7930 - accuracy: 0.7357 - val_loss: 0.8151 - val_accuracy: 0.7273 - lr: 9.5440e-04\n",
            "Epoch 15/100\n",
            "100/100 [==============================] - 35s 350ms/step - loss: 0.7596 - accuracy: 0.7465 - val_loss: 0.7477 - val_accuracy: 0.7555 - lr: 9.4757e-04\n",
            "Epoch 16/100\n",
            "100/100 [==============================] - 35s 345ms/step - loss: 0.7271 - accuracy: 0.7595 - val_loss: 0.8609 - val_accuracy: 0.7297 - lr: 9.4030e-04\n",
            "Epoch 17/100\n",
            "100/100 [==============================] - 34s 341ms/step - loss: 0.6971 - accuracy: 0.7695 - val_loss: 0.7984 - val_accuracy: 0.7481 - lr: 9.3262e-04\n",
            "Epoch 18/100\n",
            "100/100 [==============================] - 34s 337ms/step - loss: 0.6711 - accuracy: 0.7791 - val_loss: 0.8061 - val_accuracy: 0.7357 - lr: 9.2452e-04\n",
            "Epoch 19/100\n",
            "100/100 [==============================] - 35s 346ms/step - loss: 0.6538 - accuracy: 0.7852 - val_loss: 0.7187 - val_accuracy: 0.7717 - lr: 9.1603e-04\n",
            "Epoch 20/100\n",
            "100/100 [==============================] - 35s 344ms/step - loss: 0.6330 - accuracy: 0.7923 - val_loss: 0.6781 - val_accuracy: 0.7761 - lr: 9.0714e-04\n",
            "Epoch 21/100\n",
            "100/100 [==============================] - 34s 337ms/step - loss: 0.6042 - accuracy: 0.8011 - val_loss: 0.8160 - val_accuracy: 0.7462 - lr: 8.9788e-04\n",
            "Epoch 22/100\n",
            "100/100 [==============================] - 34s 341ms/step - loss: 0.5906 - accuracy: 0.8085 - val_loss: 0.7086 - val_accuracy: 0.7768 - lr: 8.8826e-04\n",
            "Epoch 23/100\n",
            "100/100 [==============================] - 35s 345ms/step - loss: 0.5662 - accuracy: 0.8149 - val_loss: 0.5869 - val_accuracy: 0.8041 - lr: 8.7830e-04\n",
            "Epoch 24/100\n",
            "100/100 [==============================] - 34s 339ms/step - loss: 0.5532 - accuracy: 0.8177 - val_loss: 0.5866 - val_accuracy: 0.8084 - lr: 8.6799e-04\n",
            "Epoch 25/100\n",
            "100/100 [==============================] - 35s 344ms/step - loss: 0.5366 - accuracy: 0.8244 - val_loss: 0.5689 - val_accuracy: 0.8105 - lr: 8.5737e-04\n",
            "Epoch 26/100\n",
            "100/100 [==============================] - 35s 344ms/step - loss: 0.5244 - accuracy: 0.8260 - val_loss: 0.5641 - val_accuracy: 0.8151 - lr: 8.4645e-04\n",
            "Epoch 27/100\n",
            "100/100 [==============================] - 34s 343ms/step - loss: 0.5162 - accuracy: 0.8301 - val_loss: 0.5870 - val_accuracy: 0.8016 - lr: 8.3524e-04\n",
            "Epoch 28/100\n",
            "100/100 [==============================] - 34s 336ms/step - loss: 0.4976 - accuracy: 0.8369 - val_loss: 0.4930 - val_accuracy: 0.8362 - lr: 8.2375e-04\n",
            "Epoch 29/100\n",
            "100/100 [==============================] - 35s 348ms/step - loss: 0.4825 - accuracy: 0.8410 - val_loss: 0.5257 - val_accuracy: 0.8293 - lr: 8.1200e-04\n",
            "Epoch 30/100\n",
            "100/100 [==============================] - 34s 341ms/step - loss: 0.4780 - accuracy: 0.8421 - val_loss: 0.6904 - val_accuracy: 0.7909 - lr: 8.0001e-04\n",
            "Epoch 31/100\n",
            "100/100 [==============================] - 34s 341ms/step - loss: 0.4659 - accuracy: 0.8472 - val_loss: 0.7578 - val_accuracy: 0.7667 - lr: 7.8780e-04\n",
            "Epoch 32/100\n",
            "100/100 [==============================] - 35s 346ms/step - loss: 0.4580 - accuracy: 0.8494 - val_loss: 0.5488 - val_accuracy: 0.8257 - lr: 7.7537e-04\n",
            "Epoch 33/100\n",
            "100/100 [==============================] - 35s 346ms/step - loss: 0.4513 - accuracy: 0.8505 - val_loss: 0.6190 - val_accuracy: 0.8031 - lr: 7.6275e-04\n",
            "Epoch 34/100\n",
            "100/100 [==============================] - 42s 416ms/step - loss: 0.4334 - accuracy: 0.8565 - val_loss: 0.6148 - val_accuracy: 0.8109 - lr: 7.4995e-04\n",
            "Epoch 35/100\n",
            "100/100 [==============================] - 34s 337ms/step - loss: 0.4328 - accuracy: 0.8570 - val_loss: 0.6783 - val_accuracy: 0.8040 - lr: 7.3698e-04\n",
            "Epoch 36/100\n",
            "100/100 [==============================] - 35s 352ms/step - loss: 0.4258 - accuracy: 0.8600 - val_loss: 0.5455 - val_accuracy: 0.8252 - lr: 7.2387e-04\n",
            "Epoch 37/100\n",
            "100/100 [==============================] - 35s 346ms/step - loss: 0.4069 - accuracy: 0.8655 - val_loss: 0.4648 - val_accuracy: 0.8469 - lr: 7.1062e-04\n",
            "Epoch 38/100\n",
            "100/100 [==============================] - 34s 339ms/step - loss: 0.3975 - accuracy: 0.8664 - val_loss: 0.4750 - val_accuracy: 0.8463 - lr: 6.9726e-04\n",
            "Epoch 39/100\n",
            "100/100 [==============================] - 35s 343ms/step - loss: 0.3957 - accuracy: 0.8675 - val_loss: 0.5139 - val_accuracy: 0.8377 - lr: 6.8380e-04\n",
            "Epoch 40/100\n",
            "100/100 [==============================] - 35s 347ms/step - loss: 0.3807 - accuracy: 0.8746 - val_loss: 0.4517 - val_accuracy: 0.8559 - lr: 6.7026e-04\n",
            "Epoch 41/100\n",
            "100/100 [==============================] - 35s 349ms/step - loss: 0.3730 - accuracy: 0.8761 - val_loss: 0.5392 - val_accuracy: 0.8358 - lr: 6.5665e-04\n",
            "Epoch 42/100\n",
            "100/100 [==============================] - 35s 348ms/step - loss: 0.3712 - accuracy: 0.8772 - val_loss: 0.6010 - val_accuracy: 0.8169 - lr: 6.4298e-04\n",
            "Epoch 43/100\n",
            "100/100 [==============================] - 34s 339ms/step - loss: 0.3614 - accuracy: 0.8796 - val_loss: 0.4255 - val_accuracy: 0.8641 - lr: 6.2928e-04\n",
            "Epoch 44/100\n",
            "100/100 [==============================] - 35s 347ms/step - loss: 0.3602 - accuracy: 0.8796 - val_loss: 0.6409 - val_accuracy: 0.8061 - lr: 6.1555e-04\n",
            "Epoch 45/100\n",
            "100/100 [==============================] - 34s 343ms/step - loss: 0.3510 - accuracy: 0.8846 - val_loss: 0.5371 - val_accuracy: 0.8340 - lr: 6.0182e-04\n",
            "Epoch 46/100\n",
            "100/100 [==============================] - 34s 338ms/step - loss: 0.3410 - accuracy: 0.8866 - val_loss: 0.5082 - val_accuracy: 0.8431 - lr: 5.8808e-04\n",
            "Epoch 47/100\n",
            "100/100 [==============================] - 35s 344ms/step - loss: 0.3399 - accuracy: 0.8857 - val_loss: 0.4062 - val_accuracy: 0.8646 - lr: 5.7437e-04\n",
            "Epoch 48/100\n",
            "100/100 [==============================] - 35s 345ms/step - loss: 0.3271 - accuracy: 0.8900 - val_loss: 0.5075 - val_accuracy: 0.8478 - lr: 5.6069e-04\n",
            "Epoch 49/100\n",
            "100/100 [==============================] - 34s 340ms/step - loss: 0.3230 - accuracy: 0.8934 - val_loss: 0.4428 - val_accuracy: 0.8632 - lr: 5.4705e-04\n",
            "Epoch 50/100\n",
            "100/100 [==============================] - 35s 353ms/step - loss: 0.3188 - accuracy: 0.8923 - val_loss: 0.4912 - val_accuracy: 0.8544 - lr: 5.3348e-04\n",
            "Epoch 51/100\n",
            "100/100 [==============================] - 35s 349ms/step - loss: 0.3185 - accuracy: 0.8949 - val_loss: 0.5105 - val_accuracy: 0.8496 - lr: 5.1997e-04\n",
            "Epoch 52/100\n",
            "100/100 [==============================] - 34s 339ms/step - loss: 0.3033 - accuracy: 0.8970 - val_loss: 0.4397 - val_accuracy: 0.8616 - lr: 5.0654e-04\n",
            "Epoch 53/100\n",
            "100/100 [==============================] - 35s 344ms/step - loss: 0.3080 - accuracy: 0.8973 - val_loss: 0.4817 - val_accuracy: 0.8542 - lr: 4.9321e-04\n",
            "Epoch 54/100\n",
            "100/100 [==============================] - 35s 346ms/step - loss: 0.2989 - accuracy: 0.8986 - val_loss: 0.4831 - val_accuracy: 0.8530 - lr: 4.7998e-04\n",
            "Epoch 55/100\n",
            "100/100 [==============================] - 35s 347ms/step - loss: 0.2940 - accuracy: 0.9021 - val_loss: 0.5114 - val_accuracy: 0.8534 - lr: 4.6687e-04\n",
            "Epoch 56/100\n",
            "100/100 [==============================] - 34s 341ms/step - loss: 0.2866 - accuracy: 0.9057 - val_loss: 0.4600 - val_accuracy: 0.8621 - lr: 4.5388e-04\n",
            "Epoch 57/100\n",
            "100/100 [==============================] - 35s 349ms/step - loss: 0.2775 - accuracy: 0.9064 - val_loss: 0.5507 - val_accuracy: 0.8463 - lr: 4.4103e-04\n",
            "Epoch 58/100\n",
            "100/100 [==============================] - 35s 346ms/step - loss: 0.2759 - accuracy: 0.9076 - val_loss: 0.4341 - val_accuracy: 0.8693 - lr: 4.2832e-04\n",
            "Epoch 59/100\n",
            "100/100 [==============================] - 34s 339ms/step - loss: 0.2802 - accuracy: 0.9055 - val_loss: 0.3968 - val_accuracy: 0.8815 - lr: 4.1577e-04\n",
            "Epoch 60/100\n",
            "100/100 [==============================] - 34s 340ms/step - loss: 0.2683 - accuracy: 0.9093 - val_loss: 0.4447 - val_accuracy: 0.8665 - lr: 4.0337e-04\n",
            "Epoch 61/100\n",
            "100/100 [==============================] - 35s 345ms/step - loss: 0.2666 - accuracy: 0.9112 - val_loss: 0.3996 - val_accuracy: 0.8741 - lr: 3.9115e-04\n",
            "Epoch 62/100\n",
            "100/100 [==============================] - 35s 349ms/step - loss: 0.2620 - accuracy: 0.9111 - val_loss: 0.4900 - val_accuracy: 0.8555 - lr: 3.7910e-04\n",
            "Epoch 63/100\n",
            "100/100 [==============================] - 34s 338ms/step - loss: 0.2511 - accuracy: 0.9162 - val_loss: 0.4358 - val_accuracy: 0.8738 - lr: 3.6723e-04\n",
            "Epoch 64/100\n",
            "100/100 [==============================] - 34s 338ms/step - loss: 0.2524 - accuracy: 0.9141 - val_loss: 0.4186 - val_accuracy: 0.8765 - lr: 3.5556e-04\n",
            "Epoch 65/100\n",
            "100/100 [==============================] - 35s 348ms/step - loss: 0.2486 - accuracy: 0.9172 - val_loss: 0.3993 - val_accuracy: 0.8773 - lr: 3.4407e-04\n",
            "Epoch 66/100\n",
            "100/100 [==============================] - 35s 347ms/step - loss: 0.2431 - accuracy: 0.9196 - val_loss: 0.3908 - val_accuracy: 0.8794 - lr: 3.3279e-04\n",
            "Epoch 67/100\n",
            "100/100 [==============================] - 34s 343ms/step - loss: 0.2353 - accuracy: 0.9205 - val_loss: 0.4619 - val_accuracy: 0.8732 - lr: 3.2171e-04\n",
            "Epoch 68/100\n",
            "100/100 [==============================] - 34s 340ms/step - loss: 0.2264 - accuracy: 0.9228 - val_loss: 0.4514 - val_accuracy: 0.8699 - lr: 3.1084e-04\n",
            "Epoch 69/100\n",
            "100/100 [==============================] - 35s 345ms/step - loss: 0.2316 - accuracy: 0.9216 - val_loss: 0.3627 - val_accuracy: 0.8877 - lr: 3.0019e-04\n",
            "Epoch 70/100\n",
            "100/100 [==============================] - 35s 345ms/step - loss: 0.2270 - accuracy: 0.9228 - val_loss: 0.3693 - val_accuracy: 0.8886 - lr: 2.8975e-04\n",
            "Epoch 71/100\n",
            "100/100 [==============================] - 35s 347ms/step - loss: 0.2261 - accuracy: 0.9236 - val_loss: 0.4223 - val_accuracy: 0.8747 - lr: 2.7953e-04\n",
            "Epoch 72/100\n",
            "100/100 [==============================] - 34s 337ms/step - loss: 0.2199 - accuracy: 0.9265 - val_loss: 0.4063 - val_accuracy: 0.8826 - lr: 2.6954e-04\n",
            "Epoch 73/100\n",
            "100/100 [==============================] - 35s 345ms/step - loss: 0.2209 - accuracy: 0.9242 - val_loss: 0.3785 - val_accuracy: 0.8886 - lr: 2.5976e-04\n",
            "Epoch 74/100\n",
            "100/100 [==============================] - 34s 341ms/step - loss: 0.2114 - accuracy: 0.9280 - val_loss: 0.3995 - val_accuracy: 0.8829 - lr: 2.5022e-04\n",
            "Epoch 75/100\n",
            "100/100 [==============================] - 34s 341ms/step - loss: 0.2105 - accuracy: 0.9288 - val_loss: 0.4082 - val_accuracy: 0.8811 - lr: 2.4090e-04\n",
            "Epoch 76/100\n",
            "100/100 [==============================] - 35s 348ms/step - loss: 0.2070 - accuracy: 0.9307 - val_loss: 0.4382 - val_accuracy: 0.8732 - lr: 2.3180e-04\n",
            "Epoch 77/100\n",
            "100/100 [==============================] - 35s 349ms/step - loss: 0.1996 - accuracy: 0.9331 - val_loss: 0.4286 - val_accuracy: 0.8833 - lr: 2.2294e-04\n",
            "Epoch 78/100\n",
            "100/100 [==============================] - 35s 345ms/step - loss: 0.2016 - accuracy: 0.9327 - val_loss: 0.4363 - val_accuracy: 0.8757 - lr: 2.1431e-04\n",
            "Epoch 79/100\n",
            "100/100 [==============================] - 34s 336ms/step - loss: 0.1967 - accuracy: 0.9325 - val_loss: 0.3876 - val_accuracy: 0.8888 - lr: 2.0590e-04\n",
            "Epoch 80/100\n",
            "100/100 [==============================] - 35s 343ms/step - loss: 0.1998 - accuracy: 0.9328 - val_loss: 0.4238 - val_accuracy: 0.8790 - lr: 1.9773e-04\n",
            "Epoch 81/100\n",
            "100/100 [==============================] - 35s 347ms/step - loss: 0.1911 - accuracy: 0.9347 - val_loss: 0.3991 - val_accuracy: 0.8846 - lr: 1.8978e-04\n",
            "Epoch 82/100\n",
            "100/100 [==============================] - 35s 346ms/step - loss: 0.1942 - accuracy: 0.9338 - val_loss: 0.3687 - val_accuracy: 0.8900 - lr: 1.8205e-04\n",
            "Epoch 83/100\n",
            "100/100 [==============================] - 34s 340ms/step - loss: 0.1903 - accuracy: 0.9351 - val_loss: 0.3746 - val_accuracy: 0.8909 - lr: 1.7456e-04\n",
            "Epoch 84/100\n",
            "100/100 [==============================] - 34s 340ms/step - loss: 0.1929 - accuracy: 0.9341 - val_loss: 0.4172 - val_accuracy: 0.8832 - lr: 1.6728e-04\n",
            "Epoch 85/100\n",
            "100/100 [==============================] - 35s 346ms/step - loss: 0.1810 - accuracy: 0.9379 - val_loss: 0.4011 - val_accuracy: 0.8881 - lr: 1.6023e-04\n",
            "Epoch 86/100\n",
            "100/100 [==============================] - 35s 347ms/step - loss: 0.1828 - accuracy: 0.9376 - val_loss: 0.4066 - val_accuracy: 0.8870 - lr: 1.5339e-04\n",
            "Epoch 87/100\n",
            "100/100 [==============================] - 34s 336ms/step - loss: 0.1816 - accuracy: 0.9378 - val_loss: 0.4019 - val_accuracy: 0.8900 - lr: 1.4677e-04\n",
            "Epoch 88/100\n",
            "100/100 [==============================] - 35s 345ms/step - loss: 0.1755 - accuracy: 0.9407 - val_loss: 0.4098 - val_accuracy: 0.8862 - lr: 1.4037e-04\n",
            "Epoch 89/100\n",
            "100/100 [==============================] - 34s 341ms/step - loss: 0.1738 - accuracy: 0.9411 - val_loss: 0.4172 - val_accuracy: 0.8867 - lr: 1.3417e-04\n"
          ]
        }
      ],
      "source": [
        "# Set the callbackes\n",
        "from keras.callbacks import EarlyStopping\n",
        "early_stopping = EarlyStopping(monitor='val_loss', patience=20)\n",
        "\n",
        "from keras.callbacks import LearningRateScheduler\n",
        "def exponential_decay(epoch, lr):\n",
        "    decay_rate = 0.95\n",
        "    decay_steps = epochs\n",
        "    new_lr = lr * (decay_rate ** (epoch / decay_steps))\n",
        "    return new_lr\n",
        "lr_scheduler = LearningRateScheduler(exponential_decay)\n",
        "\n",
        "history = model.fit(generator.flow(x_train, y_train, batch_size=batch_size),\n",
        "                    steps_per_epoch=len(x_train) / batch_size,\n",
        "                    epochs=epochs,\n",
        "                    validation_data=(x_test, y_test),\n",
        "                    validation_steps=len(x_test) / batch_size,\n",
        "                    callbacks=[lr_scheduler, early_stopping])"
      ]
    },
    {
      "cell_type": "markdown",
      "metadata": {
        "id": "arIHJNmlU8AR"
      },
      "source": [
        "## Evaluate the model"
      ]
    },
    {
      "cell_type": "code",
      "execution_count": 4,
      "metadata": {
        "colab": {
          "base_uri": "https://localhost:8080/",
          "height": 548
        },
        "id": "hioVctbmU8AR",
        "outputId": "45656b7f-a083-44b2-811a-31de0cd0d0e7"
      },
      "outputs": [
        {
          "output_type": "display_data",
          "data": {
            "text/plain": [
              "<Figure size 432x288 with 1 Axes>"
            ],
            "image/png": "[encoded data removed]"
          },
          "metadata": {
            "needs_background": "light"
          }
        },
        {
          "output_type": "display_data",
          "data": {
            "text/plain": [
              "<Figure size 432x288 with 1 Axes>"
            ],
            "image/png": "[encoded data removed]"
          },
          "metadata": {
            "needs_background": "light"
          }
        },
        {
          "output_type": "stream",
          "name": "stdout",
          "text": [
            "Test loss: 0.41718143224716187\n",
            "Test accuracy: 0.8866999745368958\n"
          ]
        }
      ],
      "source": [
        "# Plot the loss and accuracy curves for training and validation\n",
        "import matplotlib.pyplot as plt\n",
        "import numpy as np\n",
        "\n",
        "train_loss = history.history['loss']\n",
        "val_loss = history.history['val_loss']\n",
        "train_acc = history.history['accuracy']\n",
        "val_acc = history.history['val_accuracy']\n",
        "\n",
        "plt.plot(np.arange(len(train_loss)), train_loss, label='train_loss')\n",
        "plt.plot(np.arange(len(val_loss)), val_loss, label='val_loss')\n",
        "plt.legend()\n",
        "plt.show()\n",
        "\n",
        "plt.plot(np.arange(len(train_acc)), train_acc, label='train_accuracy')\n",
        "plt.plot(np.arange(len(val_acc)), val_acc, label='val_accuracy')\n",
        "plt.legend()\n",
        "plt.show()\n",
        "\n",
        "# Evaluate the model on the test data using `evaluate`\n",
        "loss, acc = model.evaluate(x_test, y_test, verbose=0)\n",
        "print('Test loss:', loss)\n",
        "print('Test accuracy:', acc)"
      ]
    },
    {
      "cell_type": "markdown",
      "metadata": {
        "id": "V0zBAaZE3qkz"
      },
      "source": [
        "## Save the model"
      ]
    },
    {
      "cell_type": "code",
      "execution_count": 5,
      "metadata": {
        "id": "n3_RwRmO3qk0",
        "outputId": "5c1cd5af-1262-4794-df23-43a9c8f6e04d",
        "colab": {
          "base_uri": "https://localhost:8080/",
          "height": 17
        }
      },
      "outputs": [
        {
          "output_type": "display_data",
          "data": {
            "text/plain": [
              "<IPython.core.display.Javascript object>"
            ],
            "application/javascript": [
              "\n",
              "    async function download(id, filename, size) {\n",
              "      if (!google.colab.kernel.accessAllowed) {\n",
              "        return;\n",
              "      }\n",
              "      const div = document.createElement('div');\n",
              "      const label = document.createElement('label');\n",
              "      label.textContent = `Downloading \"${filename}\": `;\n",
              "      div.appendChild(label);\n",
              "      const progress = document.createElement('progress');\n",
              "      progress.max = size;\n",
              "      div.appendChild(progress);\n",
              "      document.body.appendChild(div);\n",
              "\n",
              "      const buffers = [];\n",
              "      let downloaded = 0;\n",
              "\n",
              "      const channel = await google.colab.kernel.comms.open(id);\n",
              "      // Send a message to notify the kernel that we're ready.\n",
              "      channel.send({})\n",
              "\n",
              "      for await (const message of channel.messages) {\n",
              "        // Send a message to notify the kernel that we're ready.\n",
              "        channel.send({})\n",
              "        if (message.buffers) {\n",
              "          for (const buffer of message.buffers) {\n",
              "            buffers.push(buffer);\n",
              "            downloaded += buffer.byteLength;\n",
              "            progress.value = downloaded;\n",
              "          }\n",
              "        }\n",
              "      }\n",
              "      const blob = new Blob(buffers, {type: 'application/binary'});\n",
              "      const a = document.createElement('a');\n",
              "      a.href = window.URL.createObjectURL(blob);\n",
              "      a.download = filename;\n",
              "      div.appendChild(a);\n",
              "      a.click();\n",
              "      div.remove();\n",
              "    }\n",
              "  "
            ]
          },
          "metadata": {}
        },
        {
          "output_type": "display_data",
          "data": {
            "text/plain": [
              "<IPython.core.display.Javascript object>"
            ],
            "application/javascript": [
              "download(\"download_b14fc883-54b3-4da1-a1d2-af2832bcbb83\", \"cifar10_model.h5\", 57359192)"
            ]
          },
          "metadata": {}
        }
      ],
      "source": [
        "from google.colab import files\n",
        "\n",
        "# save the model\n",
        "model.save('image_classifier.h5', include_optimizer=False)\n",
        "files.download('image_classifier.h5')"
      ]
    }
  ],
  "metadata": {
    "accelerator": "GPU",
    "colab": {
      "provenance": []
    },
    "gpuClass": "standard",
    "kernelspec": {
      "display_name": "ai-master",
      "language": "python",
      "name": "python3"
    },
    "language_info": {
      "name": "python",
      "version": "3.7.16 (default, Jan 17 2023, 09:28:58) \n[Clang 14.0.6 ]"
    },
    "orig_nbformat": 4,
    "vscode": {
      "interpreter": {
        "hash": "2512312fceb6e908b1c6087f9c29f0bb0c93a332146a69690954edd67c2954cb"
      }
    }
  },
  "nbformat": 4,
  "nbformat_minor": 0
}