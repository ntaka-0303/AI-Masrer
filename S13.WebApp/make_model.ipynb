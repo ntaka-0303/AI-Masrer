{
  "cells": [
    {
      "attachments": {},
      "cell_type": "markdown",
      "metadata": {
        "id": "BWo38ARqltn8"
      },
      "source": [
        "# Training and saving the CNN model\n",
        "* Dataset: CIFAR10\n",
        "* Model: MobileNetV2 + hidden-layer + full-coupled layer\n",
        "* Framework: Tensorflow"
      ]
    },
    {
      "attachments": {},
      "cell_type": "markdown",
      "metadata": {},
      "source": [
        "# Setup the hyperparameters"
      ]
    },
    {
      "cell_type": "code",
      "execution_count": null,
      "metadata": {},
      "outputs": [],
      "source": [
        "img_size = 32\n",
        "n_channels = 3\n",
        "batch_size = 32\n",
        "n_classes = 10\n",
        "epochs = 10\n",
        "n_hidden = 256\n",
        "init_lr = 0.001"
      ]
    },
    {
      "attachments": {},
      "cell_type": "markdown",
      "metadata": {},
      "source": [
        "## Preparing"
      ]
    },
    {
      "cell_type": "code",
      "execution_count": 10,
      "metadata": {
        "id": "aasjC8EhltoB"
      },
      "outputs": [],
      "source": [
        "import numpy as np\n",
        "import tensorflow as tf\n",
        "\n",
        "# load cifar10 dataset\n",
        "(x_train, y_train), (x_test, y_test) = tf.keras.datasets.cifar10.load_data()\n",
        "\n",
        "# normalize the data\n",
        "x_train = x_train / 255.0\n",
        "x_test = x_test / 255.0\n",
        "\n",
        "# one-hot encode the labels\n",
        "y_train = tf.keras.utils.to_categorical(y_train, n_classes)\n",
        "y_test = tf.keras.utils.to_categorical(y_test, n_classes)"
      ]
    },
    {
      "cell_type": "markdown",
      "metadata": {
        "id": "zAjMfEpcltoD"
      },
      "source": [
        "## Build the model"
      ]
    },
    {
      "cell_type": "code",
      "execution_count": 7,
      "metadata": {},
      "outputs": [],
      "source": [
        "# data augmentation\n",
        "datagen = tf.keras.layers.sequential([\n",
        "    tf.keras.layers.RandomRotation(20),\n",
        "    tf.keras.layers.RandomWidthShift(0.2),\n",
        "    tf.keras.layers.RandomHeightShift(0.2),\n",
        "    tf.keras.layers.RandomShear(10),\n",
        "    tf.keras.layers.RandomZoom(0.2),\n",
        "    tf.keras.layers.RandomFlip('horizontal')\n",
        "])\n",
        "\n",
        "# rescale pixel values to [-1, 1] for using mobilnetV2\n",
        "preprosess_input = tf.keras.applications.mobilenet_v2.preprocess_input\n",
        "\n",
        "# create the base model\n",
        "base_model = tf.keras.applications.MobileNetV2(input_shape=(img_size, img_size, n_channels),\n",
        "                                               include_top=False,\n",
        "                                               weights='imagenet')\n",
        "base_model.trainable = False # freeze the base model\n",
        "\n",
        "# 5x5 dimension convolutional layer convert the image to 1280 vector\n",
        "global_average_layer = tf.keras.layers.GlobalAveragePooling2D()\n",
        "\n",
        "# build the model\n",
        "inputs = tf.keras.Input(shape=(img_size, img_size, n_channels))\n",
        "x = datagen(inputs)\n",
        "x = preprosess_input(x)\n",
        "x = base_model(x, training=False)\n",
        "x = global_average_layer(x)\n",
        "x = tf.keras.layers.Dense(n_hidden, activation='relu')(x)\n",
        "x = tf.keras.layers.Dropout(0.25)(x)\n",
        "outputs = tf.keras.layers.Dense(n_classes, activation='softmax')(x)\n",
        "model = tf.keras.Model(inputs, outputs)\n",
        "\n",
        "# set up the learning rate scheduler\n",
        "lr_schedule = tf.keras.optimizers.schedules.ExponentialDecay(\n",
        "    init_lr,\n",
        "    decay_steps=10000,\n",
        "    decay_rate=0.99)\n",
        "\n",
        "# set up the optimizer\n",
        "opt = tf.keras.optimizers.Adam(learning_rate=lr_schedule)\n",
        "\n",
        "# set up the loss\n",
        "loss = tf.keras.losses.CategoricalCrossentropy(from_logits=True)\n",
        "\n",
        "# compile the model\n",
        "model.compile(optimizer=opt,\n",
        "              loss=loss,\n",
        "              metrics=['accuracy'])\n",
        "model.summary()"
      ]
    },
    {
      "cell_type": "markdown",
      "metadata": {
        "id": "ZM4LreBDltoG"
      },
      "source": [
        "## Train the model"
      ]
    },
    {
      "cell_type": "code",
      "execution_count": null,
      "metadata": {
        "id": "Pk0_B31IltoH"
      },
      "outputs": [],
      "source": [
        "# set up the early stopping callback\n",
        "early_stopping = tf.keras.callbacks.EarlyStopping(monitor='val_loss', patience=10)\n",
        "\n",
        "# train the model\n",
        "history = model.fit(x_train, y_train,\n",
        "                    batch_size=batch_size,\n",
        "                    epochs=epochs,\n",
        "                    validation_data=(x_test, y_test),\n",
        "                    callbacks=[early_stopping])"
      ]
    },
    {
      "cell_type": "markdown",
      "metadata": {
        "id": "p1FRg5H3ltoH"
      },
      "source": [
        "## Evaluate the model"
      ]
    },
    {
      "cell_type": "code",
      "execution_count": null,
      "metadata": {
        "id": "rkmfe2yYltoI"
      },
      "outputs": [],
      "source": [
        "import matplotlib.pyplot as plt\n",
        "\n",
        "# set up the parameters\n",
        "loss = history.history['loss']\n",
        "val_loss = history.history['val_loss']\n",
        "acc = history.history['accuracy']\n",
        "val_acc = history.history['val_accuracy']\n",
        "\n",
        "plt.figure(figsize=(8, 8))\n",
        "plt.subplot(2, 1, 1)\n",
        "plt.plot(acc, label='Training Accuracy')\n",
        "plt.plot(val_acc, label='Validation Accuracy')\n",
        "plt.legend(loc='lower right')\n",
        "plt.ylabel('Accuracy')\n",
        "plt.ylim([min(plt.ylim()),1])\n",
        "plt.title('Training and Validation Accuracy')\n",
        "\n",
        "plt.subplot(2, 1, 2)\n",
        "plt.plot(loss, label='Training Loss')\n",
        "plt.plot(val_loss, label='Validation Loss')\n",
        "plt.legend(loc='upper right')\n",
        "plt.ylabel('Cross Entropy')\n",
        "plt.ylim([0,1.0])\n",
        "plt.title('Training and Validation Loss')\n",
        "plt.xlabel('epoch')\n",
        "plt.show()\n",
        "\n",
        "# Evaluate the model on the test data using `evaluate`\n",
        "loss, acc = model.evaluate(x_test, y_test, verbose=0)\n",
        "print('Test loss:', loss.round(4))\n",
        "print('Test accuracy:', acc.round(4))"
      ]
    },
    {
      "cell_type": "markdown",
      "metadata": {
        "id": "hWESXTA-ltoI"
      },
      "source": [
        "## Save the model"
      ]
    },
    {
      "cell_type": "code",
      "execution_count": null,
      "metadata": {
        "id": "ZaXYn-KiltoI"
      },
      "outputs": [],
      "source": [
        "from google.colab import files\n",
        "\n",
        "# save the model\n",
        "model.save('cifar10_model.h5', include_optimizer=False)\n",
        "files.download('cifar10_model.h5')"
      ]
    }
  ],
  "metadata": {
    "accelerator": "GPU",
    "colab": {
      "provenance": []
    },
    "gpuClass": "standard",
    "kernelspec": {
      "display_name": "ai-master",
      "language": "python",
      "name": "python3"
    },
    "language_info": {
      "codemirror_mode": {
        "name": "ipython",
        "version": 3
      },
      "file_extension": ".py",
      "mimetype": "text/x-python",
      "name": "python",
      "nbconvert_exporter": "python",
      "pygments_lexer": "ipython3",
      "version": "3.7.16"
    },
    "orig_nbformat": 4,
    "vscode": {
      "interpreter": {
        "hash": "2512312fceb6e908b1c6087f9c29f0bb0c93a332146a69690954edd67c2954cb"
      }
    }
  },
  "nbformat": 4,
  "nbformat_minor": 0
}
