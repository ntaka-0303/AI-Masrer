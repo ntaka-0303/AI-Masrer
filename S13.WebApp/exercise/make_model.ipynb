{
  "cells": [
    {
      "cell_type": "markdown",
      "metadata": {
        "id": "ydfTsNDkV9ra"
      },
      "source": [
        "# Exercise\n",
        "Create a model that predicts the fashion item based on the image.<br>\n",
        "* trainig data: FAshion MNIST\n",
        "* test data: Fashion MNIST\n",
        "* model: CNN\n",
        "* loss: Catagorical Crossentropy\n",
        "* optimizer: Adam\n",
        "* metrics: Accuracy"
      ]
    },
    {
      "cell_type": "markdown",
      "metadata": {
        "id": "KysTNIeYV9rd"
      },
      "source": [
        "## Import Libraries"
      ]
    },
    {
      "cell_type": "code",
      "execution_count": 1,
      "metadata": {
        "id": "ngEV917nV9rd"
      },
      "outputs": [],
      "source": [
        "import tensorflow as tf\n",
        "import numpy as np\n",
        "import matplotlib.pyplot as plt"
      ]
    },
    {
      "cell_type": "markdown",
      "metadata": {
        "id": "CfENb-KOV9rg"
      },
      "source": [
        "## Load Data"
      ]
    },
    {
      "cell_type": "code",
      "execution_count": 2,
      "metadata": {
        "id": "peonhA4pV9rh",
        "outputId": "35b85b4c-970e-42fd-dda2-5724bce45b59",
        "colab": {
          "base_uri": "https://localhost:8080/"
        }
      },
      "outputs": [
        {
          "output_type": "stream",
          "name": "stdout",
          "text": [
            "Downloading data from https://storage.googleapis.com/tensorflow/tf-keras-datasets/train-labels-idx1-ubyte.gz\n",
            "29515/29515 [==============================] - 0s 0us/step\n",
            "Downloading data from https://storage.googleapis.com/tensorflow/tf-keras-datasets/train-images-idx3-ubyte.gz\n",
            "26421880/26421880 [==============================] - 0s 0us/step\n",
            "Downloading data from https://storage.googleapis.com/tensorflow/tf-keras-datasets/t10k-labels-idx1-ubyte.gz\n",
            "5148/5148 [==============================] - 0s 0us/step\n",
            "Downloading data from https://storage.googleapis.com/tensorflow/tf-keras-datasets/t10k-images-idx3-ubyte.gz\n",
            "4422102/4422102 [==============================] - 0s 0us/step\n"
          ]
        }
      ],
      "source": [
        "# load the data\n",
        "(x_train, y_train), (x_test, y_test) = tf.keras.datasets.fashion_mnist.load_data()\n",
        "\n",
        "# normalize the data\n",
        "x_train = x_train.astype('float32') / 255.0\n",
        "x_test = x_test.astype('float32') / 255.0\n",
        "\n",
        "# one-hot encoding\n",
        "y_train = tf.keras.utils.to_categorical(y_train, 10)\n",
        "y_test = tf.keras.utils.to_categorical(y_test, 10)"
      ]
    },
    {
      "cell_type": "markdown",
      "metadata": {
        "id": "DRWrN7ioV9rh"
      },
      "source": [
        "## Build Model"
      ]
    },
    {
      "cell_type": "code",
      "execution_count": 4,
      "metadata": {
        "id": "ijBlx4kQV9ri"
      },
      "outputs": [],
      "source": [
        "# set the hyperparameters\n",
        "n_class = 10\n",
        "img_size = 28\n",
        "batch_size = 500\n",
        "n_epoch = 100\n",
        "init_lr = 0.001\n",
        "\n",
        "# define the model\n",
        "inputs = tf.keras.layers.Input(shape=(img_size, img_size, 1))\n",
        "x = tf.keras.layers.Conv2D(32, (3, 3), padding='same', activation='relu')(inputs)\n",
        "x = tf.keras.layers.Conv2D(32, (3, 3), padding='same', activation='relu')(inputs)\n",
        "x = tf.keras.layers.MaxPooling2D(pool_size=(2, 2))(x)\n",
        "x = tf.keras.layers.Dropout(0.25)(x)\n",
        "x = tf.keras.layers.Conv2D(64, (3, 3), padding='same', activation='relu')(x)\n",
        "x = tf.keras.layers.Conv2D(64, (3, 3), padding='same', activation='relu')(x)\n",
        "x = tf.keras.layers.BatchNormalization()(x)\n",
        "x = tf.keras.layers.MaxPooling2D(pool_size=(2, 2))(x)\n",
        "x = tf.keras.layers.Dropout(0.25)(x)\n",
        "x = tf.keras.layers.Flatten()(x)\n",
        "x = tf.keras.layers.Dense(512, activation='relu')(x)\n",
        "x = tf.keras.layers.Dropout(0.5)(x)\n",
        "outputs = tf.keras.layers.Dense(n_class, activation='softmax')(x)\n",
        "model = tf.keras.Model(inputs=inputs, outputs=outputs)\n",
        "\n",
        "# setup the optimizer\n",
        "lr_schedule = tf.keras.optimizers.schedules.ExponentialDecay(\n",
        "    init_lr,\n",
        "    decay_steps=100000,\n",
        "    decay_rate=0.96)\n",
        "optimizer = tf.keras.optimizers.Adam(learning_rate=lr_schedule)\n",
        "\n",
        "# compile the model\n",
        "model.compile(loss='categorical_crossentropy', optimizer=optimizer, metrics=['accuracy'])"
      ]
    },
    {
      "cell_type": "markdown",
      "metadata": {
        "id": "7zD3oItcV9rm"
      },
      "source": [
        "## Train Model"
      ]
    },
    {
      "cell_type": "code",
      "execution_count": 5,
      "metadata": {
        "id": "wUhYwIBoV9rm",
        "outputId": "382ea3f2-67cb-4629-9cc8-83095a6ffd3c",
        "colab": {
          "base_uri": "https://localhost:8080/"
        }
      },
      "outputs": [
        {
          "output_type": "stream",
          "name": "stdout",
          "text": [
            "Epoch 1/100\n",
            "120/120 [==============================] - 15s 27ms/step - loss: 0.6830 - accuracy: 0.7641 - val_loss: 1.6212 - val_accuracy: 0.8092\n",
            "Epoch 2/100\n",
            "120/120 [==============================] - 3s 25ms/step - loss: 0.3644 - accuracy: 0.8660 - val_loss: 1.0728 - val_accuracy: 0.8444\n",
            "Epoch 3/100\n",
            "120/120 [==============================] - 3s 27ms/step - loss: 0.3050 - accuracy: 0.8871 - val_loss: 0.5536 - val_accuracy: 0.8925\n",
            "Epoch 4/100\n",
            "120/120 [==============================] - 3s 26ms/step - loss: 0.2754 - accuracy: 0.8979 - val_loss: 0.3414 - val_accuracy: 0.8977\n",
            "Epoch 5/100\n",
            "120/120 [==============================] - 3s 26ms/step - loss: 0.2531 - accuracy: 0.9066 - val_loss: 0.2765 - val_accuracy: 0.8953\n",
            "Epoch 6/100\n",
            "120/120 [==============================] - 3s 26ms/step - loss: 0.2359 - accuracy: 0.9120 - val_loss: 0.2468 - val_accuracy: 0.9091\n",
            "Epoch 7/100\n",
            "120/120 [==============================] - 3s 28ms/step - loss: 0.2242 - accuracy: 0.9156 - val_loss: 0.2297 - val_accuracy: 0.9183\n",
            "Epoch 8/100\n",
            "120/120 [==============================] - 3s 25ms/step - loss: 0.2123 - accuracy: 0.9212 - val_loss: 0.2232 - val_accuracy: 0.9197\n",
            "Epoch 9/100\n",
            "120/120 [==============================] - 3s 25ms/step - loss: 0.2005 - accuracy: 0.9245 - val_loss: 0.2150 - val_accuracy: 0.9224\n",
            "Epoch 10/100\n",
            "120/120 [==============================] - 3s 25ms/step - loss: 0.1922 - accuracy: 0.9283 - val_loss: 0.2496 - val_accuracy: 0.9081\n",
            "Epoch 11/100\n",
            "120/120 [==============================] - 3s 28ms/step - loss: 0.1826 - accuracy: 0.9310 - val_loss: 0.2108 - val_accuracy: 0.9246\n",
            "Epoch 12/100\n",
            "120/120 [==============================] - 3s 25ms/step - loss: 0.1753 - accuracy: 0.9330 - val_loss: 0.2085 - val_accuracy: 0.9260\n",
            "Epoch 13/100\n",
            "120/120 [==============================] - 3s 25ms/step - loss: 0.1692 - accuracy: 0.9354 - val_loss: 0.2016 - val_accuracy: 0.9283\n",
            "Epoch 14/100\n",
            "120/120 [==============================] - 3s 25ms/step - loss: 0.1603 - accuracy: 0.9399 - val_loss: 0.2125 - val_accuracy: 0.9287\n",
            "Epoch 15/100\n",
            "120/120 [==============================] - 3s 26ms/step - loss: 0.1585 - accuracy: 0.9406 - val_loss: 0.2125 - val_accuracy: 0.9258\n",
            "Epoch 16/100\n",
            "120/120 [==============================] - 3s 25ms/step - loss: 0.1518 - accuracy: 0.9437 - val_loss: 0.2097 - val_accuracy: 0.9327\n",
            "Epoch 17/100\n",
            "120/120 [==============================] - 3s 25ms/step - loss: 0.1462 - accuracy: 0.9456 - val_loss: 0.2080 - val_accuracy: 0.9286\n",
            "Epoch 18/100\n",
            "120/120 [==============================] - 3s 25ms/step - loss: 0.1405 - accuracy: 0.9463 - val_loss: 0.2073 - val_accuracy: 0.9295\n",
            "Epoch 19/100\n",
            "120/120 [==============================] - 3s 27ms/step - loss: 0.1339 - accuracy: 0.9492 - val_loss: 0.2172 - val_accuracy: 0.9298\n",
            "Epoch 20/100\n",
            "120/120 [==============================] - 3s 25ms/step - loss: 0.1346 - accuracy: 0.9489 - val_loss: 0.2131 - val_accuracy: 0.9298\n",
            "Epoch 21/100\n",
            "120/120 [==============================] - 3s 25ms/step - loss: 0.1278 - accuracy: 0.9523 - val_loss: 0.2170 - val_accuracy: 0.9300\n",
            "Epoch 22/100\n",
            "120/120 [==============================] - 3s 25ms/step - loss: 0.1231 - accuracy: 0.9532 - val_loss: 0.2326 - val_accuracy: 0.9263\n",
            "Epoch 23/100\n",
            "120/120 [==============================] - 3s 26ms/step - loss: 0.1213 - accuracy: 0.9540 - val_loss: 0.2364 - val_accuracy: 0.9296\n",
            "Epoch 23: early stopping\n"
          ]
        }
      ],
      "source": [
        "# set up th callback\n",
        "early_stopping = tf.keras.callbacks.EarlyStopping(monitor='val_loss', patience=10, verbose=1)\n",
        "callbacks = [early_stopping]\n",
        "\n",
        "# train the model\n",
        "history = model.fit(x_train, y_train, batch_size=batch_size, epochs=n_epoch, validation_data=(x_test, y_test), callbacks=callbacks)"
      ]
    },
    {
      "cell_type": "markdown",
      "metadata": {
        "id": "Aj9ne1qXV9rn"
      },
      "source": [
        "## Evaluate Model"
      ]
    },
    {
      "cell_type": "code",
      "execution_count": 6,
      "metadata": {
        "id": "X_TRq6vVV9rn",
        "outputId": "c2d6940f-fa44-45e9-f0ac-8e3422a350b1",
        "colab": {
          "base_uri": "https://localhost:8080/",
          "height": 548
        }
      },
      "outputs": [
        {
          "output_type": "display_data",
          "data": {
            "text/plain": [
              "<Figure size 432x288 with 1 Axes>"
            ],
            "image/png": "[encoded data removed]"
          },
          "metadata": {
            "needs_background": "light"
          }
        },
        {
          "output_type": "display_data",
          "data": {
            "text/plain": [
              "<Figure size 432x288 with 1 Axes>"
            ],
            "image/png": "[encoded data removed]"
          },
          "metadata": {
            "needs_background": "light"
          }
        },
        {
          "output_type": "stream",
          "name": "stdout",
          "text": [
            "Test loss: 0.23644456267356873\n",
            "Test accuracy: 0.9296000003814697\n"
          ]
        }
      ],
      "source": [
        "# Plot the loss and accuracy curves for training and validation\n",
        "import matplotlib.pyplot as plt\n",
        "import numpy as np\n",
        "\n",
        "train_loss = history.history['loss']\n",
        "val_loss = history.history['val_loss']\n",
        "train_acc = history.history['accuracy']\n",
        "val_acc = history.history['val_accuracy']\n",
        "\n",
        "plt.plot(np.arange(len(train_loss)), train_loss, label='train_loss')\n",
        "plt.plot(np.arange(len(val_loss)), val_loss, label='val_loss')\n",
        "plt.legend()\n",
        "plt.show()\n",
        "\n",
        "plt.plot(np.arange(len(train_acc)), train_acc, label='train_accuracy')\n",
        "plt.plot(np.arange(len(val_acc)), val_acc, label='val_accuracy')\n",
        "plt.legend()\n",
        "plt.show()\n",
        "\n",
        "# Evaluate the model on the test data using `evaluate`\n",
        "loss, acc = model.evaluate(x_test, y_test, verbose=0)\n",
        "print('Test loss:', loss)\n",
        "print('Test accuracy:', acc)"
      ]
    },
    {
      "cell_type": "markdown",
      "metadata": {
        "id": "h8q7HdEuV9ro"
      },
      "source": [
        "## Save Model"
      ]
    },
    {
      "cell_type": "code",
      "execution_count": 7,
      "metadata": {
        "id": "cNFCm5SWV9ro"
      },
      "outputs": [],
      "source": [
        "model.save('fashion_classifier.h5', include_optimizer=False)"
      ]
    }
  ],
  "metadata": {
    "kernelspec": {
      "display_name": "ai-master",
      "language": "python",
      "name": "python3"
    },
    "language_info": {
      "codemirror_mode": {
        "name": "ipython",
        "version": 3
      },
      "file_extension": ".py",
      "mimetype": "text/x-python",
      "name": "python",
      "nbconvert_exporter": "python",
      "pygments_lexer": "ipython3",
      "version": "3.7.16"
    },
    "orig_nbformat": 4,
    "vscode": {
      "interpreter": {
        "hash": "2512312fceb6e908b1c6087f9c29f0bb0c93a332146a69690954edd67c2954cb"
      }
    },
    "colab": {
      "provenance": []
    },
    "accelerator": "GPU",
    "gpuClass": "standard"
  },
  "nbformat": 4,
  "nbformat_minor": 0
}