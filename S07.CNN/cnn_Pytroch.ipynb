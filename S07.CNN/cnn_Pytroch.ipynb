{
 "cells": [
  {
   "attachments": {},
   "cell_type": "markdown",
   "metadata": {},
   "source": [
    "# CNN by PyTorch\n",
    "Build the CNN model by PyTorch.<br>\n",
    "#### Data\n",
    "The data is CIFAR-10.<br>\n",
    "Data Augmentation is used as follows:<br>\n",
    "* Random horizontal flip\n",
    "* Rotation: 0.2\n",
    "#### Model\n",
    "The model structure is as follows:<br>\n",
    "* Convolutional layer 1: 32 filters, 3x3 kernel, stride 1, padding 1 + ReLU\n",
    "* Convolutional layer 2: 32 filters, 3x3 kernel, stride 1, padding 1 + ReLU\n",
    "* Max pooling layer 1: 2x2 kernel, stride 2\n",
    "* Convolutional layer 3: 64 filters, 3x3 kernel, stride 1, padding 1 + ReLU\n",
    "* Convolutional layer 4: 64 filters, 3x3 kernel, stride 1, padding 1 + ReLU\n",
    "* Max pooling layer 2: 2x2 kernel, stride 2\n",
    "* Flatten layer\n",
    "* Fully connected layer 1: 256 units + ReLU + Dropout\n",
    "* Fully connected layer 2: 10 units + Softmax\n",
    "#### Training\n",
    "* Optimizer: Adam\n",
    "* Loss function: Cross Entropy\n",
    "* Batch size: 32\n",
    "* Epochs: 20\n",
    "* Learning rate: 0.001\n",
    "* early stopping: 5"
   ]
  },
  {
   "attachments": {},
   "cell_type": "markdown",
   "metadata": {},
   "source": [
    "## Load data"
   ]
  },
  {
   "cell_type": "code",
   "execution_count": 1,
   "metadata": {},
   "outputs": [
    {
     "name": "stdout",
     "output_type": "stream",
     "text": [
      "Downloading https://www.cs.toronto.edu/~kriz/cifar-10-python.tar.gz to data/cifar-10-python.tar.gz\n"
     ]
    },
    {
     "data": {
      "application/vnd.jupyter.widget-view+json": {
       "model_id": "6ec31da32ca0411996f50a41bc86a630",
       "version_major": 2,
       "version_minor": 0
      },
      "text/plain": [
       "  0%|          | 0/170498071 [00:00<?, ?it/s]"
      ]
     },
     "metadata": {},
     "output_type": "display_data"
    },
    {
     "name": "stdout",
     "output_type": "stream",
     "text": [
      "Extracting data/cifar-10-python.tar.gz to data\n",
      "Files already downloaded and verified\n"
     ]
    }
   ],
   "source": [
    "# Load the CIFAR10 dataset\n",
    "import torch\n",
    "from torchvision.datasets import CIFAR10\n",
    "\n",
    "train_dataset = CIFAR10(root='data', train=True, download=True)\n",
    "test_dataset = CIFAR10(root='data', train=False, download=True)\n",
    "\n",
    "# Load the dataset into a DataLoader\n",
    "from torch.utils.data import DataLoader\n",
    "\n",
    "batch_size = 32\n",
    "\n",
    "train_loader = DataLoader(train_dataset, batch_size=batch_size, shuffle=True)\n",
    "test_loader = DataLoader(test_dataset, batch_size=batch_size, shuffle=False)\n",
    "\n",
    "# Data augmentation\n",
    "from torchvision import transforms\n",
    "\n",
    "train_transform = transforms.Compose([\n",
    "    transforms.RandomHorizontalFlip(),\n",
    "    transforms.RandomRotation(10)\n",
    "])"
   ]
  },
  {
   "attachments": {},
   "cell_type": "markdown",
   "metadata": {},
   "source": [
    "## Build model"
   ]
  },
  {
   "cell_type": "code",
   "execution_count": null,
   "metadata": {},
   "outputs": [],
   "source": [
    "# difine the model\n",
    "# * Convolutional layer 1: 32 filters, 3x3 kernel, stride 1, padding 1 + ReLU\n",
    "# * Convolutional layer 2: 32 filters, 3x3 kernel, stride 1, padding 1 + ReLU\n",
    "# * Max pooling layer 1: 2x2 kernel, stride 2\n",
    "# * Convolutional layer 3: 64 filters, 3x3 kernel, stride 1, padding 1 + ReLU\n",
    "# * Convolutional layer 4: 64 filters, 3x3 kernel, stride 1, padding 1 + ReLU\n",
    "# * Max pooling layer 2: 2x2 kernel, stride 2\n",
    "# * Flatten layer\n",
    "# * Fully connected layer 1: 256 units + ReLU + Dropout\n",
    "# * Fully connected layer 2: 10 units + Softmax\n",
    "\n",
    "import torch.nn as nn\n",
    "import torch.nn.functional as F\n",
    "\n",
    "input_size = 3 * 32 * 32\n",
    "\n",
    "class CNN(nn.Module):\n",
    "    def __init__(self):\n",
    "        super(CNN, self).__init__()\n",
    "        self.conv1 = nn.Conv2d(input_size, 32, 3, padding=1)\n",
    "        self.conv2 = nn.Conv2d(32, 32, 3, padding=1)\n",
    "        self.conv3 = nn.Conv2d(32, 64, 3, padding=1)\n",
    "        self.conv4 = nn.Conv2d(64, 64, 3, padding=1)\n",
    "        self.pool = nn.MaxPool2d(2, 2)\n",
    "        self.fc1 = nn.Linear(64 * 8 * 8, 256)\n",
    "        self.fc2 = nn.Linear(256, 10)\n",
    "        self.dropout = nn.Dropout(0.5)\n",
    "\n",
    "    def forward(self, x):\n",
    "        x = F.relu(self.conv1(x))\n",
    "        x = F.relu(self.conv2(x))\n",
    "        x = self.pool(x)\n",
    "        x = F.relu(self.conv3(x))\n",
    "        x = F.relu(self.conv4(x))\n",
    "        x = self.pool(x)\n",
    "        x = self.dropout(F.relu(self.fc1(x.view(-1, 64 * 8 * 8))))\n",
    "        x = F.softmax(self.fc2(x), dim=1)\n",
    "        return x\n",
    "    \n",
    "model = CNN()\n",
    "model.cuda()"
   ]
  },
  {
   "attachments": {},
   "cell_type": "markdown",
   "metadata": {},
   "source": [
    "## Train model"
   ]
  },
  {
   "cell_type": "code",
   "execution_count": null,
   "metadata": {},
   "outputs": [],
   "source": [
    "# # train the model\n",
    "# * Optimizer: Adam\n",
    "# * Loss function: Cross Entropy\n",
    "# * Batch size: 32\n",
    "# * Epochs: 20\n",
    "# * Learning rate: 0.001\n",
    "# * early stopping: 5\n",
    "\n",
    "# define the loss function and optimizer\n",
    "import torch.optim as optim\n",
    "loss_fn = nn.CrossEntropyLoss()\n",
    "optimizer = optim.Adam(model.parameters(), lr=0.001)\n",
    "\n",
    "# log the loss and accuracy\n",
    "recode_loss_train = []\n",
    "recode_loss_test = []\n",
    "recode_acc_train = []\n",
    "recode_acc_test = []\n",
    "\n",
    "# define the function to calculate the accuracy\n",
    "def accuracy(y_pred, y_true):\n",
    "    y_pred = torch.argmax(y_pred, dim=1)\n",
    "    return torch.sum(y_pred == y_true).item() / len(y_true) * 100\n",
    "\n",
    "# set the hyperparameters\n",
    "epochs = 20\n",
    "early_stopping = 5\n",
    "\n",
    "# train the model\n",
    "for epoch in range(epochs):\n",
    "    # train the model\n",
    "    model.train()\n",
    "    loss_train = 0\n",
    "    acc_train = 0\n",
    "    for i, (x, y) in enumerate(train_loader):\n",
    "        x = x.cuda()\n",
    "        y = y.cuda()\n",
    "        optimizer.zero_grad()\n",
    "        y_pred = model(x)\n",
    "        acc_train += accuracy(y_pred, y)\n",
    "        loss = loss_fn(y_pred, y)\n",
    "        loss_train += loss.item()\n",
    "        loss.backward()\n",
    "        optimizer.step()\n",
    "    recode_loss_train.append(loss_train / len(train_loader))\n",
    "    recode_acc_train.append(acc_train / len(train_loader))\n",
    "    # test the model\n",
    "    model.eval()\n",
    "    loss_test = 0\n",
    "    acc_test = 0\n",
    "    for i, (x, y) in enumerate(test_loader):\n",
    "        x = x.cuda()\n",
    "        y = y.cuda()\n",
    "        y_pred = model(x)\n",
    "        acc_test += accuracy(y_pred, y)\n",
    "        loss = loss_fn(y_pred, y)\n",
    "        loss_test += loss.item()\n",
    "    recode_loss_test.append(loss_test / len(test_loader))\n",
    "    recode_acc_test.append(acc_test / len(test_loader))\n",
    "    # print the loss and accuracy\n",
    "    print('Epoch: {}/{}...'.format(epoch + 1, epochs),\n",
    "          'Loss_train: {:.4f}...'.format(recode_loss_train[-1]),\n",
    "          'Acc_train: {:.2f}...'.format(recode_acc_train[-1]),\n",
    "          'Loss_test: {:.4f}...'.format(recode_loss_test[-1]),\n",
    "          'Acc_test: {:.2f}...'.format(recode_acc_test[-1]))\n",
    "    # early stopping\n",
    "    if len(recode_loss_test) > early_stopping:\n",
    "        if recode_loss_test[-1] > recode_loss_test[-1 - early_stopping]:\n",
    "            print('Early stopping')\n",
    "            break"
   ]
  },
  {
   "attachments": {},
   "cell_type": "markdown",
   "metadata": {},
   "source": [
    "## History"
   ]
  },
  {
   "cell_type": "code",
   "execution_count": null,
   "metadata": {},
   "outputs": [],
   "source": [
    "# plot the loss and accuracy\n",
    "import matplotlib.pyplot as plt\n",
    "\n",
    "plt.figure(figsize=(10, 5))\n",
    "plt.subplot(1, 2, 1)\n",
    "plt.plot(recode_loss_train, label='train')\n",
    "plt.plot(recode_loss_test, label='test')\n",
    "plt.xlabel('Epoch')\n",
    "plt.ylabel('Loss')\n",
    "plt.legend()\n",
    "plt.subplot(1, 2, 2)\n",
    "plt.plot(recode_acc_train, label='train')\n",
    "plt.plot(recode_acc_test, label='test')\n",
    "plt.xlabel('Epoch')\n",
    "plt.ylabel('Accuracy')\n",
    "plt.legend()\n",
    "plt.show()"
   ]
  }
 ],
 "metadata": {
  "kernelspec": {
   "display_name": "ai-master",
   "language": "python",
   "name": "python3"
  },
  "language_info": {
   "codemirror_mode": {
    "name": "ipython",
    "version": 3
   },
   "file_extension": ".py",
   "mimetype": "text/x-python",
   "name": "python",
   "nbconvert_exporter": "python",
   "pygments_lexer": "ipython3",
   "version": "3.7.16"
  },
  "orig_nbformat": 4,
  "vscode": {
   "interpreter": {
    "hash": "2512312fceb6e908b1c6087f9c29f0bb0c93a332146a69690954edd67c2954cb"
   }
  }
 },
 "nbformat": 4,
 "nbformat_minor": 2
}
