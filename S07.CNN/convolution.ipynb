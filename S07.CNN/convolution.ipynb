{
 "cells": [
  {
   "attachments": {},
   "cell_type": "markdown",
   "metadata": {},
   "source": [
    "# Convolution"
   ]
  },
  {
   "attachments": {},
   "cell_type": "markdown",
   "metadata": {},
   "source": [
    "## im2col"
   ]
  },
  {
   "cell_type": "code",
   "execution_count": 1,
   "metadata": {},
   "outputs": [],
   "source": [
    "import numpy as np\n",
    "\n",
    "def im2col(img, flt_h, flt_w):\n",
    "    \"\"\"Convert image into columns\"\"\"\n",
    "    H, W = img.shape\n",
    "    out = np.zeros((flt_h * flt_w, (H - flt_h + 1) * (W - flt_w + 1)))\n",
    "    for y in range(flt_h):\n",
    "        y_max = y + H - flt_h\n",
    "        for x in range(flt_w):\n",
    "            x_max = x + W - flt_w\n",
    "            out[y * flt_w + x] = img[y:y_max+1, x:x_max+1].ravel()\n",
    "    return out"
   ]
  },
  {
   "cell_type": "code",
   "execution_count": 3,
   "metadata": {},
   "outputs": [
    {
     "name": "stdout",
     "output_type": "stream",
     "text": [
      "[[ 1.  2.  3.  5.  6.  7.  9. 10. 11.]\n",
      " [ 2.  3.  4.  6.  7.  8. 10. 11. 12.]\n",
      " [ 5.  6.  7.  9. 10. 11. 13. 14. 15.]\n",
      " [ 6.  7.  8. 10. 11. 12. 14. 15. 16.]]\n"
     ]
    }
   ],
   "source": [
    "img = np.arange(1, 17).reshape(4, 4)\n",
    "\n",
    "cols = im2col(img, 2, 2)\n",
    "print(cols)"
   ]
  },
  {
   "cell_type": "code",
   "execution_count": 4,
   "metadata": {},
   "outputs": [],
   "source": [
    "def im2col(images, flt_h, flt_w, stride, pad):\n",
    "    \"\"\"Convert images into columns\"\"\"\n",
    "    N, C, H, W = images.shape\n",
    "    out_h = (H + 2 * pad - flt_h) // stride + 1\n",
    "    out_w = (W + 2 * pad - flt_w) // stride + 1\n",
    "    img = np.pad(images, [(0, 0), (0, 0), (pad, pad), (pad, pad)], 'constant')\n",
    "    cols = np.zeros((N, C, flt_h, flt_w, out_h, out_w))\n",
    "    for y in range(flt_h):\n",
    "        y_max = y + stride * out_h\n",
    "        for x in range(flt_w):\n",
    "            x_max = x + stride * out_w\n",
    "            cols[:, :, y, x, :, :] = img[:, :, y:y_max:stride, x:x_max:stride]\n",
    "    return cols.transpose(0, 4, 5, 1, 2, 3).reshape(N * out_h * out_w, -1)"
   ]
  },
  {
   "cell_type": "code",
   "execution_count": 7,
   "metadata": {},
   "outputs": [
    {
     "name": "stdout",
     "output_type": "stream",
     "text": [
      "[[ 1.  2.  5.  6.]\n",
      " [ 2.  3.  6.  7.]\n",
      " [ 3.  4.  7.  8.]\n",
      " [ 5.  6.  9. 10.]\n",
      " [ 6.  7. 10. 11.]\n",
      " [ 7.  8. 11. 12.]\n",
      " [ 9. 10. 13. 14.]\n",
      " [10. 11. 14. 15.]\n",
      " [11. 12. 15. 16.]]\n"
     ]
    }
   ],
   "source": [
    "images = np.arange(1, 17).reshape(1, 1, 4, 4)\n",
    "cols = im2col(images, 2, 2, 1, 0)\n",
    "print(cols)"
   ]
  },
  {
   "attachments": {},
   "cell_type": "markdown",
   "metadata": {},
   "source": [
    "## Convolution"
   ]
  },
  {
   "cell_type": "code",
   "execution_count": 9,
   "metadata": {},
   "outputs": [
    {
     "data": {
      "image/png": "[encoded data removed]",
      "text/plain": [
       "<Figure size 640x480 with 1 Axes>"
      ]
     },
     "metadata": {},
     "output_type": "display_data"
    }
   ],
   "source": [
    "import matplotlib.pyplot as plt\n",
    "from sklearn import datasets\n",
    "\n",
    "digits = datasets.load_digits()\n",
    "images = digits.data[0].reshape(8,8)\n",
    "plt.imshow(images, cmap='gray')\n",
    "plt.show()"
   ]
  },
  {
   "cell_type": "code",
   "execution_count": 10,
   "metadata": {},
   "outputs": [],
   "source": [
    "def im2col(img, flt_h, flt_w, out_h, out_w):\n",
    "    \"\"\"Convert image into columns\"\"\"\n",
    "    cols = np.zeros((flt_h * flt_w, out_h * out_w))\n",
    "    for y in range(flt_h):\n",
    "        y_max = y + out_h\n",
    "        for x in range(flt_w):\n",
    "            x_max = x + out_w\n",
    "            cols[y * flt_w + x] = img[y:y_max, x:x_max].ravel()\n",
    "    return cols"
   ]
  },
  {
   "cell_type": "code",
   "execution_count": 13,
   "metadata": {},
   "outputs": [
    {
     "data": {
      "image/png": "[encoded data removed]",
      "text/plain": [
       "<Figure size 640x480 with 1 Axes>"
      ]
     },
     "metadata": {},
     "output_type": "display_data"
    }
   ],
   "source": [
    "flt = np.array([[-1, 1, -1], [-1, 1, -1], [-1, 1, -1]])\n",
    "flt_h, flt_w = flt.shape\n",
    "flt = flt.reshape(-1)\n",
    "\n",
    "img_h, img_w = images.shape\n",
    "out_h = img_h - flt_h + 1\n",
    "out_w = img_w - flt_w + 1\n",
    "\n",
    "cols = im2col(images, flt_h, flt_w, out_h, out_w)\n",
    "\n",
    "image_out = np.dot(flt, cols).reshape(out_h, out_w) # convolution\n",
    "plt.imshow(image_out, cmap='gray')\n",
    "plt.show()"
   ]
  }
 ],
 "metadata": {
  "kernelspec": {
   "display_name": "ai-master",
   "language": "python",
   "name": "python3"
  },
  "language_info": {
   "codemirror_mode": {
    "name": "ipython",
    "version": 3
   },
   "file_extension": ".py",
   "mimetype": "text/x-python",
   "name": "python",
   "nbconvert_exporter": "python",
   "pygments_lexer": "ipython3",
   "version": "3.7.16"
  },
  "orig_nbformat": 4,
  "vscode": {
   "interpreter": {
    "hash": "2512312fceb6e908b1c6087f9c29f0bb0c93a332146a69690954edd67c2954cb"
   }
  }
 },
 "nbformat": 4,
 "nbformat_minor": 2
}
