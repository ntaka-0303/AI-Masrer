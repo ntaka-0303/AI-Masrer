{
 "cells": [
  {
   "attachments": {},
   "cell_type": "markdown",
   "metadata": {},
   "source": [
    "# Simple Deep Learning"
   ]
  },
  {
   "attachments": {},
   "cell_type": "markdown",
   "metadata": {},
   "source": [
    "## Data Reading"
   ]
  },
  {
   "cell_type": "code",
   "execution_count": 2,
   "metadata": {},
   "outputs": [],
   "source": [
    "import pandas as pd\n",
    "from sklearn import datasets\n",
    "\n",
    "iris = datasets.load_iris()"
   ]
  },
  {
   "attachments": {},
   "cell_type": "markdown",
   "metadata": {},
   "source": [
    "## Preprocessing"
   ]
  },
  {
   "cell_type": "code",
   "execution_count": 3,
   "metadata": {},
   "outputs": [
    {
     "name": "stderr",
     "output_type": "stream",
     "text": [
      "2023-02-26 15:17:03.426940: I tensorflow/core/platform/cpu_feature_guard.cc:193] This TensorFlow binary is optimized with oneAPI Deep Neural Network Library (oneDNN) to use the following CPU instructions in performance-critical operations:  SSE4.1 SSE4.2 AVX AVX2 FMA\n",
      "To enable them in other operations, rebuild TensorFlow with the appropriate compiler flags.\n"
     ]
    }
   ],
   "source": [
    "from sklearn import preprocessing\n",
    "from keras.utils import np_utils\n",
    "\n",
    "scaler = preprocessing.StandardScaler()\n",
    "scaler.fit(iris.data)\n",
    "x = scaler.transform(iris.data)\n",
    "t = np_utils.to_categorical(iris.target)"
   ]
  },
  {
   "attachments": {},
   "cell_type": "markdown",
   "metadata": {},
   "source": [
    "## Traindata and Testdata"
   ]
  },
  {
   "cell_type": "code",
   "execution_count": 4,
   "metadata": {},
   "outputs": [],
   "source": [
    "from sklearn.model_selection import train_test_split\n",
    "\n",
    "x_train, x_test, t_train, t_test = train_test_split(x, t, train_size=0.75, random_state=0)"
   ]
  },
  {
   "attachments": {},
   "cell_type": "markdown",
   "metadata": {},
   "source": [
    "## Building Model"
   ]
  },
  {
   "cell_type": "code",
   "execution_count": 5,
   "metadata": {},
   "outputs": [
    {
     "name": "stderr",
     "output_type": "stream",
     "text": [
      "2023-02-26 15:25:07.018309: I tensorflow/core/platform/cpu_feature_guard.cc:193] This TensorFlow binary is optimized with oneAPI Deep Neural Network Library (oneDNN) to use the following CPU instructions in performance-critical operations:  SSE4.1 SSE4.2 AVX AVX2 FMA\n",
      "To enable them in other operations, rebuild TensorFlow with the appropriate compiler flags.\n"
     ]
    }
   ],
   "source": [
    "from keras.models import Sequential\n",
    "from keras.layers import Dense, Activation\n",
    "\n",
    "model = Sequential()\n",
    "model.add(Dense(32, input_dim=4))\n",
    "model.add(Activation('relu'))\n",
    "model.add(Dense(32))\n",
    "model.add(Activation('relu'))\n",
    "model.add(Dense(3))\n",
    "model.add(Activation('softmax'))\n",
    "model.compile(loss='categorical_crossentropy', optimizer='sgd', metrics=['accuracy'])"
   ]
  },
  {
   "attachments": {},
   "cell_type": "markdown",
   "metadata": {},
   "source": [
    "## Training"
   ]
  },
  {
   "cell_type": "code",
   "execution_count": 6,
   "metadata": {},
   "outputs": [
    {
     "name": "stdout",
     "output_type": "stream",
     "text": [
      "Epoch 1/30\n",
      "14/14 [==============================] - 3s 8ms/step - loss: 1.0668 - accuracy: 0.4018\n",
      "Epoch 2/30\n",
      "14/14 [==============================] - 0s 7ms/step - loss: 0.9960 - accuracy: 0.5625\n",
      "Epoch 3/30\n",
      "14/14 [==============================] - 0s 6ms/step - loss: 0.9366 - accuracy: 0.6964\n",
      "Epoch 4/30\n",
      "14/14 [==============================] - 0s 6ms/step - loss: 0.8837 - accuracy: 0.6964\n",
      "Epoch 5/30\n",
      "14/14 [==============================] - 0s 6ms/step - loss: 0.8343 - accuracy: 0.7232\n",
      "Epoch 6/30\n",
      "14/14 [==============================] - 0s 7ms/step - loss: 0.7879 - accuracy: 0.7500\n",
      "Epoch 7/30\n",
      "14/14 [==============================] - 0s 15ms/step - loss: 0.7434 - accuracy: 0.8214\n",
      "Epoch 8/30\n",
      "14/14 [==============================] - 0s 8ms/step - loss: 0.7011 - accuracy: 0.8571\n",
      "Epoch 9/30\n",
      "14/14 [==============================] - 0s 15ms/step - loss: 0.6608 - accuracy: 0.8571\n",
      "Epoch 10/30\n",
      "14/14 [==============================] - 0s 12ms/step - loss: 0.6225 - accuracy: 0.8571\n",
      "Epoch 11/30\n",
      "14/14 [==============================] - 0s 8ms/step - loss: 0.5872 - accuracy: 0.8661\n",
      "Epoch 12/30\n",
      "14/14 [==============================] - 0s 3ms/step - loss: 0.5545 - accuracy: 0.8661\n",
      "Epoch 13/30\n",
      "14/14 [==============================] - 0s 4ms/step - loss: 0.5256 - accuracy: 0.8571\n",
      "Epoch 14/30\n",
      "14/14 [==============================] - 0s 6ms/step - loss: 0.4986 - accuracy: 0.8571\n",
      "Epoch 15/30\n",
      "14/14 [==============================] - 0s 10ms/step - loss: 0.4751 - accuracy: 0.8571\n",
      "Epoch 16/30\n",
      "14/14 [==============================] - 0s 13ms/step - loss: 0.4546 - accuracy: 0.8571\n",
      "Epoch 17/30\n",
      "14/14 [==============================] - 0s 5ms/step - loss: 0.4354 - accuracy: 0.8571\n",
      "Epoch 18/30\n",
      "14/14 [==============================] - 0s 6ms/step - loss: 0.4180 - accuracy: 0.8571\n",
      "Epoch 19/30\n",
      "14/14 [==============================] - 0s 11ms/step - loss: 0.4029 - accuracy: 0.8661\n",
      "Epoch 20/30\n",
      "14/14 [==============================] - 0s 6ms/step - loss: 0.3882 - accuracy: 0.8661\n",
      "Epoch 21/30\n",
      "14/14 [==============================] - 0s 8ms/step - loss: 0.3749 - accuracy: 0.8661\n",
      "Epoch 22/30\n",
      "14/14 [==============================] - 0s 5ms/step - loss: 0.3630 - accuracy: 0.8839\n",
      "Epoch 23/30\n",
      "14/14 [==============================] - 0s 7ms/step - loss: 0.3518 - accuracy: 0.8929\n",
      "Epoch 24/30\n",
      "14/14 [==============================] - 0s 8ms/step - loss: 0.3416 - accuracy: 0.8839\n",
      "Epoch 25/30\n",
      "14/14 [==============================] - 0s 8ms/step - loss: 0.3317 - accuracy: 0.9018\n",
      "Epoch 26/30\n",
      "14/14 [==============================] - 0s 7ms/step - loss: 0.3236 - accuracy: 0.9018\n",
      "Epoch 27/30\n",
      "14/14 [==============================] - 0s 6ms/step - loss: 0.3143 - accuracy: 0.9018\n",
      "Epoch 28/30\n",
      "14/14 [==============================] - 0s 4ms/step - loss: 0.3069 - accuracy: 0.9107\n",
      "Epoch 29/30\n",
      "14/14 [==============================] - 0s 9ms/step - loss: 0.2987 - accuracy: 0.9107\n",
      "Epoch 30/30\n",
      "14/14 [==============================] - 0s 4ms/step - loss: 0.2916 - accuracy: 0.9107\n"
     ]
    }
   ],
   "source": [
    "history = model.fit(x_train, t_train, epochs=30, batch_size=8)"
   ]
  },
  {
   "cell_type": "markdown",
   "metadata": {},
   "source": [
    "## The history object"
   ]
  },
  {
   "cell_type": "code",
   "execution_count": 9,
   "metadata": {},
   "outputs": [
    {
     "data": {
      "image/png": "[encoded data removed]",
      "text/plain": [
       "<Figure size 640x480 with 1 Axes>"
      ]
     },
     "metadata": {},
     "output_type": "display_data"
    }
   ],
   "source": [
    "import matplotlib.pyplot as plt\n",
    "\n",
    "hist_loss = history.history['loss']\n",
    "hist_acc = history.history['accuracy']\n",
    "\n",
    "plt.plot(range(len(hist_loss)), hist_loss, marker='.', label='loss')\n",
    "plt.plot(range(len(hist_acc)), hist_acc, marker='.', label='acc')\n",
    "plt.legend(loc='best')\n",
    "plt.show()"
   ]
  },
  {
   "attachments": {},
   "cell_type": "markdown",
   "metadata": {},
   "source": [
    "## Evaluation"
   ]
  },
  {
   "cell_type": "code",
   "execution_count": 10,
   "metadata": {},
   "outputs": [
    {
     "name": "stdout",
     "output_type": "stream",
     "text": [
      "2/2 [==============================] - 1s 19ms/step - loss: 0.3783 - accuracy: 0.8158\n",
      "loss:  0.3782520890235901\n",
      "accuracy:  0.8157894611358643\n"
     ]
    }
   ],
   "source": [
    "loss, accuracy = model.evaluate(x_test, t_test)\n",
    "print('loss: ', loss)\n",
    "print('accuracy: ', accuracy)"
   ]
  },
  {
   "attachments": {},
   "cell_type": "markdown",
   "metadata": {},
   "source": [
    "## Prediction"
   ]
  },
  {
   "cell_type": "code",
   "execution_count": 11,
   "metadata": {},
   "outputs": [
    {
     "name": "stdout",
     "output_type": "stream",
     "text": [
      "2/2 [==============================] - 1s 20ms/step\n"
     ]
    },
    {
     "data": {
      "text/plain": [
       "array([[0.01054327, 0.122443  , 0.8670137 ],\n",
       "       [0.09572724, 0.7324458 , 0.1718269 ],\n",
       "       [0.9763281 , 0.01142089, 0.01225101],\n",
       "       [0.01112695, 0.10312647, 0.88574654],\n",
       "       [0.9578514 , 0.0226339 , 0.01951467],\n",
       "       [0.00728457, 0.05797404, 0.93474144],\n",
       "       [0.9650593 , 0.01794962, 0.01699108],\n",
       "       [0.07723796, 0.3655974 , 0.55716467],\n",
       "       [0.0640486 , 0.3776941 , 0.55825734],\n",
       "       [0.12909804, 0.5623175 , 0.30858448],\n",
       "       [0.06364624, 0.36875305, 0.5676007 ],\n",
       "       [0.10737383, 0.41555429, 0.4770719 ],\n",
       "       [0.13499999, 0.52657783, 0.3384222 ],\n",
       "       [0.06620762, 0.38232204, 0.55147034],\n",
       "       [0.10104261, 0.44368616, 0.45527127],\n",
       "       [0.9715191 , 0.01405148, 0.01442941],\n",
       "       [0.09332248, 0.43570337, 0.4709742 ],\n",
       "       [0.1392045 , 0.6524418 , 0.2083537 ],\n",
       "       [0.9351503 , 0.04248182, 0.02236788],\n",
       "       [0.9684189 , 0.0156237 , 0.01595746],\n",
       "       [0.03558153, 0.27232373, 0.6920947 ],\n",
       "       [0.13972926, 0.48157832, 0.3786924 ],\n",
       "       [0.94488335, 0.03103368, 0.02408293],\n",
       "       [0.9354754 , 0.04467871, 0.01984581],\n",
       "       [0.03539231, 0.26112282, 0.70348483],\n",
       "       [0.98073685, 0.00949714, 0.00976595],\n",
       "       [0.9490466 , 0.02672529, 0.02422816],\n",
       "       [0.12935723, 0.5172564 , 0.35338643],\n",
       "       [0.17043531, 0.71393055, 0.11563414],\n",
       "       [0.94618666, 0.02962477, 0.0241886 ],\n",
       "       [0.03624584, 0.20245697, 0.76129717],\n",
       "       [0.17359705, 0.47490588, 0.35149705],\n",
       "       [0.9586001 , 0.02118937, 0.02021049],\n",
       "       [0.0474489 , 0.2624303 , 0.6901209 ],\n",
       "       [0.00777055, 0.08408032, 0.9081491 ],\n",
       "       [0.18861753, 0.6120633 , 0.19931911],\n",
       "       [0.9487679 , 0.02667034, 0.02456176],\n",
       "       [0.05421877, 0.34671858, 0.5990626 ]], dtype=float32)"
      ]
     },
     "execution_count": 11,
     "metadata": {},
     "output_type": "execute_result"
    }
   ],
   "source": [
    "model.predict(x_test)"
   ]
  },
  {
   "attachments": {},
   "cell_type": "markdown",
   "metadata": {},
   "source": [
    "## Saving and Loading Model"
   ]
  },
  {
   "cell_type": "code",
   "execution_count": 12,
   "metadata": {},
   "outputs": [
    {
     "data": {
      "text/plain": [
       "<keras.engine.sequential.Sequential at 0x7f88bad4d9d0>"
      ]
     },
     "execution_count": 12,
     "metadata": {},
     "output_type": "execute_result"
    }
   ],
   "source": [
    "from keras.models import load_model\n",
    "\n",
    "model.save('iris_model.h5')\n",
    "load_model('iris_model.h5')"
   ]
  }
 ],
 "metadata": {
  "kernelspec": {
   "display_name": "ai-master",
   "language": "python",
   "name": "python3"
  },
  "language_info": {
   "codemirror_mode": {
    "name": "ipython",
    "version": 3
   },
   "file_extension": ".py",
   "mimetype": "text/x-python",
   "name": "python",
   "nbconvert_exporter": "python",
   "pygments_lexer": "ipython3",
   "version": "3.7.16"
  },
  "orig_nbformat": 4,
  "vscode": {
   "interpreter": {
    "hash": "2512312fceb6e908b1c6087f9c29f0bb0c93a332146a69690954edd67c2954cb"
   }
  }
 },
 "nbformat": 4,
 "nbformat_minor": 2
}
