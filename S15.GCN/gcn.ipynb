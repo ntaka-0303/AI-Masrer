{
  "cells": [
    {
      "cell_type": "markdown",
      "metadata": {
        "id": "gwWfMm5t4YGd"
      },
      "source": [
        "# GCN\n",
        "Build the model with the following structure using the PyTorch Geometric library:\n",
        "1. Input layer\n",
        "2. 1st hidden layer: GCNConv + ReLU\n",
        "3. 2nd hidden layer: GCNConv + ReLU\n",
        "4. 3rd hidden layer: GCNConv + global mean pooling + Dropout\n",
        "5. Output layer: Linear\n",
        "* Loss function: CrossEntropyLoss\n",
        "* Optimizer: Adam"
      ]
    },
    {
      "cell_type": "markdown",
      "metadata": {
        "id": "yX_saS544YGi"
      },
      "source": [
        "**WARNING** <br>\n",
        "Execute only colab\n"
      ]
    },
    {
      "cell_type": "code",
      "execution_count": 1,
      "metadata": {
        "id": "Axr7251V4YGj",
        "outputId": "12638acb-9036-4e89-d735-f3337717a411",
        "colab": {
          "base_uri": "https://localhost:8080/"
        }
      },
      "outputs": [
        {
          "output_type": "stream",
          "name": "stdout",
          "text": [
            "Looking in indexes: https://pypi.org/simple, https://us-python.pkg.dev/colab-wheels/public/simple/\n",
            "Looking in links: https://data.pyg.org/whl/torch-1.13.0+cu116.html\n",
            "Collecting pyg-lib\n",
            "  Downloading https://data.pyg.org/whl/torch-1.13.0%2Bcu116/pyg_lib-0.1.0%2Bpt113cu116-cp39-cp39-linux_x86_64.whl (1.9 MB)\n",
            "\u001b[2K     \u001b[90m━━━━━━━━━━━━━━━━━━━━━━━━━━━━━━━━━━━━━━━━\u001b[0m \u001b[32m1.9/1.9 MB\u001b[0m \u001b[31m23.9 MB/s\u001b[0m eta \u001b[36m0:00:00\u001b[0m\n",
            "\u001b[?25hCollecting torch-scatter\n",
            "  Downloading https://data.pyg.org/whl/torch-1.13.0%2Bcu116/torch_scatter-2.1.1%2Bpt113cu116-cp39-cp39-linux_x86_64.whl (9.4 MB)\n",
            "\u001b[2K     \u001b[90m━━━━━━━━━━━━━━━━━━━━━━━━━━━━━━━━━━━━━━━━\u001b[0m \u001b[32m9.4/9.4 MB\u001b[0m \u001b[31m106.1 MB/s\u001b[0m eta \u001b[36m0:00:00\u001b[0m\n",
            "\u001b[?25hCollecting torch-sparse\n",
            "  Downloading https://data.pyg.org/whl/torch-1.13.0%2Bcu116/torch_sparse-0.6.17%2Bpt113cu116-cp39-cp39-linux_x86_64.whl (4.5 MB)\n",
            "\u001b[2K     \u001b[90m━━━━━━━━━━━━━━━━━━━━━━━━━━━━━━━━━━━━━━━━\u001b[0m \u001b[32m4.5/4.5 MB\u001b[0m \u001b[31m99.2 MB/s\u001b[0m eta \u001b[36m0:00:00\u001b[0m\n",
            "\u001b[?25hRequirement already satisfied: scipy in /usr/local/lib/python3.9/dist-packages (from torch-sparse) (1.10.1)\n",
            "Requirement already satisfied: numpy<1.27.0,>=1.19.5 in /usr/local/lib/python3.9/dist-packages (from scipy->torch-sparse) (1.22.4)\n",
            "Installing collected packages: torch-scatter, pyg-lib, torch-sparse\n",
            "Successfully installed pyg-lib-0.1.0+pt113cu116 torch-scatter-2.1.1+pt113cu116 torch-sparse-0.6.17+pt113cu116\n",
            "Looking in indexes: https://pypi.org/simple, https://us-python.pkg.dev/colab-wheels/public/simple/\n",
            "Collecting torch-geometric\n",
            "  Downloading torch_geometric-2.2.0.tar.gz (564 kB)\n",
            "\u001b[2K     \u001b[90m━━━━━━━━━━━━━━━━━━━━━━━━━━━━━━━━━━━━━━\u001b[0m \u001b[32m565.0/565.0 KB\u001b[0m \u001b[31m11.1 MB/s\u001b[0m eta \u001b[36m0:00:00\u001b[0m\n",
            "\u001b[?25h  Preparing metadata (setup.py) ... \u001b[?25l\u001b[?25hdone\n",
            "Requirement already satisfied: tqdm in /usr/local/lib/python3.9/dist-packages (from torch-geometric) (4.65.0)\n",
            "Requirement already satisfied: numpy in /usr/local/lib/python3.9/dist-packages (from torch-geometric) (1.22.4)\n",
            "Requirement already satisfied: scipy in /usr/local/lib/python3.9/dist-packages (from torch-geometric) (1.10.1)\n",
            "Requirement already satisfied: jinja2 in /usr/local/lib/python3.9/dist-packages (from torch-geometric) (3.1.2)\n",
            "Requirement already satisfied: requests in /usr/local/lib/python3.9/dist-packages (from torch-geometric) (2.27.1)\n",
            "Requirement already satisfied: pyparsing in /usr/local/lib/python3.9/dist-packages (from torch-geometric) (3.0.9)\n",
            "Requirement already satisfied: scikit-learn in /usr/local/lib/python3.9/dist-packages (from torch-geometric) (1.2.2)\n",
            "Requirement already satisfied: psutil>=5.8.0 in /usr/local/lib/python3.9/dist-packages (from torch-geometric) (5.9.4)\n",
            "Requirement already satisfied: MarkupSafe>=2.0 in /usr/local/lib/python3.9/dist-packages (from jinja2->torch-geometric) (2.1.2)\n",
            "Requirement already satisfied: idna<4,>=2.5 in /usr/local/lib/python3.9/dist-packages (from requests->torch-geometric) (3.4)\n",
            "Requirement already satisfied: certifi>=2017.4.17 in /usr/local/lib/python3.9/dist-packages (from requests->torch-geometric) (2022.12.7)\n",
            "Requirement already satisfied: urllib3<1.27,>=1.21.1 in /usr/local/lib/python3.9/dist-packages (from requests->torch-geometric) (1.26.15)\n",
            "Requirement already satisfied: charset-normalizer~=2.0.0 in /usr/local/lib/python3.9/dist-packages (from requests->torch-geometric) (2.0.12)\n",
            "Requirement already satisfied: threadpoolctl>=2.0.0 in /usr/local/lib/python3.9/dist-packages (from scikit-learn->torch-geometric) (3.1.0)\n",
            "Requirement already satisfied: joblib>=1.1.1 in /usr/local/lib/python3.9/dist-packages (from scikit-learn->torch-geometric) (1.1.1)\n",
            "Building wheels for collected packages: torch-geometric\n",
            "  Building wheel for torch-geometric (setup.py) ... \u001b[?25l\u001b[?25hdone\n",
            "  Created wheel for torch-geometric: filename=torch_geometric-2.2.0-py3-none-any.whl size=773302 sha256=0f60c640f09f05348e3f2558129086d6af7fc4e9ce046bcc4cb4bc3b33973be4\n",
            "  Stored in directory: /root/.cache/pip/wheels/31/b2/8c/9b4bb72a4384eabd1ffeab2b7ead692c9165e35711f8a9dc72\n",
            "Successfully built torch-geometric\n",
            "Installing collected packages: torch-geometric\n",
            "Successfully installed torch-geometric-2.2.0\n",
            "Looking in indexes: https://pypi.org/simple, https://us-python.pkg.dev/colab-wheels/public/simple/\n",
            "Collecting scipy==1.8.0\n",
            "  Downloading scipy-1.8.0-cp39-cp39-manylinux_2_17_x86_64.manylinux2014_x86_64.whl (42.1 MB)\n",
            "\u001b[2K     \u001b[90m━━━━━━━━━━━━━━━━━━━━━━━━━━━━━━━━━━━━━━━━\u001b[0m \u001b[32m42.1/42.1 MB\u001b[0m \u001b[31m26.9 MB/s\u001b[0m eta \u001b[36m0:00:00\u001b[0m\n",
            "\u001b[?25hRequirement already satisfied: numpy<1.25.0,>=1.17.3 in /usr/local/lib/python3.9/dist-packages (from scipy==1.8.0) (1.22.4)\n",
            "Installing collected packages: scipy\n",
            "  Attempting uninstall: scipy\n",
            "    Found existing installation: scipy 1.10.1\n",
            "    Uninstalling scipy-1.10.1:\n",
            "      Successfully uninstalled scipy-1.10.1\n",
            "Successfully installed scipy-1.8.0\n"
          ]
        }
      ],
      "source": [
        "# install torch-geometric and related libraries\n",
        "!pip install pyg-lib torch-scatter torch-sparse -f https://data.pyg.org/whl/torch-1.13.0+cu116.html\n",
        "!pip install torch-geometric\n",
        "!pip install scipy==1.8.0"
      ]
    },
    {
      "cell_type": "markdown",
      "metadata": {
        "id": "-G5G0ekW4YGk"
      },
      "source": [
        "## Load the dataset"
      ]
    },
    {
      "cell_type": "code",
      "execution_count": 5,
      "metadata": {
        "id": "eMkcfZnG4YGk",
        "outputId": "c505c38d-b4c8-486f-fe36-c5ad4fc20bc5",
        "colab": {
          "base_uri": "https://localhost:8080/"
        }
      },
      "outputs": [
        {
          "output_type": "stream",
          "name": "stderr",
          "text": [
            "/usr/local/lib/python3.9/dist-packages/torch_geometric/deprecation.py:12: UserWarning: 'data.DataLoader' is deprecated, use 'loader.DataLoader' instead\n",
            "  warnings.warn(out)\n"
          ]
        }
      ],
      "source": [
        "from torch_geometric.datasets import TUDataset\n",
        "from torch_geometric.data import DataLoader\n",
        "\n",
        "# load dataset\n",
        "dataset = TUDataset(root='/tmp/MUTAG', name='MUTAG')\n",
        "\n",
        "# split dataset into train, validation and test\n",
        "dataset = dataset.shuffle()\n",
        "train_dataset = dataset[:140]\n",
        "val_dataset = dataset[140:]\n",
        "\n",
        "# create dataloader\n",
        "batch_size = 64\n",
        "train_loader = DataLoader(train_dataset, batch_size=batch_size, shuffle=True)\n",
        "val_loader = DataLoader(val_dataset, batch_size=batch_size, shuffle=False)"
      ]
    },
    {
      "cell_type": "markdown",
      "metadata": {
        "id": "-L-zLNab4YGn"
      },
      "source": [
        "## Build the model"
      ]
    },
    {
      "cell_type": "code",
      "execution_count": 6,
      "metadata": {
        "id": "r_cCi3rR4YGn",
        "outputId": "1128b249-b684-459f-f40e-07f8f955e995",
        "colab": {
          "base_uri": "https://localhost:8080/"
        }
      },
      "outputs": [
        {
          "output_type": "execute_result",
          "data": {
            "text/plain": [
              "Net(\n",
              "  (conv1): GCNConv(7, 64)\n",
              "  (conv2): GCNConv(64, 64)\n",
              "  (conv3): GCNConv(64, 64)\n",
              "  (fc): Linear(in_features=64, out_features=2, bias=True)\n",
              "  (relu): ReLU()\n",
              "  (dropout): Dropout(p=0.5, inplace=False)\n",
              ")"
            ]
          },
          "metadata": {},
          "execution_count": 6
        }
      ],
      "source": [
        "# define model\n",
        "# 1. Input layer\n",
        "# 2. 1st hidden layer: GCNConv + ReLU\n",
        "# 3. 2nd hidden layer: GCNConv + ReLU\n",
        "# 4. 3rd hidden layer: GCNConv + global mean pooling + Dropout\n",
        "# 5. Output layer: Linear\n",
        "\n",
        "import torch\n",
        "from torch.nn import Linear, ReLU, Dropout\n",
        "from torch_geometric.nn import GCNConv, global_mean_pool\n",
        "\n",
        "n_h = 64\n",
        "\n",
        "class Net(torch.nn.Module):\n",
        "    def __init__(self):\n",
        "        super(Net, self).__init__()\n",
        "        self.conv1 = GCNConv(dataset.num_node_features, n_h)\n",
        "        self.conv2 = GCNConv(n_h, n_h)\n",
        "        self.conv3 = GCNConv(n_h, n_h)\n",
        "        self.fc = Linear(n_h, dataset.num_classes)\n",
        "\n",
        "        self.relu = ReLU()\n",
        "        self.dropout = Dropout(p=0.5)\n",
        "\n",
        "    def forward(self, data):\n",
        "        x, edge_index, batch = data.x, data.edge_index, data.batch\n",
        "        x = self.conv1(x, edge_index)\n",
        "        x = self.relu(x)\n",
        "        x = self.dropout(x)\n",
        "        x = self.conv2(x, edge_index)\n",
        "        x = self.relu(x)\n",
        "        x = self.dropout(x)\n",
        "        x = self.conv3(x, edge_index)\n",
        "        x = self.relu(x)\n",
        "        x = global_mean_pool(x, batch)\n",
        "        x = self.dropout(x)\n",
        "        x = self.fc(x)\n",
        "        return x\n",
        "\n",
        "net = Net()\n",
        "net.cuda() # use GPU"
      ]
    },
    {
      "cell_type": "markdown",
      "metadata": {
        "id": "uKdK6pyH4YGo"
      },
      "source": [
        "# Train the model"
      ]
    },
    {
      "cell_type": "code",
      "execution_count": 7,
      "metadata": {
        "id": "4RbSPogW4YGo",
        "outputId": "9230f209-5057-4902-aafc-de0b83279a98",
        "colab": {
          "base_uri": "https://localhost:8080/"
        }
      },
      "outputs": [
        {
          "output_type": "stream",
          "name": "stdout",
          "text": [
            "Epoch: 000, Train Acc: 65.71, Val Acc: 68.75\n",
            "Epoch: 001, Train Acc: 65.71, Val Acc: 68.75\n",
            "Epoch: 002, Train Acc: 65.71, Val Acc: 68.75\n",
            "Epoch: 003, Train Acc: 65.71, Val Acc: 68.75\n",
            "Epoch: 004, Train Acc: 65.71, Val Acc: 68.75\n",
            "Epoch: 005, Train Acc: 65.71, Val Acc: 68.75\n",
            "Epoch: 006, Train Acc: 65.71, Val Acc: 68.75\n",
            "Epoch: 007, Train Acc: 65.71, Val Acc: 68.75\n",
            "Epoch: 008, Train Acc: 65.71, Val Acc: 68.75\n",
            "Epoch: 009, Train Acc: 65.71, Val Acc: 68.75\n",
            "Epoch: 010, Train Acc: 65.71, Val Acc: 68.75\n",
            "Epoch: 011, Train Acc: 65.71, Val Acc: 68.75\n",
            "Epoch: 012, Train Acc: 65.71, Val Acc: 68.75\n",
            "Epoch: 013, Train Acc: 65.71, Val Acc: 68.75\n",
            "Epoch: 014, Train Acc: 65.71, Val Acc: 68.75\n",
            "Epoch: 015, Train Acc: 65.71, Val Acc: 68.75\n",
            "Epoch: 016, Train Acc: 65.71, Val Acc: 68.75\n",
            "Epoch: 017, Train Acc: 65.71, Val Acc: 68.75\n",
            "Epoch: 018, Train Acc: 65.71, Val Acc: 68.75\n",
            "Epoch: 019, Train Acc: 65.71, Val Acc: 68.75\n",
            "Epoch: 020, Train Acc: 65.71, Val Acc: 68.75\n",
            "Epoch: 021, Train Acc: 65.71, Val Acc: 68.75\n",
            "Epoch: 022, Train Acc: 65.71, Val Acc: 68.75\n",
            "Epoch: 023, Train Acc: 65.71, Val Acc: 68.75\n",
            "Epoch: 024, Train Acc: 65.71, Val Acc: 68.75\n",
            "Epoch: 025, Train Acc: 65.71, Val Acc: 68.75\n",
            "Epoch: 026, Train Acc: 65.71, Val Acc: 68.75\n",
            "Epoch: 027, Train Acc: 65.71, Val Acc: 68.75\n",
            "Epoch: 028, Train Acc: 65.71, Val Acc: 68.75\n",
            "Epoch: 029, Train Acc: 65.71, Val Acc: 68.75\n",
            "Epoch: 030, Train Acc: 65.71, Val Acc: 68.75\n",
            "Epoch: 031, Train Acc: 65.71, Val Acc: 68.75\n",
            "Epoch: 032, Train Acc: 65.71, Val Acc: 68.75\n",
            "Epoch: 033, Train Acc: 65.71, Val Acc: 68.75\n",
            "Epoch: 034, Train Acc: 65.71, Val Acc: 68.75\n",
            "Epoch: 035, Train Acc: 65.71, Val Acc: 68.75\n",
            "Epoch: 036, Train Acc: 65.71, Val Acc: 68.75\n",
            "Epoch: 037, Train Acc: 65.71, Val Acc: 68.75\n",
            "Epoch: 038, Train Acc: 65.71, Val Acc: 68.75\n",
            "Epoch: 039, Train Acc: 65.71, Val Acc: 68.75\n",
            "Epoch: 040, Train Acc: 65.71, Val Acc: 68.75\n",
            "Epoch: 041, Train Acc: 65.71, Val Acc: 68.75\n",
            "Epoch: 042, Train Acc: 65.71, Val Acc: 70.83\n",
            "Epoch: 043, Train Acc: 65.71, Val Acc: 70.83\n",
            "Epoch: 044, Train Acc: 65.71, Val Acc: 70.83\n",
            "Epoch: 045, Train Acc: 65.71, Val Acc: 70.83\n",
            "Epoch: 046, Train Acc: 65.71, Val Acc: 70.83\n",
            "Epoch: 047, Train Acc: 66.43, Val Acc: 70.83\n",
            "Epoch: 048, Train Acc: 67.14, Val Acc: 70.83\n",
            "Epoch: 049, Train Acc: 67.86, Val Acc: 70.83\n",
            "Epoch: 050, Train Acc: 69.29, Val Acc: 72.92\n",
            "Epoch: 051, Train Acc: 69.29, Val Acc: 72.92\n",
            "Epoch: 052, Train Acc: 74.29, Val Acc: 75.00\n",
            "Epoch: 053, Train Acc: 74.29, Val Acc: 75.00\n",
            "Epoch: 054, Train Acc: 74.29, Val Acc: 79.17\n",
            "Epoch: 055, Train Acc: 72.86, Val Acc: 83.33\n",
            "Epoch: 056, Train Acc: 70.00, Val Acc: 81.25\n",
            "Epoch: 057, Train Acc: 70.00, Val Acc: 81.25\n",
            "Epoch: 058, Train Acc: 72.14, Val Acc: 79.17\n",
            "Epoch: 059, Train Acc: 72.14, Val Acc: 83.33\n",
            "Epoch: 060, Train Acc: 72.86, Val Acc: 81.25\n",
            "Epoch: 061, Train Acc: 72.86, Val Acc: 81.25\n",
            "Epoch: 062, Train Acc: 72.86, Val Acc: 83.33\n",
            "Epoch: 063, Train Acc: 71.43, Val Acc: 79.17\n",
            "Epoch: 064, Train Acc: 72.86, Val Acc: 83.33\n",
            "Epoch: 065, Train Acc: 70.71, Val Acc: 81.25\n",
            "Epoch: 066, Train Acc: 70.71, Val Acc: 79.17\n",
            "Epoch: 067, Train Acc: 70.71, Val Acc: 79.17\n",
            "Epoch: 068, Train Acc: 70.71, Val Acc: 81.25\n",
            "Epoch: 069, Train Acc: 70.00, Val Acc: 79.17\n",
            "Epoch: 070, Train Acc: 71.43, Val Acc: 79.17\n",
            "Epoch: 071, Train Acc: 70.00, Val Acc: 79.17\n",
            "Epoch: 072, Train Acc: 70.71, Val Acc: 83.33\n",
            "Epoch: 073, Train Acc: 69.29, Val Acc: 83.33\n",
            "Epoch: 074, Train Acc: 70.71, Val Acc: 83.33\n",
            "Epoch: 075, Train Acc: 70.71, Val Acc: 83.33\n",
            "Epoch: 076, Train Acc: 69.29, Val Acc: 85.42\n",
            "Epoch: 077, Train Acc: 69.29, Val Acc: 85.42\n",
            "Epoch: 078, Train Acc: 69.29, Val Acc: 85.42\n",
            "Epoch: 079, Train Acc: 71.43, Val Acc: 83.33\n",
            "Epoch: 080, Train Acc: 71.43, Val Acc: 81.25\n",
            "Epoch: 081, Train Acc: 72.14, Val Acc: 79.17\n",
            "Epoch: 082, Train Acc: 71.43, Val Acc: 81.25\n",
            "Epoch: 083, Train Acc: 71.43, Val Acc: 81.25\n",
            "Epoch: 084, Train Acc: 72.14, Val Acc: 79.17\n",
            "Epoch: 085, Train Acc: 70.71, Val Acc: 83.33\n",
            "Epoch: 086, Train Acc: 70.71, Val Acc: 83.33\n",
            "Epoch: 087, Train Acc: 70.71, Val Acc: 83.33\n",
            "Epoch: 088, Train Acc: 71.43, Val Acc: 83.33\n",
            "Epoch: 089, Train Acc: 71.43, Val Acc: 83.33\n",
            "Epoch: 090, Train Acc: 71.43, Val Acc: 83.33\n",
            "Epoch: 091, Train Acc: 71.43, Val Acc: 83.33\n",
            "Epoch: 092, Train Acc: 70.71, Val Acc: 83.33\n",
            "Epoch: 093, Train Acc: 71.43, Val Acc: 83.33\n",
            "Epoch: 094, Train Acc: 72.14, Val Acc: 83.33\n",
            "Epoch: 095, Train Acc: 72.14, Val Acc: 83.33\n",
            "Epoch: 096, Train Acc: 72.14, Val Acc: 83.33\n",
            "Epoch: 097, Train Acc: 72.14, Val Acc: 83.33\n",
            "Epoch: 098, Train Acc: 71.43, Val Acc: 83.33\n",
            "Epoch: 099, Train Acc: 71.43, Val Acc: 83.33\n",
            "Epoch: 100, Train Acc: 72.86, Val Acc: 85.42\n",
            "Epoch: 101, Train Acc: 72.14, Val Acc: 83.33\n",
            "Epoch: 102, Train Acc: 70.00, Val Acc: 85.42\n",
            "Epoch: 103, Train Acc: 71.43, Val Acc: 83.33\n",
            "Epoch: 104, Train Acc: 70.71, Val Acc: 85.42\n",
            "Epoch: 105, Train Acc: 72.14, Val Acc: 83.33\n",
            "Epoch: 106, Train Acc: 71.43, Val Acc: 83.33\n",
            "Epoch: 107, Train Acc: 71.43, Val Acc: 83.33\n",
            "Epoch: 108, Train Acc: 71.43, Val Acc: 83.33\n",
            "Epoch: 109, Train Acc: 72.14, Val Acc: 83.33\n",
            "Epoch: 110, Train Acc: 72.14, Val Acc: 83.33\n",
            "Epoch: 111, Train Acc: 71.43, Val Acc: 83.33\n",
            "Epoch: 112, Train Acc: 71.43, Val Acc: 83.33\n",
            "Epoch: 113, Train Acc: 71.43, Val Acc: 83.33\n",
            "Epoch: 114, Train Acc: 71.43, Val Acc: 85.42\n",
            "Epoch: 115, Train Acc: 70.71, Val Acc: 85.42\n",
            "Epoch: 116, Train Acc: 71.43, Val Acc: 85.42\n",
            "Epoch: 117, Train Acc: 72.14, Val Acc: 83.33\n",
            "Epoch: 118, Train Acc: 71.43, Val Acc: 83.33\n",
            "Epoch: 119, Train Acc: 72.14, Val Acc: 83.33\n",
            "Epoch: 120, Train Acc: 72.14, Val Acc: 85.42\n",
            "Epoch: 121, Train Acc: 71.43, Val Acc: 85.42\n",
            "Epoch: 122, Train Acc: 71.43, Val Acc: 85.42\n",
            "Epoch: 123, Train Acc: 71.43, Val Acc: 87.50\n",
            "Epoch: 124, Train Acc: 70.71, Val Acc: 85.42\n",
            "Epoch: 125, Train Acc: 72.14, Val Acc: 83.33\n",
            "Epoch: 126, Train Acc: 72.14, Val Acc: 85.42\n",
            "Epoch: 127, Train Acc: 72.14, Val Acc: 85.42\n",
            "Epoch: 128, Train Acc: 72.14, Val Acc: 85.42\n",
            "Epoch: 129, Train Acc: 72.14, Val Acc: 85.42\n",
            "Epoch: 130, Train Acc: 72.14, Val Acc: 85.42\n",
            "Epoch: 131, Train Acc: 71.43, Val Acc: 87.50\n",
            "Epoch: 132, Train Acc: 71.43, Val Acc: 87.50\n",
            "Epoch: 133, Train Acc: 71.43, Val Acc: 87.50\n",
            "Epoch: 134, Train Acc: 72.14, Val Acc: 85.42\n",
            "Epoch: 135, Train Acc: 71.43, Val Acc: 87.50\n",
            "Epoch: 136, Train Acc: 71.43, Val Acc: 87.50\n",
            "Epoch: 137, Train Acc: 71.43, Val Acc: 87.50\n",
            "Epoch: 138, Train Acc: 71.43, Val Acc: 87.50\n",
            "Epoch: 139, Train Acc: 71.43, Val Acc: 89.58\n",
            "Epoch: 140, Train Acc: 71.43, Val Acc: 89.58\n",
            "Epoch: 141, Train Acc: 71.43, Val Acc: 89.58\n",
            "Epoch: 142, Train Acc: 71.43, Val Acc: 89.58\n",
            "Epoch: 143, Train Acc: 71.43, Val Acc: 89.58\n",
            "Epoch: 144, Train Acc: 71.43, Val Acc: 89.58\n",
            "Epoch: 145, Train Acc: 72.86, Val Acc: 83.33\n",
            "Epoch: 146, Train Acc: 73.57, Val Acc: 83.33\n",
            "Epoch: 147, Train Acc: 72.86, Val Acc: 83.33\n",
            "Epoch: 148, Train Acc: 72.86, Val Acc: 83.33\n",
            "Epoch: 149, Train Acc: 72.14, Val Acc: 87.50\n",
            "Epoch: 150, Train Acc: 71.43, Val Acc: 87.50\n",
            "Epoch: 151, Train Acc: 71.43, Val Acc: 89.58\n",
            "Epoch: 152, Train Acc: 72.14, Val Acc: 89.58\n",
            "Epoch: 153, Train Acc: 72.14, Val Acc: 89.58\n",
            "Epoch: 154, Train Acc: 72.14, Val Acc: 89.58\n",
            "Epoch: 155, Train Acc: 72.86, Val Acc: 89.58\n",
            "Epoch: 156, Train Acc: 72.14, Val Acc: 87.50\n",
            "Epoch: 157, Train Acc: 72.86, Val Acc: 87.50\n",
            "Epoch: 158, Train Acc: 72.86, Val Acc: 87.50\n",
            "Epoch: 159, Train Acc: 72.86, Val Acc: 87.50\n",
            "Epoch: 160, Train Acc: 72.14, Val Acc: 89.58\n",
            "Epoch: 161, Train Acc: 72.14, Val Acc: 87.50\n",
            "Epoch: 162, Train Acc: 72.86, Val Acc: 85.42\n",
            "Epoch: 163, Train Acc: 72.14, Val Acc: 87.50\n",
            "Epoch: 164, Train Acc: 72.86, Val Acc: 89.58\n",
            "Epoch: 165, Train Acc: 72.86, Val Acc: 87.50\n",
            "Epoch: 166, Train Acc: 72.86, Val Acc: 85.42\n",
            "Epoch: 167, Train Acc: 72.86, Val Acc: 83.33\n",
            "Epoch: 168, Train Acc: 72.86, Val Acc: 83.33\n",
            "Epoch: 169, Train Acc: 72.86, Val Acc: 85.42\n",
            "Epoch: 170, Train Acc: 72.14, Val Acc: 89.58\n",
            "Epoch: 171, Train Acc: 72.14, Val Acc: 87.50\n",
            "Epoch: 172, Train Acc: 72.86, Val Acc: 85.42\n",
            "Epoch: 173, Train Acc: 72.14, Val Acc: 87.50\n",
            "Epoch: 174, Train Acc: 72.14, Val Acc: 87.50\n",
            "Epoch: 175, Train Acc: 72.14, Val Acc: 89.58\n",
            "Epoch: 176, Train Acc: 72.86, Val Acc: 89.58\n",
            "Epoch: 177, Train Acc: 73.57, Val Acc: 87.50\n",
            "Epoch: 178, Train Acc: 73.57, Val Acc: 87.50\n",
            "Epoch: 179, Train Acc: 72.14, Val Acc: 89.58\n",
            "Epoch: 180, Train Acc: 72.86, Val Acc: 89.58\n",
            "Epoch: 181, Train Acc: 72.14, Val Acc: 87.50\n",
            "Epoch: 182, Train Acc: 74.29, Val Acc: 83.33\n",
            "Epoch: 183, Train Acc: 75.00, Val Acc: 83.33\n",
            "Epoch: 184, Train Acc: 74.29, Val Acc: 85.42\n",
            "Epoch: 185, Train Acc: 74.29, Val Acc: 85.42\n",
            "Epoch: 186, Train Acc: 72.14, Val Acc: 87.50\n",
            "Epoch: 187, Train Acc: 72.86, Val Acc: 87.50\n",
            "Epoch: 188, Train Acc: 72.14, Val Acc: 89.58\n",
            "Epoch: 189, Train Acc: 72.86, Val Acc: 87.50\n",
            "Epoch: 190, Train Acc: 72.86, Val Acc: 85.42\n",
            "Epoch: 191, Train Acc: 72.86, Val Acc: 85.42\n",
            "Epoch: 192, Train Acc: 72.14, Val Acc: 87.50\n",
            "Epoch: 193, Train Acc: 72.86, Val Acc: 89.58\n",
            "Epoch: 194, Train Acc: 72.86, Val Acc: 87.50\n",
            "Epoch: 195, Train Acc: 72.86, Val Acc: 87.50\n",
            "Epoch: 196, Train Acc: 72.86, Val Acc: 87.50\n",
            "Epoch: 197, Train Acc: 72.86, Val Acc: 89.58\n",
            "Epoch: 198, Train Acc: 72.86, Val Acc: 89.58\n",
            "Epoch: 199, Train Acc: 72.86, Val Acc: 89.58\n"
          ]
        }
      ],
      "source": [
        "# define loss function and optimizer\n",
        "# * Loss function: CrossEntropyLoss\n",
        "# * Optimizer: Adam\n",
        "from torch.nn import CrossEntropyLoss\n",
        "from torch.optim import Adam\n",
        "\n",
        "criterion = CrossEntropyLoss()\n",
        "optimizer = Adam(net.parameters())\n",
        "\n",
        "# define evaluation function\n",
        "def evaluate(loader):\n",
        "    correct = 0\n",
        "    for data in loader:\n",
        "        data = data.cuda() # use GPU\n",
        "        out = net(data)\n",
        "        pred = out.argmax(dim=1)\n",
        "        correct += int((pred == data.y).sum())\n",
        "    return correct / len(loader.dataset)  * 100\n",
        "\n",
        "# train model\n",
        "for epoch in range(200):\n",
        "    net.train()\n",
        "    for data in train_loader:\n",
        "        data = data.cuda() # use GPU\n",
        "        optimizer.zero_grad()\n",
        "        out = net(data)\n",
        "        loss = criterion(out, data.y)\n",
        "        loss.backward()\n",
        "        optimizer.step()\n",
        "\n",
        "    # evaluate model\n",
        "    net.eval()\n",
        "    train_acc = evaluate(train_loader)\n",
        "    val_acc = evaluate(val_loader)\n",
        "    print(f'Epoch: {epoch:03d}, Train Acc: {train_acc:.2f}, Val Acc: {val_acc:.2f}')"
      ]
    },
    {
      "cell_type": "markdown",
      "metadata": {
        "id": "4mJNFmAv4YGp"
      },
      "source": [
        "## Evaluate the model"
      ]
    },
    {
      "cell_type": "code",
      "execution_count": 8,
      "metadata": {
        "id": "llPIZ2_r4YGp",
        "outputId": "18a3a0dd-039b-4716-a515-fab13578113f",
        "colab": {
          "base_uri": "https://localhost:8080/"
        }
      },
      "outputs": [
        {
          "output_type": "stream",
          "name": "stdout",
          "text": [
            "Test Acc: 89.58\n"
          ]
        }
      ],
      "source": [
        "net.eval()\n",
        "test_acc = evaluate(val_loader)\n",
        "print(f'Test Acc: {test_acc:.2f}')"
      ]
    }
  ],
  "metadata": {
    "kernelspec": {
      "display_name": "ai-master",
      "language": "python",
      "name": "python3"
    },
    "language_info": {
      "codemirror_mode": {
        "name": "ipython",
        "version": 3
      },
      "file_extension": ".py",
      "mimetype": "text/x-python",
      "name": "python",
      "nbconvert_exporter": "python",
      "pygments_lexer": "ipython3",
      "version": "3.7.16"
    },
    "orig_nbformat": 4,
    "vscode": {
      "interpreter": {
        "hash": "2512312fceb6e908b1c6087f9c29f0bb0c93a332146a69690954edd67c2954cb"
      }
    },
    "colab": {
      "provenance": []
    },
    "accelerator": "GPU",
    "gpuClass": "standard"
  },
  "nbformat": 4,
  "nbformat_minor": 0
}