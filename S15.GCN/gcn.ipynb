{
 "cells": [
  {
   "attachments": {},
   "cell_type": "markdown",
   "metadata": {},
   "source": [
    "# GCN\n",
    "Build the model with the following structure using the PyTorch Geometric library:\n",
    "1. Input layer\n",
    "2. 1st hidden layer: GCNConv + ReLU\n",
    "3. 2nd hidden layer: GCNConv + ReLU\n",
    "4. 3rd hidden layer: GCNConv + global mean pooling + Dropout\n",
    "5. Output layer: Linear\n",
    "* Loss function: CrossEntropyLoss\n",
    "* Optimizer: Adam"
   ]
  },
  {
   "attachments": {},
   "cell_type": "markdown",
   "metadata": {},
   "source": [
    "**WARNING** <br>\n",
    "Execute only colab\n"
   ]
  },
  {
   "cell_type": "code",
   "execution_count": null,
   "metadata": {},
   "outputs": [],
   "source": [
    "# install torch-geometric and related libraries\n",
    "!pip install pyg-lib torch-scatter torch-sparse -f https://data.pyg.org/whl/torch-1.13.0+cu116.html\n",
    "!pip install torch-geometric\n",
    "!pip install scipy==1.8.0"
   ]
  },
  {
   "attachments": {},
   "cell_type": "markdown",
   "metadata": {},
   "source": [
    "## Load the dataset"
   ]
  },
  {
   "cell_type": "code",
   "execution_count": 1,
   "metadata": {},
   "outputs": [
    {
     "name": "stderr",
     "output_type": "stream",
     "text": [
      "/Users/takamatsunaoki/opt/anaconda3/envs/ai-master/lib/python3.7/site-packages/torch_geometric/deprecation.py:12: UserWarning: 'data.DataLoader' is deprecated, use 'loader.DataLoader' instead\n",
      "  warnings.warn(out)\n"
     ]
    }
   ],
   "source": [
    "from torch_geometric.datasets import TUDataset\n",
    "from torch_geometric.data import DataLoader\n",
    "\n",
    "# load dataset\n",
    "dataset = TUDataset(root='/tmp/MUTAG', name='MUTAG')\n",
    "\n",
    "# split dataset into train, validation and test\n",
    "dataset = dataset.shuffle()\n",
    "train_dataset = dataset[:140]\n",
    "val_dataset = dataset[140:]\n",
    "\n",
    "# create dataloader\n",
    "batch_size = 64\n",
    "train_loader = DataLoader(train_dataset, batch_size=batch_size, shuffle=True)\n",
    "val_loader = DataLoader(val_dataset, batch_size=batch_size, shuffle=False)"
   ]
  },
  {
   "attachments": {},
   "cell_type": "markdown",
   "metadata": {},
   "source": [
    "## Build the model"
   ]
  },
  {
   "cell_type": "code",
   "execution_count": null,
   "metadata": {},
   "outputs": [],
   "source": [
    "# define model\n",
    "# 1. Input layer\n",
    "# 2. 1st hidden layer: GCNConv + ReLU\n",
    "# 3. 2nd hidden layer: GCNConv + ReLU\n",
    "# 4. 3rd hidden layer: GCNConv + global mean pooling + Dropout\n",
    "# 5. Output layer: Linear\n",
    "\n",
    "import torch\n",
    "from torch.nn import Linear, ReLU, Dropout\n",
    "from torch_geometric.nn import GCNConv, global_mean_pool\n",
    "\n",
    "n_h = 64\n",
    "\n",
    "class Net(torch.nn.Module):\n",
    "    def __init__(self):\n",
    "        super(Net, self).__init__()\n",
    "        self.conv1 = GCNConv(dataset.num_node_features, n_h)\n",
    "        self.conv2 = GCNConv(n_h, n_h)\n",
    "        self.conv3 = GCNConv(n_h, n_h)\n",
    "        self.fc = Linear(n_h, dataset.num_classes)\n",
    "\n",
    "        self.relu = ReLU()\n",
    "        self.dropout = Dropout(p=0.5)\n",
    "\n",
    "    def forward(self, data):\n",
    "        x, edge_index, batch = data.x, data.edge_index, batch_size\n",
    "        x = self.conv1(x, edge_index)\n",
    "        x = self.relu(x)\n",
    "        x = self.dropout(x)\n",
    "        x = self.conv2(x, edge_index)\n",
    "        x = self.relu(x)\n",
    "        x = self.dropout(x)\n",
    "        x = self.conv3(x, edge_index)\n",
    "        x = self.relu(x)\n",
    "        x = global_mean_pool(x, batch)\n",
    "        x = self.dropout(x)\n",
    "        x = self.fc(x)\n",
    "        return x\n",
    "\n",
    "net = Net()\n",
    "net.cuda() # use GPU"
   ]
  },
  {
   "attachments": {},
   "cell_type": "markdown",
   "metadata": {},
   "source": [
    "# Train the model"
   ]
  },
  {
   "cell_type": "code",
   "execution_count": null,
   "metadata": {},
   "outputs": [],
   "source": [
    "# define loss function and optimizer\n",
    "# * Loss function: CrossEntropyLoss\n",
    "# * Optimizer: Adam\n",
    "from torch.nn import CrossEntropyLoss\n",
    "from torch.optim import Adam\n",
    "\n",
    "criterion = CrossEntropyLoss()\n",
    "optimizer = Adam(net.parameters(), lr=0.01)\n",
    "\n",
    "# define evaluation function\n",
    "def evaluate(loader):\n",
    "    correct = 0\n",
    "    for data in loader:\n",
    "        data = data.cuda() # use GPU\n",
    "        out = net(data)\n",
    "        pred = out.argmax(dim=1)\n",
    "        correct += int((pred == data.y).sum())\n",
    "    return correct / len(loader.dataset)  * 100\n",
    "\n",
    "# train model\n",
    "for epoch in range(200):\n",
    "    net.train()\n",
    "    for data in train_loader:\n",
    "        data = data.cuda() # use GPU\n",
    "        optimizer.zero_grad()\n",
    "        out = net(data)\n",
    "        loss = criterion(out, data.y)\n",
    "        loss.backward()\n",
    "        optimizer.step()\n",
    "\n",
    "    # evaluate model\n",
    "    net.eval()\n",
    "    train_acc = evaluate(train_loader)\n",
    "    val_acc = evaluate(val_loader)\n",
    "    print(f'Epoch: {epoch:03d}, Train Acc: {train_acc:.4f}, Val Acc: {val_acc:.4f}')"
   ]
  },
  {
   "attachments": {},
   "cell_type": "markdown",
   "metadata": {},
   "source": [
    "## Evaluate the model"
   ]
  },
  {
   "cell_type": "code",
   "execution_count": null,
   "metadata": {},
   "outputs": [],
   "source": [
    "net.eval()\n",
    "test_acc = evaluate(val_loader)\n",
    "print(f'Test Acc: {test_acc:.4f}')"
   ]
  }
 ],
 "metadata": {
  "kernelspec": {
   "display_name": "ai-master",
   "language": "python",
   "name": "python3"
  },
  "language_info": {
   "codemirror_mode": {
    "name": "ipython",
    "version": 3
   },
   "file_extension": ".py",
   "mimetype": "text/x-python",
   "name": "python",
   "nbconvert_exporter": "python",
   "pygments_lexer": "ipython3",
   "version": "3.7.16"
  },
  "orig_nbformat": 4,
  "vscode": {
   "interpreter": {
    "hash": "2512312fceb6e908b1c6087f9c29f0bb0c93a332146a69690954edd67c2954cb"
   }
  }
 },
 "nbformat": 4,
 "nbformat_minor": 2
}
