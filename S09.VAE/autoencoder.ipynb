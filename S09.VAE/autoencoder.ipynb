{
 "cells": [
  {
   "attachments": {},
   "cell_type": "markdown",
   "metadata": {},
   "source": [
    "# Auencorder"
   ]
  },
  {
   "attachments": {},
   "cell_type": "markdown",
   "metadata": {},
   "source": [
    "## Create the training data"
   ]
  },
  {
   "cell_type": "code",
   "execution_count": 6,
   "metadata": {},
   "outputs": [],
   "source": [
    "import numpy as np\n",
    "\n",
    "# Load the MNIST dataset\n",
    "from keras.datasets import mnist\n",
    "(x_train, y_train), (x_test, y_test) = mnist.load_data()\n",
    "\n",
    "# Normalize the data\n",
    "x_train = x_train.astype('float32') / 255.\n",
    "x_test = x_test.astype('float32') / 255.\n",
    "\n",
    "# Flatten the images\n",
    "x_train = x_train.reshape(x_train.shape[0], -1)\n",
    "x_test = x_test.reshape(x_test.shape[0], -1)"
   ]
  },
  {
   "attachments": {},
   "cell_type": "markdown",
   "metadata": {},
   "source": [
    "## Setting the parameters of the autoencoder"
   ]
  },
  {
   "cell_type": "code",
   "execution_count": 7,
   "metadata": {},
   "outputs": [],
   "source": [
    "epochs = 20\n",
    "batch_size = 128\n",
    "n_in_out = x_train.shape[1]\n",
    "n_hidden = 64"
   ]
  },
  {
   "attachments": {},
   "cell_type": "markdown",
   "metadata": {},
   "source": [
    "## Create the autoencoder"
   ]
  },
  {
   "cell_type": "code",
   "execution_count": 8,
   "metadata": {},
   "outputs": [
    {
     "name": "stdout",
     "output_type": "stream",
     "text": [
      "Model: \"model_3\"\n",
      "_________________________________________________________________\n",
      " Layer (type)                Output Shape              Param #   \n",
      "=================================================================\n",
      " input_3 (InputLayer)        [(None, 784)]             0         \n",
      "                                                                 \n",
      " dense_2 (Dense)             (None, 64)                50240     \n",
      "                                                                 \n",
      " dense_3 (Dense)             (None, 784)               50960     \n",
      "                                                                 \n",
      "=================================================================\n",
      "Total params: 101,200\n",
      "Trainable params: 101,200\n",
      "Non-trainable params: 0\n",
      "_________________________________________________________________\n"
     ]
    }
   ],
   "source": [
    "from keras.models import Model\n",
    "from keras.layers import Input, Dense\n",
    "\n",
    "# build the network of the autoencoder\n",
    "x = Input(shape=(n_in_out,))\n",
    "encoder = Dense(n_hidden, activation='relu')(x)\n",
    "decoder = Dense(n_in_out, activation='sigmoid')\n",
    "y = decoder(encoder)\n",
    "\n",
    "# build the model of the autoencoder\n",
    "autoencoder = Model(x, y)\n",
    "autoencoder.compile(optimizer='adam', loss='binary_crossentropy')\n",
    "autoencoder.summary()\n",
    "\n",
    "# build the model of the encoder\n",
    "encoder = Model(x, encoder)\n",
    "\n",
    "# build the model of the decoder\n",
    "decoder_input = Input(shape=(n_hidden,))\n",
    "decoder = Model(decoder_input, decoder(decoder_input))"
   ]
  },
  {
   "attachments": {},
   "cell_type": "markdown",
   "metadata": {},
   "source": [
    "## Train the model"
   ]
  },
  {
   "cell_type": "code",
   "execution_count": 9,
   "metadata": {},
   "outputs": [
    {
     "name": "stdout",
     "output_type": "stream",
     "text": [
      "Epoch 1/20\n",
      "469/469 [==============================] - 12s 17ms/step - loss: 0.1992 - val_loss: 0.1338\n",
      "Epoch 2/20\n",
      "469/469 [==============================] - 7s 15ms/step - loss: 0.1178 - val_loss: 0.1032\n",
      "Epoch 3/20\n",
      "469/469 [==============================] - 5s 11ms/step - loss: 0.0968 - val_loss: 0.0893\n",
      "Epoch 4/20\n",
      "469/469 [==============================] - 5s 10ms/step - loss: 0.0862 - val_loss: 0.0819\n",
      "Epoch 5/20\n",
      "469/469 [==============================] - 7s 16ms/step - loss: 0.0808 - val_loss: 0.0783\n",
      "Epoch 6/20\n",
      "469/469 [==============================] - 11s 23ms/step - loss: 0.0781 - val_loss: 0.0764\n",
      "Epoch 7/20\n",
      "469/469 [==============================] - 7s 14ms/step - loss: 0.0766 - val_loss: 0.0753\n",
      "Epoch 8/20\n",
      "469/469 [==============================] - 7s 14ms/step - loss: 0.0757 - val_loss: 0.0746\n",
      "Epoch 9/20\n",
      "469/469 [==============================] - 7s 15ms/step - loss: 0.0751 - val_loss: 0.0741\n",
      "Epoch 10/20\n",
      "469/469 [==============================] - 9s 18ms/step - loss: 0.0746 - val_loss: 0.0739\n",
      "Epoch 11/20\n",
      "469/469 [==============================] - 6s 13ms/step - loss: 0.0743 - val_loss: 0.0735\n",
      "Epoch 12/20\n",
      "469/469 [==============================] - 7s 16ms/step - loss: 0.0741 - val_loss: 0.0734\n",
      "Epoch 13/20\n",
      "469/469 [==============================] - 7s 14ms/step - loss: 0.0739 - val_loss: 0.0733\n",
      "Epoch 14/20\n",
      "469/469 [==============================] - 5s 11ms/step - loss: 0.0738 - val_loss: 0.0731\n",
      "Epoch 15/20\n",
      "469/469 [==============================] - 5s 11ms/step - loss: 0.0737 - val_loss: 0.0731\n",
      "Epoch 16/20\n",
      "469/469 [==============================] - 6s 13ms/step - loss: 0.0736 - val_loss: 0.0730\n",
      "Epoch 17/20\n",
      "469/469 [==============================] - 7s 14ms/step - loss: 0.0735 - val_loss: 0.0729\n",
      "Epoch 18/20\n",
      "469/469 [==============================] - 6s 13ms/step - loss: 0.0734 - val_loss: 0.0728\n",
      "Epoch 19/20\n",
      "469/469 [==============================] - 6s 14ms/step - loss: 0.0734 - val_loss: 0.0728\n",
      "Epoch 20/20\n",
      "469/469 [==============================] - 6s 14ms/step - loss: 0.0733 - val_loss: 0.0728\n"
     ]
    },
    {
     "data": {
      "text/plain": [
       "<keras.callbacks.History at 0x7f90136b9fd0>"
      ]
     },
     "execution_count": 9,
     "metadata": {},
     "output_type": "execute_result"
    }
   ],
   "source": [
    "autoencoder.fit(x_train, x_train,\n",
    "                epochs=epochs,\n",
    "                batch_size=batch_size,\n",
    "                shuffle=True,\n",
    "                validation_data=(x_test, x_test))"
   ]
  },
  {
   "attachments": {},
   "cell_type": "markdown",
   "metadata": {},
   "source": [
    "## Create the image "
   ]
  },
  {
   "cell_type": "code",
   "execution_count": 10,
   "metadata": {},
   "outputs": [
    {
     "name": "stdout",
     "output_type": "stream",
     "text": [
      "313/313 [==============================] - 2s 6ms/step\n",
      "313/313 [==============================] - 2s 7ms/step\n"
     ]
    },
    {
     "data": {
      "image/png": "[encoded data removed]",
      "text/plain": [
       "<Figure size 1600x400 with 24 Axes>"
      ]
     },
     "metadata": {},
     "output_type": "display_data"
    }
   ],
   "source": [
    "encoded = encoder.predict(x_test)\n",
    "decoded = decoder.predict(encoded)\n",
    "\n",
    "import matplotlib.pyplot as plt\n",
    "n=8\n",
    "plt.figure(figsize=(16, 4))\n",
    "for i in range(n):\n",
    "    # display original\n",
    "    ax = plt.subplot(3, n, i+1)\n",
    "    plt.imshow(x_test[i].reshape(28, 28), cmap='Greys_r')\n",
    "    ax.get_xaxis().set_visible(False)\n",
    "    ax.get_yaxis().set_visible(False)\n",
    "\n",
    "    # display encoded\n",
    "    ax = plt.subplot(3, n, i+1+n)\n",
    "    plt.imshow(encoded[i].reshape(8, 8), cmap='Greys_r')\n",
    "    ax.get_xaxis().set_visible(False)\n",
    "    ax.get_yaxis().set_visible(False)\n",
    "\n",
    "    # display reconstruction\n",
    "    ax = plt.subplot(3, n, i+1+2*n)\n",
    "    plt.imshow(decoded[i].reshape(28, 28), cmap='Greys_r')\n",
    "    plt.gray()\n",
    "    ax.get_xaxis().set_visible(False)\n",
    "    ax.get_yaxis().set_visible(False)\n",
    "plt.show()"
   ]
  }
 ],
 "metadata": {
  "kernelspec": {
   "display_name": "ai-master",
   "language": "python",
   "name": "python3"
  },
  "language_info": {
   "codemirror_mode": {
    "name": "ipython",
    "version": 3
   },
   "file_extension": ".py",
   "mimetype": "text/x-python",
   "name": "python",
   "nbconvert_exporter": "python",
   "pygments_lexer": "ipython3",
   "version": "3.7.16"
  },
  "orig_nbformat": 4,
  "vscode": {
   "interpreter": {
    "hash": "2512312fceb6e908b1c6087f9c29f0bb0c93a332146a69690954edd67c2954cb"
   }
  }
 },
 "nbformat": 4,
 "nbformat_minor": 2
}
