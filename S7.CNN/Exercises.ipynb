{
  "cells": [
    {
      "cell_type": "markdown",
      "metadata": {
        "id": "mqAxv_QFU7_-"
      },
      "source": [
        "# Exerciese\n",
        "Improbe the model and try to get the accuracy above 80%"
      ]
    },
    {
      "cell_type": "markdown",
      "metadata": {
        "id": "ODI5JqKvU8AC"
      },
      "source": [
        "## Load the data and Preprocess the data"
      ]
    },
    {
      "cell_type": "code",
      "execution_count": 1,
      "metadata": {
        "id": "Zjc75QArU8AD",
        "outputId": "d5d17f4b-dff0-41df-dcc6-8787fd4dc0a2",
        "colab": {
          "base_uri": "https://localhost:8080/"
        }
      },
      "outputs": [
        {
          "output_type": "stream",
          "name": "stdout",
          "text": [
            "Downloading data from https://www.cs.toronto.edu/~kriz/cifar-10-python.tar.gz\n",
            "170498071/170498071 [==============================] - 14s 0us/step\n"
          ]
        }
      ],
      "source": [
        "import keras\n",
        "from keras.datasets import cifar10\n",
        "from keras.preprocessing.image import ImageDataGenerator\n",
        "\n",
        "# Load the CIFAR10 data.\n",
        "(x_train, y_train), (x_test, y_test) = cifar10.load_data()\n",
        "\n",
        "# Convert class vectors to binary class matrices.\n",
        "y_train = keras.utils.to_categorical(y_train, 10)\n",
        "y_test = keras.utils.to_categorical(y_test, 10)\n",
        "\n",
        "# Normalize the data.\n",
        "x_train = x_train.astype('float32')\n",
        "x_test = x_test.astype('float32')\n",
        "x_train /= 255\n",
        "x_test /= 255\n",
        "\n",
        "# Create ImageDataGenerator objects for data augmentation.\n",
        "from keras.preprocessing.image import ImageDataGenerator\n",
        "generator = ImageDataGenerator(\n",
        "    rotation_range=20,\n",
        "    width_shift_range=0.2,\n",
        "    height_shift_range=0.2,\n",
        "    horizontal_flip=True)\n",
        "generator.fit(x_train)"
      ]
    },
    {
      "cell_type": "markdown",
      "metadata": {
        "id": "TdYdPqyLU8AF"
      },
      "source": [
        "## Build the model"
      ]
    },
    {
      "cell_type": "code",
      "execution_count": 2,
      "metadata": {
        "id": "24Gx7NrxU8AH",
        "outputId": "9bc8f63b-2bbc-49a7-b4e5-7c6b169e389a",
        "colab": {
          "base_uri": "https://localhost:8080/"
        }
      },
      "outputs": [
        {
          "output_type": "stream",
          "name": "stdout",
          "text": [
            "Model: \"sequential\"\n",
            "_________________________________________________________________\n",
            " Layer (type)                Output Shape              Param #   \n",
            "=================================================================\n",
            " conv2d (Conv2D)             (None, 32, 32, 64)        1792      \n",
            "                                                                 \n",
            " conv2d_1 (Conv2D)           (None, 32, 32, 64)        36928     \n",
            "                                                                 \n",
            " conv2d_2 (Conv2D)           (None, 32, 32, 64)        36928     \n",
            "                                                                 \n",
            " batch_normalization (BatchN  (None, 32, 32, 64)       256       \n",
            " ormalization)                                                   \n",
            "                                                                 \n",
            " max_pooling2d (MaxPooling2D  (None, 16, 16, 64)       0         \n",
            " )                                                               \n",
            "                                                                 \n",
            " dropout (Dropout)           (None, 16, 16, 64)        0         \n",
            "                                                                 \n",
            " conv2d_3 (Conv2D)           (None, 16, 16, 128)       73856     \n",
            "                                                                 \n",
            " conv2d_4 (Conv2D)           (None, 16, 16, 128)       147584    \n",
            "                                                                 \n",
            " batch_normalization_1 (Batc  (None, 16, 16, 128)      512       \n",
            " hNormalization)                                                 \n",
            "                                                                 \n",
            " conv2d_5 (Conv2D)           (None, 16, 16, 128)       147584    \n",
            "                                                                 \n",
            " max_pooling2d_1 (MaxPooling  (None, 8, 8, 128)        0         \n",
            " 2D)                                                             \n",
            "                                                                 \n",
            " dropout_1 (Dropout)         (None, 8, 8, 128)         0         \n",
            "                                                                 \n",
            " conv2d_6 (Conv2D)           (None, 8, 8, 256)         295168    \n",
            "                                                                 \n",
            " conv2d_7 (Conv2D)           (None, 8, 8, 256)         590080    \n",
            "                                                                 \n",
            " batch_normalization_2 (Batc  (None, 8, 8, 256)        1024      \n",
            " hNormalization)                                                 \n",
            "                                                                 \n",
            " conv2d_8 (Conv2D)           (None, 8, 8, 512)         1180160   \n",
            "                                                                 \n",
            " conv2d_9 (Conv2D)           (None, 8, 8, 512)         2359808   \n",
            "                                                                 \n",
            " max_pooling2d_2 (MaxPooling  (None, 4, 4, 512)        0         \n",
            " 2D)                                                             \n",
            "                                                                 \n",
            " dropout_2 (Dropout)         (None, 4, 4, 512)         0         \n",
            "                                                                 \n",
            " flatten (Flatten)           (None, 8192)              0         \n",
            "                                                                 \n",
            " dense (Dense)               (None, 1024)              8389632   \n",
            "                                                                 \n",
            " dropout_3 (Dropout)         (None, 1024)              0         \n",
            "                                                                 \n",
            " dense_1 (Dense)             (None, 1024)              1049600   \n",
            "                                                                 \n",
            " dropout_4 (Dropout)         (None, 1024)              0         \n",
            "                                                                 \n",
            " dense_2 (Dense)             (None, 10)                10250     \n",
            "                                                                 \n",
            "=================================================================\n",
            "Total params: 14,321,162\n",
            "Trainable params: 14,320,266\n",
            "Non-trainable params: 896\n",
            "_________________________________________________________________\n"
          ]
        }
      ],
      "source": [
        "# Set the parameters for the model.\n",
        "from keras.callbacks import EarlyStopping\n",
        "batch_size = 100\n",
        "num_classes = 10\n",
        "epochs = 50\n",
        "early_stopping = EarlyStopping(monitor='val_loss', patience=10, verbose=1, mode='auto')\n",
        "\n",
        "\n",
        "# Define the model.\n",
        "from keras.models import Sequential\n",
        "from keras.layers import Dense, Dropout, Flatten, BatchNormalization\n",
        "from keras.layers import Conv2D, MaxPooling2D\n",
        "from keras.optimizers import Adam\n",
        "\n",
        "model = Sequential()\n",
        "\n",
        "model.add(Conv2D(64, (3, 3), padding='same', activation='relu', input_shape=x_train.shape[1:]))\n",
        "model.add(Conv2D(64, (3, 3), padding='same', activation='relu'))\n",
        "model.add(Conv2D(64, (3, 3), padding='same', activation='relu'))\n",
        "model.add(BatchNormalization())\n",
        "model.add(MaxPooling2D(pool_size=(2, 2)))\n",
        "model.add(Dropout(0.25))\n",
        "\n",
        "model.add(Conv2D(128, (3, 3), padding='same', activation='relu'))\n",
        "model.add(Conv2D(128, (3, 3), padding='same', activation='relu'))\n",
        "model.add(BatchNormalization())\n",
        "model.add(Conv2D(128, (3, 3), padding='same', activation='relu'))\n",
        "model.add(MaxPooling2D(pool_size=(2, 2)))\n",
        "model.add(Dropout(0.25))\n",
        "\n",
        "model.add(Conv2D(256, (3, 3), padding='same', activation='relu'))\n",
        "model.add(Conv2D(256, (3, 3), padding='same', activation='relu'))\n",
        "model.add(BatchNormalization())\n",
        "model.add(Conv2D(512, (3, 3), padding='same', activation='relu'))\n",
        "model.add(Conv2D(512, (3, 3), padding='same', activation='relu'))\n",
        "model.add(MaxPooling2D(pool_size=(2, 2)))\n",
        "model.add(Dropout(0.25))\n",
        "\n",
        "model.add(Flatten())\n",
        "model.add(Dense(1024, activation='relu'))\n",
        "model.add(Dropout(0.5))\n",
        "model.add(Dense(1024, activation='relu'))\n",
        "model.add(Dropout(0.5))\n",
        "model.add(Dense(num_classes, activation='softmax'))\n",
        "\n",
        "# Compile the model.\n",
        "model.compile(loss='categorical_crossentropy', optimizer=Adam(), metrics=['accuracy'])\n",
        "model.summary()"
      ]
    },
    {
      "cell_type": "markdown",
      "metadata": {
        "id": "GEacCqrQU8AP"
      },
      "source": [
        "## Train the model"
      ]
    },
    {
      "cell_type": "code",
      "execution_count": 3,
      "metadata": {
        "id": "Vxr_9n6hU8AQ",
        "outputId": "ea8f5d91-a98d-44f2-9139-bfa0ce9232db",
        "colab": {
          "base_uri": "https://localhost:8080/"
        }
      },
      "outputs": [
        {
          "output_type": "stream",
          "name": "stdout",
          "text": [
            "Epoch 1/50\n",
            "500/500 [==============================] - 50s 78ms/step - loss: 1.9628 - accuracy: 0.2623 - val_loss: 2.1184 - val_accuracy: 0.2511\n",
            "Epoch 2/50\n",
            "500/500 [==============================] - 39s 78ms/step - loss: 1.6686 - accuracy: 0.3786 - val_loss: 1.5815 - val_accuracy: 0.4183\n",
            "Epoch 3/50\n",
            "500/500 [==============================] - 39s 78ms/step - loss: 1.5017 - accuracy: 0.4550 - val_loss: 1.5828 - val_accuracy: 0.4088\n",
            "Epoch 4/50\n",
            "500/500 [==============================] - 38s 75ms/step - loss: 1.3610 - accuracy: 0.5151 - val_loss: 1.2482 - val_accuracy: 0.5505\n",
            "Epoch 5/50\n",
            "500/500 [==============================] - 38s 75ms/step - loss: 1.2482 - accuracy: 0.5609 - val_loss: 1.8365 - val_accuracy: 0.4846\n",
            "Epoch 6/50\n",
            "500/500 [==============================] - 38s 76ms/step - loss: 1.1616 - accuracy: 0.5967 - val_loss: 1.4495 - val_accuracy: 0.5415\n",
            "Epoch 7/50\n",
            "500/500 [==============================] - 38s 76ms/step - loss: 1.0902 - accuracy: 0.6250 - val_loss: 1.4489 - val_accuracy: 0.5533\n",
            "Epoch 8/50\n",
            "500/500 [==============================] - 38s 76ms/step - loss: 1.0375 - accuracy: 0.6443 - val_loss: 1.0426 - val_accuracy: 0.6454\n",
            "Epoch 9/50\n",
            "500/500 [==============================] - 39s 78ms/step - loss: 0.9893 - accuracy: 0.6659 - val_loss: 0.9943 - val_accuracy: 0.6646\n",
            "Epoch 10/50\n",
            "500/500 [==============================] - 39s 78ms/step - loss: 0.9500 - accuracy: 0.6823 - val_loss: 0.8830 - val_accuracy: 0.6956\n",
            "Epoch 11/50\n",
            "500/500 [==============================] - 38s 77ms/step - loss: 0.9178 - accuracy: 0.6927 - val_loss: 1.2139 - val_accuracy: 0.6445\n",
            "Epoch 12/50\n",
            "500/500 [==============================] - 38s 76ms/step - loss: 0.8801 - accuracy: 0.7075 - val_loss: 0.9020 - val_accuracy: 0.6929\n",
            "Epoch 13/50\n",
            "500/500 [==============================] - 38s 76ms/step - loss: 0.8529 - accuracy: 0.7182 - val_loss: 0.9195 - val_accuracy: 0.7017\n",
            "Epoch 14/50\n",
            "500/500 [==============================] - 38s 77ms/step - loss: 0.8247 - accuracy: 0.7267 - val_loss: 0.8612 - val_accuracy: 0.7169\n",
            "Epoch 15/50\n",
            "500/500 [==============================] - 38s 76ms/step - loss: 0.8131 - accuracy: 0.7315 - val_loss: 0.8089 - val_accuracy: 0.7282\n",
            "Epoch 16/50\n",
            "500/500 [==============================] - 39s 77ms/step - loss: 0.7857 - accuracy: 0.7436 - val_loss: 0.9572 - val_accuracy: 0.7114\n",
            "Epoch 17/50\n",
            "500/500 [==============================] - 38s 76ms/step - loss: 0.7604 - accuracy: 0.7515 - val_loss: 0.8448 - val_accuracy: 0.7203\n",
            "Epoch 18/50\n",
            "500/500 [==============================] - 38s 76ms/step - loss: 0.7474 - accuracy: 0.7565 - val_loss: 1.0257 - val_accuracy: 0.6780\n",
            "Epoch 19/50\n",
            "500/500 [==============================] - 39s 77ms/step - loss: 0.7225 - accuracy: 0.7642 - val_loss: 0.7321 - val_accuracy: 0.7604\n",
            "Epoch 20/50\n",
            "500/500 [==============================] - 38s 77ms/step - loss: 0.7114 - accuracy: 0.7680 - val_loss: 0.7128 - val_accuracy: 0.7671\n",
            "Epoch 21/50\n",
            "500/500 [==============================] - 39s 77ms/step - loss: 0.6980 - accuracy: 0.7754 - val_loss: 0.7353 - val_accuracy: 0.7624\n",
            "Epoch 22/50\n",
            "500/500 [==============================] - 39s 78ms/step - loss: 0.6880 - accuracy: 0.7781 - val_loss: 0.9006 - val_accuracy: 0.7058\n",
            "Epoch 23/50\n",
            "500/500 [==============================] - 39s 77ms/step - loss: 0.6706 - accuracy: 0.7827 - val_loss: 1.0090 - val_accuracy: 0.7142\n",
            "Epoch 24/50\n",
            "500/500 [==============================] - 37s 75ms/step - loss: 0.6646 - accuracy: 0.7878 - val_loss: 0.6625 - val_accuracy: 0.7813\n",
            "Epoch 25/50\n",
            "500/500 [==============================] - 38s 75ms/step - loss: 0.6480 - accuracy: 0.7908 - val_loss: 0.7191 - val_accuracy: 0.7729\n",
            "Epoch 26/50\n",
            "500/500 [==============================] - 38s 76ms/step - loss: 0.6362 - accuracy: 0.7939 - val_loss: 0.7000 - val_accuracy: 0.7778\n",
            "Epoch 27/50\n",
            "500/500 [==============================] - 38s 76ms/step - loss: 0.6259 - accuracy: 0.7990 - val_loss: 0.7163 - val_accuracy: 0.7755\n",
            "Epoch 28/50\n",
            "500/500 [==============================] - 38s 75ms/step - loss: 0.6128 - accuracy: 0.8014 - val_loss: 0.6248 - val_accuracy: 0.8052\n",
            "Epoch 29/50\n",
            "500/500 [==============================] - 39s 78ms/step - loss: 0.5971 - accuracy: 0.8058 - val_loss: 0.6219 - val_accuracy: 0.7980\n",
            "Epoch 30/50\n",
            "500/500 [==============================] - 38s 76ms/step - loss: 0.5958 - accuracy: 0.8099 - val_loss: 0.6004 - val_accuracy: 0.8099\n",
            "Epoch 31/50\n",
            "500/500 [==============================] - 38s 75ms/step - loss: 0.5880 - accuracy: 0.8113 - val_loss: 0.6155 - val_accuracy: 0.7971\n",
            "Epoch 32/50\n",
            "500/500 [==============================] - 38s 77ms/step - loss: 0.5717 - accuracy: 0.8173 - val_loss: 0.6023 - val_accuracy: 0.8169\n",
            "Epoch 33/50\n",
            "500/500 [==============================] - 38s 76ms/step - loss: 0.5681 - accuracy: 0.8175 - val_loss: 0.6071 - val_accuracy: 0.7999\n",
            "Epoch 34/50\n",
            "500/500 [==============================] - 39s 77ms/step - loss: 0.5588 - accuracy: 0.8224 - val_loss: 0.6935 - val_accuracy: 0.7943\n",
            "Epoch 35/50\n",
            "500/500 [==============================] - 39s 78ms/step - loss: 0.5450 - accuracy: 0.8273 - val_loss: 0.5295 - val_accuracy: 0.8263\n",
            "Epoch 36/50\n",
            "500/500 [==============================] - 38s 77ms/step - loss: 0.5598 - accuracy: 0.8221 - val_loss: 0.5242 - val_accuracy: 0.8297\n",
            "Epoch 37/50\n",
            "500/500 [==============================] - 38s 76ms/step - loss: 0.8394 - accuracy: 0.7383 - val_loss: 0.9488 - val_accuracy: 0.7192\n",
            "Epoch 38/50\n",
            "500/500 [==============================] - 38s 76ms/step - loss: 0.7202 - accuracy: 0.7776 - val_loss: 0.6226 - val_accuracy: 0.7902\n",
            "Epoch 39/50\n",
            "500/500 [==============================] - 38s 76ms/step - loss: 0.6178 - accuracy: 0.8021 - val_loss: 1.1939 - val_accuracy: 0.8159\n",
            "Epoch 40/50\n",
            "500/500 [==============================] - 38s 76ms/step - loss: 0.5697 - accuracy: 0.8188 - val_loss: 0.6235 - val_accuracy: 0.8028\n",
            "Epoch 41/50\n",
            "500/500 [==============================] - 39s 77ms/step - loss: 0.5449 - accuracy: 0.8248 - val_loss: 3.6150 - val_accuracy: 0.8295\n",
            "Epoch 42/50\n",
            "500/500 [==============================] - 39s 78ms/step - loss: 0.5295 - accuracy: 0.8321 - val_loss: 0.5190 - val_accuracy: 0.8367\n",
            "Epoch 43/50\n",
            "500/500 [==============================] - 39s 77ms/step - loss: 0.5255 - accuracy: 0.8313 - val_loss: 0.7445 - val_accuracy: 0.8132\n",
            "Epoch 44/50\n",
            "500/500 [==============================] - 39s 77ms/step - loss: 0.5136 - accuracy: 0.8353 - val_loss: 6.3378 - val_accuracy: 0.8143\n",
            "Epoch 45/50\n",
            "500/500 [==============================] - 38s 76ms/step - loss: 0.5009 - accuracy: 0.8389 - val_loss: 0.5214 - val_accuracy: 0.8404\n",
            "Epoch 46/50\n",
            "500/500 [==============================] - 38s 76ms/step - loss: 0.5073 - accuracy: 0.8371 - val_loss: 0.5715 - val_accuracy: 0.8251\n",
            "Epoch 47/50\n",
            "500/500 [==============================] - 39s 77ms/step - loss: 0.4951 - accuracy: 0.8423 - val_loss: 0.6363 - val_accuracy: 0.8000\n",
            "Epoch 48/50\n",
            "500/500 [==============================] - 39s 78ms/step - loss: 0.4883 - accuracy: 0.8452 - val_loss: 0.4881 - val_accuracy: 0.8418\n",
            "Epoch 49/50\n",
            "500/500 [==============================] - 39s 77ms/step - loss: 0.4934 - accuracy: 0.8433 - val_loss: 0.6660 - val_accuracy: 0.7948\n",
            "Epoch 50/50\n",
            "500/500 [==============================] - 39s 77ms/step - loss: 0.4835 - accuracy: 0.8457 - val_loss: 0.6025 - val_accuracy: 0.8164\n"
          ]
        }
      ],
      "source": [
        "history = model.fit(generator.flow(x_train, y_train, batch_size=batch_size),\n",
        "                    steps_per_epoch=len(x_train) / batch_size,\n",
        "                    epochs=epochs,\n",
        "                    validation_data=(x_test, y_test),\n",
        "                    callbacks=[early_stopping])"
      ]
    },
    {
      "cell_type": "markdown",
      "metadata": {
        "id": "arIHJNmlU8AR"
      },
      "source": [
        "## Evaluate the model"
      ]
    },
    {
      "cell_type": "code",
      "execution_count": 4,
      "metadata": {
        "id": "hioVctbmU8AR",
        "outputId": "167dc203-9083-4111-a58b-a773f0652819",
        "colab": {
          "base_uri": "https://localhost:8080/",
          "height": 548
        }
      },
      "outputs": [
        {
          "output_type": "display_data",
          "data": {
            "text/plain": [
              "<Figure size 432x288 with 1 Axes>"
            ],
            "image/png": "[encoded data removed]"
          },
          "metadata": {
            "needs_background": "light"
          }
        },
        {
          "output_type": "display_data",
          "data": {
            "text/plain": [
              "<Figure size 432x288 with 1 Axes>"
            ],
            "image/png": "[encoded data removed]"
          },
          "metadata": {
            "needs_background": "light"
          }
        },
        {
          "output_type": "stream",
          "name": "stdout",
          "text": [
            "Test loss: 0.6025099158287048\n",
            "Test accuracy: 0.8163999915122986\n"
          ]
        }
      ],
      "source": [
        "# Plot the loss and accuracy curves for training and validation\n",
        "import matplotlib.pyplot as plt\n",
        "import numpy as np\n",
        "\n",
        "train_loss = history.history['loss']\n",
        "val_loss = history.history['val_loss']\n",
        "train_acc = history.history['accuracy']\n",
        "val_acc = history.history['val_accuracy']\n",
        "\n",
        "plt.plot(np.arange(len(train_loss)), train_loss, label='train_loss')\n",
        "plt.plot(np.arange(len(val_loss)), val_loss, label='val_loss')\n",
        "plt.legend()\n",
        "plt.show()\n",
        "\n",
        "plt.plot(np.arange(len(train_acc)), train_acc, label='train_accuracy')\n",
        "plt.plot(np.arange(len(val_acc)), val_acc, label='val_accuracy')\n",
        "plt.legend()\n",
        "plt.show()\n",
        "\n",
        "# Evaluate the model on the test data using `evaluate`\n",
        "loss, acc = model.evaluate(x_test, y_test, verbose=0)\n",
        "print('Test loss:', loss)\n",
        "print('Test accuracy:', acc)"
      ]
    }
  ],
  "metadata": {
    "kernelspec": {
      "display_name": "ai-master",
      "language": "python",
      "name": "python3"
    },
    "language_info": {
      "name": "python",
      "version": "3.7.16 (default, Jan 17 2023, 09:28:58) \n[Clang 14.0.6 ]"
    },
    "orig_nbformat": 4,
    "vscode": {
      "interpreter": {
        "hash": "2512312fceb6e908b1c6087f9c29f0bb0c93a332146a69690954edd67c2954cb"
      }
    },
    "colab": {
      "provenance": []
    },
    "accelerator": "GPU",
    "gpuClass": "standard"
  },
  "nbformat": 4,
  "nbformat_minor": 0
}