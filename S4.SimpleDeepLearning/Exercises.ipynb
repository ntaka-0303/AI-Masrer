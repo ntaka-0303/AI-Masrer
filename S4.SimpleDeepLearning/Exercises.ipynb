{
 "cells": [
  {
   "attachments": {},
   "cell_type": "markdown",
   "metadata": {},
   "source": [
    "# Exercises\n",
    "Build a simple deep learning model to classify the Iris dataset by Keras."
   ]
  },
  {
   "attachments": {},
   "cell_type": "markdown",
   "metadata": {},
   "source": [
    "## Prepar the data"
   ]
  },
  {
   "cell_type": "code",
   "execution_count": 1,
   "metadata": {},
   "outputs": [
    {
     "name": "stderr",
     "output_type": "stream",
     "text": [
      "2023-02-26 15:55:45.448575: I tensorflow/core/platform/cpu_feature_guard.cc:193] This TensorFlow binary is optimized with oneAPI Deep Neural Network Library (oneDNN) to use the following CPU instructions in performance-critical operations:  SSE4.1 SSE4.2 AVX AVX2 FMA\n",
      "To enable them in other operations, rebuild TensorFlow with the appropriate compiler flags.\n"
     ]
    }
   ],
   "source": [
    "import numpy as np\n",
    "from sklearn import datasets\n",
    "from sklearn import preprocessing\n",
    "from sklearn.model_selection import train_test_split\n",
    "from keras.utils import np_utils\n",
    "\n",
    "iris = datasets.load_iris()\n",
    "\n",
    "scaler = preprocessing.StandardScaler()\n",
    "X = scaler.fit_transform(iris.data)\n",
    "y = np_utils.to_categorical(iris.target)\n",
    "\n",
    "X_train, X_test, y_train, y_test = train_test_split(X, y, test_size=0.2, random_state=42)"
   ]
  },
  {
   "attachments": {},
   "cell_type": "markdown",
   "metadata": {},
   "source": [
    "## Build the model"
   ]
  },
  {
   "cell_type": "code",
   "execution_count": 7,
   "metadata": {},
   "outputs": [],
   "source": [
    "from keras import Sequential\n",
    "from keras.layers import Dense,Activation\n",
    "\n",
    "model = Sequential()\n",
    "model.add(Dense(16, input_dim=4))\n",
    "model.add(Activation('relu'))\n",
    "model.add(Dense(16))\n",
    "model.add(Activation('relu'))\n",
    "model.add(Dense(3))\n",
    "model.add(Activation('softmax'))\n",
    "model.compile(loss='categorical_crossentropy', optimizer='sgd', metrics=['accuracy'])"
   ]
  },
  {
   "attachments": {},
   "cell_type": "markdown",
   "metadata": {},
   "source": [
    "# Train the model"
   ]
  },
  {
   "cell_type": "code",
   "execution_count": 8,
   "metadata": {},
   "outputs": [
    {
     "name": "stdout",
     "output_type": "stream",
     "text": [
      "Epoch 1/30\n",
      "15/15 [==============================] - 1s 5ms/step - loss: 1.1511 - accuracy: 0.1333\n",
      "Epoch 2/30\n",
      "15/15 [==============================] - 0s 8ms/step - loss: 1.0819 - accuracy: 0.2750\n",
      "Epoch 3/30\n",
      "15/15 [==============================] - 0s 9ms/step - loss: 1.0199 - accuracy: 0.4750\n",
      "Epoch 4/30\n",
      "15/15 [==============================] - 0s 7ms/step - loss: 0.9638 - accuracy: 0.6000\n",
      "Epoch 5/30\n",
      "15/15 [==============================] - 0s 10ms/step - loss: 0.9117 - accuracy: 0.6833\n",
      "Epoch 6/30\n",
      "15/15 [==============================] - 0s 6ms/step - loss: 0.8625 - accuracy: 0.7333\n",
      "Epoch 7/30\n",
      "15/15 [==============================] - 0s 5ms/step - loss: 0.8131 - accuracy: 0.7583\n",
      "Epoch 8/30\n",
      "15/15 [==============================] - 0s 7ms/step - loss: 0.7644 - accuracy: 0.7667\n",
      "Epoch 9/30\n",
      "15/15 [==============================] - 0s 7ms/step - loss: 0.7154 - accuracy: 0.7833\n",
      "Epoch 10/30\n",
      "15/15 [==============================] - 0s 7ms/step - loss: 0.6710 - accuracy: 0.8000\n",
      "Epoch 11/30\n",
      "15/15 [==============================] - 0s 5ms/step - loss: 0.6317 - accuracy: 0.7917\n",
      "Epoch 12/30\n",
      "15/15 [==============================] - 0s 6ms/step - loss: 0.5974 - accuracy: 0.8000\n",
      "Epoch 13/30\n",
      "15/15 [==============================] - 0s 7ms/step - loss: 0.5688 - accuracy: 0.8083\n",
      "Epoch 14/30\n",
      "15/15 [==============================] - 0s 7ms/step - loss: 0.5436 - accuracy: 0.8000\n",
      "Epoch 15/30\n",
      "15/15 [==============================] - 0s 8ms/step - loss: 0.5217 - accuracy: 0.8000\n",
      "Epoch 16/30\n",
      "15/15 [==============================] - 0s 4ms/step - loss: 0.5021 - accuracy: 0.8083\n",
      "Epoch 17/30\n",
      "15/15 [==============================] - 0s 4ms/step - loss: 0.4851 - accuracy: 0.8333\n",
      "Epoch 18/30\n",
      "15/15 [==============================] - 0s 5ms/step - loss: 0.4696 - accuracy: 0.8250\n",
      "Epoch 19/30\n",
      "15/15 [==============================] - 0s 5ms/step - loss: 0.4556 - accuracy: 0.8417\n",
      "Epoch 20/30\n",
      "15/15 [==============================] - 0s 5ms/step - loss: 0.4433 - accuracy: 0.8333\n",
      "Epoch 21/30\n",
      "15/15 [==============================] - 0s 6ms/step - loss: 0.4321 - accuracy: 0.8417\n",
      "Epoch 22/30\n",
      "15/15 [==============================] - 0s 5ms/step - loss: 0.4232 - accuracy: 0.8417\n",
      "Epoch 23/30\n",
      "15/15 [==============================] - 0s 5ms/step - loss: 0.4134 - accuracy: 0.8417\n",
      "Epoch 24/30\n",
      "15/15 [==============================] - 0s 5ms/step - loss: 0.4049 - accuracy: 0.8417\n",
      "Epoch 25/30\n",
      "15/15 [==============================] - 0s 5ms/step - loss: 0.3967 - accuracy: 0.8417\n",
      "Epoch 26/30\n",
      "15/15 [==============================] - 0s 5ms/step - loss: 0.3897 - accuracy: 0.8417\n",
      "Epoch 27/30\n",
      "15/15 [==============================] - 0s 4ms/step - loss: 0.3824 - accuracy: 0.8500\n",
      "Epoch 28/30\n",
      "15/15 [==============================] - 0s 5ms/step - loss: 0.3761 - accuracy: 0.8500\n",
      "Epoch 29/30\n",
      "15/15 [==============================] - 0s 5ms/step - loss: 0.3698 - accuracy: 0.8500\n",
      "Epoch 30/30\n",
      "15/15 [==============================] - 0s 6ms/step - loss: 0.3633 - accuracy: 0.8583\n"
     ]
    }
   ],
   "source": [
    "history = model.fit(X_train, y_train, epochs=30, batch_size=8)"
   ]
  },
  {
   "attachments": {},
   "cell_type": "markdown",
   "metadata": {},
   "source": [
    "## Plot the loss and accuracy"
   ]
  },
  {
   "cell_type": "code",
   "execution_count": 9,
   "metadata": {},
   "outputs": [
    {
     "data": {
      "image/png": "[encoded data removed]",
      "text/plain": [
       "<Figure size 640x480 with 1 Axes>"
      ]
     },
     "metadata": {},
     "output_type": "display_data"
    }
   ],
   "source": [
    "hist_loss = history.history['loss']\n",
    "hist_acc = history.history['accuracy']\n",
    "\n",
    "import matplotlib.pyplot as plt\n",
    "plt.plot(np.arange(len(hist_loss)), hist_loss, label='loss')\n",
    "plt.plot(np.arange(len(hist_acc)), hist_acc, label='accuracy')\n",
    "plt.legend()\n",
    "plt.show()"
   ]
  },
  {
   "attachments": {},
   "cell_type": "markdown",
   "metadata": {},
   "source": [
    "## Evaluate the model"
   ]
  },
  {
   "cell_type": "code",
   "execution_count": 10,
   "metadata": {},
   "outputs": [
    {
     "name": "stdout",
     "output_type": "stream",
     "text": [
      "1/1 [==============================] - 0s 435ms/step - loss: 0.2857 - accuracy: 0.9333\n",
      "loss:  0.28574973344802856\n",
      "accuracy:  0.9333333373069763\n"
     ]
    }
   ],
   "source": [
    "loss, accuracy = model.evaluate(X_test, y_test)\n",
    "print('loss: ', loss)\n",
    "print('accuracy: ', accuracy)"
   ]
  },
  {
   "attachments": {},
   "cell_type": "markdown",
   "metadata": {},
   "source": [
    "## Predict the class of a new sample"
   ]
  },
  {
   "cell_type": "code",
   "execution_count": 11,
   "metadata": {},
   "outputs": [
    {
     "name": "stdout",
     "output_type": "stream",
     "text": [
      "1/1 [==============================] - 0s 207ms/step\n"
     ]
    },
    {
     "data": {
      "text/plain": [
       "array([[4.03020047e-02, 5.81476510e-01, 3.78221571e-01],\n",
       "       [9.63452458e-01, 2.13734750e-02, 1.51740769e-02],\n",
       "       [9.59143916e-04, 6.70608878e-02, 9.31979954e-01],\n",
       "       [6.30529895e-02, 5.27955353e-01, 4.08991635e-01],\n",
       "       [2.07454320e-02, 3.68410647e-01, 6.10843956e-01],\n",
       "       [9.41547990e-01, 3.09564564e-02, 2.74955370e-02],\n",
       "       [1.51841745e-01, 5.79845965e-01, 2.68312275e-01],\n",
       "       [2.45872252e-02, 1.30957827e-01, 8.44455004e-01],\n",
       "       [1.30857322e-02, 6.25601053e-01, 3.61313224e-01],\n",
       "       [5.97684383e-02, 6.61676526e-01, 2.78555006e-01],\n",
       "       [4.96934988e-02, 2.14121222e-01, 7.36185253e-01],\n",
       "       [9.53298986e-01, 2.42862459e-02, 2.24147979e-02],\n",
       "       [9.59383786e-01, 2.22086124e-02, 1.84076857e-02],\n",
       "       [9.58047032e-01, 2.17352472e-02, 2.02176627e-02],\n",
       "       [9.83186364e-01, 9.44435131e-03, 7.36921234e-03],\n",
       "       [9.24017802e-02, 3.68475825e-01, 5.39122403e-01],\n",
       "       [2.12394074e-02, 1.81612357e-01, 7.97148287e-01],\n",
       "       [4.00418676e-02, 7.16490567e-01, 2.43467510e-01],\n",
       "       [5.50917387e-02, 6.57318652e-01, 2.87589610e-01],\n",
       "       [2.09203903e-02, 2.43824705e-01, 7.35254943e-01],\n",
       "       [9.67292130e-01, 1.72734391e-02, 1.54343704e-02],\n",
       "       [6.15919530e-02, 3.73994887e-01, 5.64413130e-01],\n",
       "       [9.60804164e-01, 2.08263304e-02, 1.83695033e-02],\n",
       "       [2.06099693e-02, 2.65031517e-01, 7.14358449e-01],\n",
       "       [6.64693629e-03, 5.69783151e-02, 9.36374784e-01],\n",
       "       [2.51397863e-02, 1.61797673e-01, 8.13062489e-01],\n",
       "       [7.88557343e-03, 3.14055711e-01, 6.78058624e-01],\n",
       "       [1.87007561e-02, 1.11869484e-01, 8.69429767e-01],\n",
       "       [9.42453265e-01, 2.83889938e-02, 2.91577540e-02],\n",
       "       [9.54982817e-01, 2.37366054e-02, 2.12806426e-02]], dtype=float32)"
      ]
     },
     "execution_count": 11,
     "metadata": {},
     "output_type": "execute_result"
    }
   ],
   "source": [
    "model.predict(X_test)"
   ]
  },
  {
   "cell_type": "code",
   "execution_count": null,
   "metadata": {},
   "outputs": [],
   "source": []
  }
 ],
 "metadata": {
  "kernelspec": {
   "display_name": "ai-master",
   "language": "python",
   "name": "python3"
  },
  "language_info": {
   "codemirror_mode": {
    "name": "ipython",
    "version": 3
   },
   "file_extension": ".py",
   "mimetype": "text/x-python",
   "name": "python",
   "nbconvert_exporter": "python",
   "pygments_lexer": "ipython3",
   "version": "3.7.16"
  },
  "orig_nbformat": 4,
  "vscode": {
   "interpreter": {
    "hash": "2512312fceb6e908b1c6087f9c29f0bb0c93a332146a69690954edd67c2954cb"
   }
  }
 },
 "nbformat": 4,
 "nbformat_minor": 2
}
