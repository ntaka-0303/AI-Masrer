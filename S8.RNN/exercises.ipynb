{
 "cells": [
  {
   "attachments": {},
   "cell_type": "markdown",
   "metadata": {},
   "source": [
    "# Exercises: Recurrent Neural Networks"
   ]
  },
  {
   "attachments": {},
   "cell_type": "markdown",
   "metadata": {},
   "source": [
    "## Read the data"
   ]
  },
  {
   "cell_type": "code",
   "execution_count": null,
   "metadata": {},
   "outputs": [],
   "source": [
    "nov_path = 'kaijin_nijumenso.txt'\n",
    "\n",
    "with open(nov_path, 'r') as f:\n",
    "    nov_text = f.read()"
   ]
  },
  {
   "attachments": {},
   "cell_type": "markdown",
   "metadata": {},
   "source": [
    "## Preprocessiong"
   ]
  },
  {
   "cell_type": "code",
   "execution_count": null,
   "metadata": {},
   "outputs": [],
   "source": [
    "import re\n",
    "\n",
    "text = re.sub(\"《[^》]+》\", \"\", nov_text)  # remove <brackets>\n",
    "text = re.sub(\"［[^］]+］\", \"\", text) # remove [brackets]\n",
    "text = re.sub(\"[｜ 　]\", \"\", text) # remove | and spaces"
   ]
  },
  {
   "attachments": {},
   "cell_type": "markdown",
   "metadata": {},
   "source": [
    "## Setting up the hyperparameters"
   ]
  },
  {
   "cell_type": "code",
   "execution_count": null,
   "metadata": {},
   "outputs": [],
   "source": [
    "n_rnn = 20 # number of characters to consider\n",
    "batch_size = 256 # number of sequences to consider at once\n",
    "n_epochs = 100 # number of epochs to train for\n",
    "n_hidden = 256 # number of hidden units in the RNN"
   ]
  },
  {
   "attachments": {},
   "cell_type": "markdown",
   "metadata": {},
   "source": [
    "## word2vec"
   ]
  },
  {
   "cell_type": "code",
   "execution_count": 1,
   "metadata": {},
   "outputs": [
    {
     "ename": "NameError",
     "evalue": "name 'text' is not defined",
     "output_type": "error",
     "traceback": [
      "\u001b[0;31m---------------------------------------------------------------------------\u001b[0m",
      "\u001b[0;31mNameError\u001b[0m                                 Traceback (most recent call last)",
      "\u001b[0;32m/var/folders/4b/51c7z2390ng5847hqgswbhrw0000gn/T/ipykernel_70828/2340290061.py\u001b[0m in \u001b[0;36m<module>\u001b[0;34m\u001b[0m\n\u001b[1;32m      2\u001b[0m \u001b[0;34m\u001b[0m\u001b[0m\n\u001b[1;32m      3\u001b[0m \u001b[0;31m# create a index to character mapping\u001b[0m\u001b[0;34m\u001b[0m\u001b[0;34m\u001b[0m\u001b[0;34m\u001b[0m\u001b[0m\n\u001b[0;32m----> 4\u001b[0;31m \u001b[0mchars\u001b[0m \u001b[0;34m=\u001b[0m \u001b[0mlist\u001b[0m\u001b[0;34m(\u001b[0m\u001b[0mset\u001b[0m\u001b[0;34m(\u001b[0m\u001b[0mtext\u001b[0m\u001b[0;34m)\u001b[0m\u001b[0;34m)\u001b[0m\u001b[0;34m\u001b[0m\u001b[0;34m\u001b[0m\u001b[0m\n\u001b[0m\u001b[1;32m      5\u001b[0m \u001b[0mchar_indices\u001b[0m \u001b[0;34m=\u001b[0m \u001b[0;34m{\u001b[0m\u001b[0mc\u001b[0m\u001b[0;34m:\u001b[0m \u001b[0mi\u001b[0m \u001b[0;32mfor\u001b[0m \u001b[0mi\u001b[0m\u001b[0;34m,\u001b[0m \u001b[0mc\u001b[0m \u001b[0;32min\u001b[0m \u001b[0menumerate\u001b[0m\u001b[0;34m(\u001b[0m\u001b[0mchars\u001b[0m\u001b[0;34m)\u001b[0m\u001b[0;34m}\u001b[0m\u001b[0;34m\u001b[0m\u001b[0;34m\u001b[0m\u001b[0m\n\u001b[1;32m      6\u001b[0m \u001b[0mindices_char\u001b[0m \u001b[0;34m=\u001b[0m \u001b[0;34m{\u001b[0m\u001b[0mi\u001b[0m\u001b[0;34m:\u001b[0m \u001b[0mc\u001b[0m \u001b[0;32mfor\u001b[0m \u001b[0mi\u001b[0m\u001b[0;34m,\u001b[0m \u001b[0mc\u001b[0m \u001b[0;32min\u001b[0m \u001b[0menumerate\u001b[0m\u001b[0;34m(\u001b[0m\u001b[0mchars\u001b[0m\u001b[0;34m)\u001b[0m\u001b[0;34m}\u001b[0m\u001b[0;34m\u001b[0m\u001b[0;34m\u001b[0m\u001b[0m\n",
      "\u001b[0;31mNameError\u001b[0m: name 'text' is not defined"
     ]
    }
   ],
   "source": [
    "import numpy as np\n",
    "\n",
    "# create a index to character mapping\n",
    "chars = list(set(text))\n",
    "char_indices = {c: i for i, c in enumerate(chars)}\n",
    "indices_char = {i: c for i, c in enumerate(chars)}\n",
    "\n",
    "# cut the text in semi-redundant sequences of n_rnn characters\n",
    "time_chars = []\n",
    "next_chars = []\n",
    "for i in range(0, len(text) - n_rnn):\n",
    "    time_chars.append(text[i: i + n_rnn])\n",
    "    next_chars.append(text[i + n_rnn])\n",
    "\n",
    "# create a vectorized representation of the sequences\n",
    "X = np.zeros((len(time_chars), n_rnn, len(chars)), dtype=np.bool)\n",
    "y = np.zeros((len(time_chars), len(chars)), dtype=np.bool)\n",
    "for i, time_char in enumerate(time_chars):\n",
    "    for t, char in enumerate(time_char):\n",
    "        X[i, t, char_indices[char]] = 1\n",
    "    y[i, char_indices[next_chars[i]]] = 1"
   ]
  },
  {
   "attachments": {},
   "cell_type": "markdown",
   "metadata": {},
   "source": [
    "## Creating the model"
   ]
  },
  {
   "attachments": {},
   "cell_type": "markdown",
   "metadata": {},
   "source": [
    "from keras.models import Sequential\n",
    "from keras.layers import Dense, GRU\n",
    "\n",
    "model = Sequential()\n",
    "model.add(GRU(n_hidden, input_shape=(n_rnn, len(chars))))\n",
    "model.add(Dense(len(chars), activation='softmax'))\n",
    "model.compile(loss='categorical_crossentropy', optimizer='adam')\n",
    "model.summary()"
   ]
  },
  {
   "attachments": {},
   "cell_type": "markdown",
   "metadata": {},
   "source": [
    "## Defining the setence generator function"
   ]
  },
  {
   "cell_type": "code",
   "execution_count": null,
   "metadata": {},
   "outputs": [],
   "source": [
    "from keras.callbacks import LambdaCallback\n",
    "def on_epoch_end(epochs, logs):\n",
    "    if(epochs == n_epochs-1 or epochs == 0):\n",
    "        print('----- Generating text after Epoch: %d' % epochs)\n",
    "        beta = 5 # temperature\n",
    "        prev_text = text[0: n_rnn] # seed text\n",
    "        created_text = prev_text\n",
    "\n",
    "        print('----- Generating with seed: \"' + prev_text + '\"')\n",
    "        for i in range(400):\n",
    "            # one-hot encode the characters\n",
    "            X_pred = np.zeros((1, n_rnn, len(chars)))\n",
    "            for t, char in enumerate(prev_text):\n",
    "                X_pred[0, t, char_indices[char]] = 1.\n",
    "\n",
    "            # predict the next character\n",
    "            preds = model.predict(X_pred, verbose=0)[0]\n",
    "            p_power = np.asarray(preds).astype('float64')\n",
    "            p_power = p_power ** beta # modify the distribution\n",
    "            next_index = np.random.choice(len(p_power), p=p_power/np.sum(p_power))\n",
    "            next_char = indices_char[next_index]\n",
    "\n",
    "            created_text += next_char\n",
    "            prev_text = prev_text[1:] + next_char \n",
    "        print(created_text)\n",
    "        print()\n",
    "\n",
    "# set up the callbacks\n",
    "epoch_end_callback = LambdaCallback(on_epoch_end=on_epoch_end)"
   ]
  },
  {
   "attachments": {},
   "cell_type": "markdown",
   "metadata": {},
   "source": [
    "## Training the model"
   ]
  },
  {
   "cell_type": "code",
   "execution_count": null,
   "metadata": {},
   "outputs": [],
   "source": [
    "history = model.fit(X, y, batch_size=batch_size, epochs=n_epochs, callbacks=[epoch_end_callback])"
   ]
  },
  {
   "attachments": {},
   "cell_type": "markdown",
   "metadata": {},
   "source": [
    "## History"
   ]
  },
  {
   "cell_type": "code",
   "execution_count": null,
   "metadata": {},
   "outputs": [],
   "source": [
    "loss = history.history['loss']\n",
    "\n",
    "import matplotlib.pyplot as plt\n",
    "plt.plot(loss, label='loss')\n",
    "plt.legend()\n",
    "plt.show()"
   ]
  }
 ],
 "metadata": {
  "kernelspec": {
   "display_name": "ai-master",
   "language": "python",
   "name": "python3"
  },
  "language_info": {
   "codemirror_mode": {
    "name": "ipython",
    "version": 3
   },
   "file_extension": ".py",
   "mimetype": "text/x-python",
   "name": "python",
   "nbconvert_exporter": "python",
   "pygments_lexer": "ipython3",
   "version": "3.7.16"
  },
  "orig_nbformat": 4,
  "vscode": {
   "interpreter": {
    "hash": "2512312fceb6e908b1c6087f9c29f0bb0c93a332146a69690954edd67c2954cb"
   }
  }
 },
 "nbformat": 4,
 "nbformat_minor": 2
}
