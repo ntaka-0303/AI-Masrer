{
  "cells": [
    {
      "cell_type": "markdown",
      "metadata": {
        "id": "ZTN_7bKrUs3O"
      },
      "source": [
        "# Exercises: Recurrent Neural Networks"
      ]
    },
    {
      "cell_type": "markdown",
      "metadata": {
        "id": "SSt9spzvUs3Q"
      },
      "source": [
        "## Read the data"
      ]
    },
    {
      "cell_type": "code",
      "execution_count": 7,
      "metadata": {
        "id": "3x1E2q0pUs3R"
      },
      "outputs": [],
      "source": [
        "nov_path = 'kaijin_nijumenso.txt'\n",
        "\n",
        "with open(nov_path, 'r') as f:\n",
        "    nov_text = f.read()"
      ]
    },
    {
      "cell_type": "markdown",
      "metadata": {
        "id": "3epzfH4EUs3S"
      },
      "source": [
        "## Preprocessiong"
      ]
    },
    {
      "cell_type": "code",
      "execution_count": 8,
      "metadata": {
        "id": "6RRhpBlPUs3S"
      },
      "outputs": [],
      "source": [
        "import re\n",
        "\n",
        "text = re.sub(\"《[^》]+》\", \"\", nov_text)  # remove <brackets>\n",
        "text = re.sub(\"［[^］]+］\", \"\", text) # remove [brackets]\n",
        "text = re.sub(\"[｜ 　]\", \"\", text) # remove | and spaces"
      ]
    },
    {
      "cell_type": "markdown",
      "metadata": {
        "id": "dLiokDDuUs3U"
      },
      "source": [
        "## Setting up the hyperparameters"
      ]
    },
    {
      "cell_type": "code",
      "execution_count": 9,
      "metadata": {
        "id": "ScQgsUedUs3V"
      },
      "outputs": [],
      "source": [
        "n_rnn = 20 # number of characters to consider\n",
        "batch_size = 256 # number of sequences to consider at once\n",
        "n_epochs = 100 # number of epochs to train for\n",
        "n_hidden = 256 # number of hidden units in the RNN"
      ]
    },
    {
      "cell_type": "markdown",
      "metadata": {
        "id": "jb-N8GooUs3V"
      },
      "source": [
        "## word2vec"
      ]
    },
    {
      "cell_type": "code",
      "execution_count": 10,
      "metadata": {
        "id": "XMdtdSvCUs3Z",
        "outputId": "83009a5b-5363-4320-82a2-def0b349a8ab",
        "colab": {
          "base_uri": "https://localhost:8080/"
        }
      },
      "outputs": [
        {
          "output_type": "stream",
          "name": "stderr",
          "text": [
            "<ipython-input-10-d37885ac7414>:16: DeprecationWarning: `np.bool` is a deprecated alias for the builtin `bool`. To silence this warning, use `bool` by itself. Doing this will not modify any behavior and is safe. If you specifically wanted the numpy scalar type, use `np.bool_` here.\n",
            "Deprecated in NumPy 1.20; for more details and guidance: https://numpy.org/devdocs/release/1.20.0-notes.html#deprecations\n",
            "  X = np.zeros((len(time_chars), n_rnn, len(chars)), dtype=np.bool)\n",
            "<ipython-input-10-d37885ac7414>:17: DeprecationWarning: `np.bool` is a deprecated alias for the builtin `bool`. To silence this warning, use `bool` by itself. Doing this will not modify any behavior and is safe. If you specifically wanted the numpy scalar type, use `np.bool_` here.\n",
            "Deprecated in NumPy 1.20; for more details and guidance: https://numpy.org/devdocs/release/1.20.0-notes.html#deprecations\n",
            "  y = np.zeros((len(time_chars), len(chars)), dtype=np.bool)\n"
          ]
        }
      ],
      "source": [
        "import numpy as np\n",
        "\n",
        "# create a index to character mapping\n",
        "chars = list(set(text))\n",
        "char_indices = {c: i for i, c in enumerate(chars)}\n",
        "indices_char = {i: c for i, c in enumerate(chars)}\n",
        "\n",
        "# cut the text in semi-redundant sequences of n_rnn characters\n",
        "time_chars = []\n",
        "next_chars = []\n",
        "for i in range(0, len(text) - n_rnn):\n",
        "    time_chars.append(text[i: i + n_rnn])\n",
        "    next_chars.append(text[i + n_rnn])\n",
        "\n",
        "# create a vectorized representation of the sequences\n",
        "X = np.zeros((len(time_chars), n_rnn, len(chars)), dtype=np.bool)\n",
        "y = np.zeros((len(time_chars), len(chars)), dtype=np.bool)\n",
        "for i, time_char in enumerate(time_chars):\n",
        "    for t, char in enumerate(time_char):\n",
        "        X[i, t, char_indices[char]] = 1\n",
        "    y[i, char_indices[next_chars[i]]] = 1"
      ]
    },
    {
      "cell_type": "markdown",
      "metadata": {
        "id": "6_CgBzCaUs36"
      },
      "source": [
        "## Creating the model"
      ]
    },
    {
      "cell_type": "code",
      "source": [
        "from keras.models import Sequential\n",
        "from keras.layers import Dense, GRU\n",
        "\n",
        "model = Sequential()\n",
        "model.add(GRU(n_hidden, input_shape=(n_rnn, len(chars))))\n",
        "model.add(Dense(len(chars), activation='softmax'))\n",
        "model.compile(loss='categorical_crossentropy', optimizer='adam')\n",
        "model.summary()"
      ],
      "metadata": {
        "id": "L9rACP-nVDz4",
        "outputId": "7ab7abf4-89ca-49c0-f440-9b1f83151f3c",
        "colab": {
          "base_uri": "https://localhost:8080/"
        }
      },
      "execution_count": 11,
      "outputs": [
        {
          "output_type": "stream",
          "name": "stdout",
          "text": [
            "Model: \"sequential\"\n",
            "_________________________________________________________________\n",
            " Layer (type)                Output Shape              Param #   \n",
            "=================================================================\n",
            " gru (GRU)                   (None, 256)               1157376   \n",
            "                                                                 \n",
            " dense (Dense)               (None, 1249)              320993    \n",
            "                                                                 \n",
            "=================================================================\n",
            "Total params: 1,478,369\n",
            "Trainable params: 1,478,369\n",
            "Non-trainable params: 0\n",
            "_________________________________________________________________\n"
          ]
        }
      ]
    },
    {
      "cell_type": "markdown",
      "metadata": {
        "id": "F9Ivnil5Us39"
      },
      "source": [
        "## Defining the setence generator function"
      ]
    },
    {
      "cell_type": "code",
      "execution_count": 12,
      "metadata": {
        "id": "Qv37d8X5Us3-"
      },
      "outputs": [],
      "source": [
        "from keras.callbacks import LambdaCallback\n",
        "def on_epoch_end(epochs, logs):\n",
        "    if(epochs == n_epochs-1 or epochs == 0):\n",
        "        print('----- Generating text after Epoch: %d' % epochs)\n",
        "        beta = 5 # temperature\n",
        "        prev_text = text[0: n_rnn] # seed text\n",
        "        created_text = prev_text\n",
        "\n",
        "        print('----- Generating with seed: \"' + prev_text + '\"')\n",
        "        for i in range(400):\n",
        "            # one-hot encode the characters\n",
        "            X_pred = np.zeros((1, n_rnn, len(chars)))\n",
        "            for t, char in enumerate(prev_text):\n",
        "                X_pred[0, t, char_indices[char]] = 1.\n",
        "\n",
        "            # predict the next character\n",
        "            preds = model.predict(X_pred, verbose=0)[0]\n",
        "            p_power = np.asarray(preds).astype('float64')\n",
        "            p_power = p_power ** beta # modify the distribution\n",
        "            next_index = np.random.choice(len(p_power), p=p_power/np.sum(p_power))\n",
        "            next_char = indices_char[next_index]\n",
        "\n",
        "            created_text += next_char\n",
        "            prev_text = prev_text[1:] + next_char \n",
        "        print(created_text)\n",
        "        print()\n",
        "\n",
        "# set up the callbacks\n",
        "epoch_end_callback = LambdaCallback(on_epoch_end=on_epoch_end)"
      ]
    },
    {
      "cell_type": "markdown",
      "metadata": {
        "id": "ky5MJxKsUs4C"
      },
      "source": [
        "## Training the model"
      ]
    },
    {
      "cell_type": "code",
      "execution_count": 13,
      "metadata": {
        "id": "UCu_IQqQUs4C",
        "outputId": "ff86bef2-a659-4886-e1fd-d16b9bed6770",
        "colab": {
          "base_uri": "https://localhost:8080/"
        }
      },
      "outputs": [
        {
          "output_type": "stream",
          "name": "stdout",
          "text": [
            "Epoch 1/100\n",
            "429/431 [============================>.] - ETA: 0s - loss: 4.7157----- Generating text after Epoch: 0\n",
            "----- Generating with seed: \"そのころ、東京中の町という町、家という家\"\n",
            "そのころ、東京中の町という町、家という家のです。\n",
            "「そのです。\n",
            "「そのです。\n",
            "「そのです。\n",
            "「そのです。\n",
            "「そのです。\n",
            "「そのです。\n",
            "「そのです。\n",
            "「そのです。\n",
            "「そのです。\n",
            "「そのです。\n",
            "「は、そのです。\n",
            "「そのです。\n",
            "「そのです。\n",
            "「そのです。\n",
            "「そのです。\n",
            "「そのです。\n",
            "「そのです。\n",
            "「そのです。\n",
            "「そのです。\n",
            "「そのです。\n",
            "「そのです。\n",
            "「そのです。\n",
            "「そのです。\n",
            "「そのです。\n",
            "「そのです。\n",
            "「そのです。\n",
            "「そのです。\n",
            "「そのです。\n",
            "「そのです。\n",
            "「そのです。\n",
            "「そのです。\n",
            "「そのです。\n",
            "「そのです。\n",
            "「そのと、そのです。\n",
            "「そのです。\n",
            "「そのです。\n",
            "「そのです。\n",
            "「そのです。\n",
            "「そのです。\n",
            "「そのです。\n",
            "「そのです。\n",
            "「そのです。\n",
            "「そのです。\n",
            "「そのです。\n",
            "「そのです。\n",
            "「そのです。\n",
            "「そのです。\n",
            "「そのです。\n",
            "「そのです。\n",
            "「そのです。\n",
            "「に、そのです。\n",
            "「そのです。\n",
            "「そのです。\n",
            "「そのです。\n",
            "「そのです。\n",
            "「そ\n",
            "\n",
            "431/431 [==============================] - 38s 70ms/step - loss: 4.7134\n",
            "Epoch 2/100\n",
            "431/431 [==============================] - 6s 14ms/step - loss: 3.7609\n",
            "Epoch 3/100\n",
            "431/431 [==============================] - 6s 15ms/step - loss: 3.3638\n",
            "Epoch 4/100\n",
            "431/431 [==============================] - 6s 14ms/step - loss: 3.1432\n",
            "Epoch 5/100\n",
            "431/431 [==============================] - 6s 15ms/step - loss: 2.9889\n",
            "Epoch 6/100\n",
            "431/431 [==============================] - 6s 15ms/step - loss: 2.8582\n",
            "Epoch 7/100\n",
            "431/431 [==============================] - 6s 15ms/step - loss: 2.7407\n",
            "Epoch 8/100\n",
            "431/431 [==============================] - 7s 16ms/step - loss: 2.6339\n",
            "Epoch 9/100\n",
            "431/431 [==============================] - 6s 14ms/step - loss: 2.5315\n",
            "Epoch 10/100\n",
            "431/431 [==============================] - 6s 15ms/step - loss: 2.4349\n",
            "Epoch 11/100\n",
            "431/431 [==============================] - 6s 14ms/step - loss: 2.3403\n",
            "Epoch 12/100\n",
            "431/431 [==============================] - 7s 15ms/step - loss: 2.2482\n",
            "Epoch 13/100\n",
            "431/431 [==============================] - 6s 14ms/step - loss: 2.1587\n",
            "Epoch 14/100\n",
            "431/431 [==============================] - 6s 14ms/step - loss: 2.0712\n",
            "Epoch 15/100\n",
            "431/431 [==============================] - 6s 14ms/step - loss: 1.9847\n",
            "Epoch 16/100\n",
            "431/431 [==============================] - 6s 14ms/step - loss: 1.8988\n",
            "Epoch 17/100\n",
            "431/431 [==============================] - 6s 14ms/step - loss: 1.8144\n",
            "Epoch 18/100\n",
            "431/431 [==============================] - 6s 15ms/step - loss: 1.7314\n",
            "Epoch 19/100\n",
            "431/431 [==============================] - 6s 14ms/step - loss: 1.6483\n",
            "Epoch 20/100\n",
            "431/431 [==============================] - 6s 15ms/step - loss: 1.5698\n",
            "Epoch 21/100\n",
            "431/431 [==============================] - 6s 14ms/step - loss: 1.4921\n",
            "Epoch 22/100\n",
            "431/431 [==============================] - 6s 15ms/step - loss: 1.4173\n",
            "Epoch 23/100\n",
            "431/431 [==============================] - 6s 14ms/step - loss: 1.3428\n",
            "Epoch 24/100\n",
            "431/431 [==============================] - 6s 15ms/step - loss: 1.2704\n",
            "Epoch 25/100\n",
            "431/431 [==============================] - 6s 14ms/step - loss: 1.2023\n",
            "Epoch 26/100\n",
            "431/431 [==============================] - 6s 15ms/step - loss: 1.1377\n",
            "Epoch 27/100\n",
            "431/431 [==============================] - 6s 14ms/step - loss: 1.0747\n",
            "Epoch 28/100\n",
            "431/431 [==============================] - 6s 15ms/step - loss: 1.0186\n",
            "Epoch 29/100\n",
            "431/431 [==============================] - 6s 14ms/step - loss: 0.9635\n",
            "Epoch 30/100\n",
            "431/431 [==============================] - 6s 15ms/step - loss: 0.9107\n",
            "Epoch 31/100\n",
            "431/431 [==============================] - 6s 14ms/step - loss: 0.8642\n",
            "Epoch 32/100\n",
            "431/431 [==============================] - 6s 15ms/step - loss: 0.8192\n",
            "Epoch 33/100\n",
            "431/431 [==============================] - 6s 14ms/step - loss: 0.7775\n",
            "Epoch 34/100\n",
            "431/431 [==============================] - 6s 15ms/step - loss: 0.7380\n",
            "Epoch 35/100\n",
            "431/431 [==============================] - 6s 14ms/step - loss: 0.7014\n",
            "Epoch 36/100\n",
            "431/431 [==============================] - 6s 15ms/step - loss: 0.6708\n",
            "Epoch 37/100\n",
            "431/431 [==============================] - 6s 14ms/step - loss: 0.6393\n",
            "Epoch 38/100\n",
            "431/431 [==============================] - 6s 15ms/step - loss: 0.6067\n",
            "Epoch 39/100\n",
            "431/431 [==============================] - 6s 14ms/step - loss: 0.5824\n",
            "Epoch 40/100\n",
            "431/431 [==============================] - 6s 15ms/step - loss: 0.5609\n",
            "Epoch 41/100\n",
            "431/431 [==============================] - 6s 14ms/step - loss: 0.5379\n",
            "Epoch 42/100\n",
            "431/431 [==============================] - 6s 15ms/step - loss: 0.5153\n",
            "Epoch 43/100\n",
            "431/431 [==============================] - 6s 14ms/step - loss: 0.4982\n",
            "Epoch 44/100\n",
            "431/431 [==============================] - 6s 15ms/step - loss: 0.4788\n",
            "Epoch 45/100\n",
            "431/431 [==============================] - 6s 14ms/step - loss: 0.4537\n",
            "Epoch 46/100\n",
            "431/431 [==============================] - 6s 15ms/step - loss: 0.4446\n",
            "Epoch 47/100\n",
            "431/431 [==============================] - 6s 14ms/step - loss: 0.4254\n",
            "Epoch 48/100\n",
            "431/431 [==============================] - 7s 16ms/step - loss: 0.4137\n",
            "Epoch 49/100\n",
            "431/431 [==============================] - 6s 14ms/step - loss: 0.4029\n",
            "Epoch 50/100\n",
            "431/431 [==============================] - 6s 15ms/step - loss: 0.3824\n",
            "Epoch 51/100\n",
            "431/431 [==============================] - 6s 14ms/step - loss: 0.3750\n",
            "Epoch 52/100\n",
            "431/431 [==============================] - 6s 15ms/step - loss: 0.3668\n",
            "Epoch 53/100\n",
            "431/431 [==============================] - 6s 14ms/step - loss: 0.3537\n",
            "Epoch 54/100\n",
            "431/431 [==============================] - 6s 15ms/step - loss: 0.3444\n",
            "Epoch 55/100\n",
            "431/431 [==============================] - 6s 14ms/step - loss: 0.3378\n",
            "Epoch 56/100\n",
            "431/431 [==============================] - 6s 15ms/step - loss: 0.3202\n",
            "Epoch 57/100\n",
            "431/431 [==============================] - 6s 14ms/step - loss: 0.3258\n",
            "Epoch 58/100\n",
            "431/431 [==============================] - 6s 15ms/step - loss: 0.3069\n",
            "Epoch 59/100\n",
            "431/431 [==============================] - 6s 14ms/step - loss: 0.3006\n",
            "Epoch 60/100\n",
            "431/431 [==============================] - 6s 15ms/step - loss: 0.3004\n",
            "Epoch 61/100\n",
            "431/431 [==============================] - 6s 14ms/step - loss: 0.2937\n",
            "Epoch 62/100\n",
            "431/431 [==============================] - 6s 15ms/step - loss: 0.2837\n",
            "Epoch 63/100\n",
            "431/431 [==============================] - 6s 14ms/step - loss: 0.2982\n",
            "Epoch 64/100\n",
            "431/431 [==============================] - 6s 15ms/step - loss: 0.2838\n",
            "Epoch 65/100\n",
            "431/431 [==============================] - 6s 14ms/step - loss: 0.2509\n",
            "Epoch 66/100\n",
            "431/431 [==============================] - 6s 15ms/step - loss: 0.2599\n",
            "Epoch 67/100\n",
            "431/431 [==============================] - 6s 14ms/step - loss: 0.2793\n",
            "Epoch 68/100\n",
            "431/431 [==============================] - 6s 15ms/step - loss: 0.2693\n",
            "Epoch 69/100\n",
            "431/431 [==============================] - 6s 14ms/step - loss: 0.2492\n",
            "Epoch 70/100\n",
            "431/431 [==============================] - 7s 15ms/step - loss: 0.2392\n",
            "Epoch 71/100\n",
            "431/431 [==============================] - 6s 15ms/step - loss: 0.2270\n",
            "Epoch 72/100\n",
            "431/431 [==============================] - 6s 15ms/step - loss: 0.2516\n",
            "Epoch 73/100\n",
            "431/431 [==============================] - 6s 15ms/step - loss: 0.2465\n",
            "Epoch 74/100\n",
            "431/431 [==============================] - 6s 15ms/step - loss: 0.2398\n",
            "Epoch 75/100\n",
            "431/431 [==============================] - 7s 15ms/step - loss: 0.2219\n",
            "Epoch 76/100\n",
            "431/431 [==============================] - 6s 15ms/step - loss: 0.2039\n",
            "Epoch 77/100\n",
            "431/431 [==============================] - 6s 15ms/step - loss: 0.2188\n",
            "Epoch 78/100\n",
            "431/431 [==============================] - 6s 14ms/step - loss: 0.2526\n",
            "Epoch 79/100\n",
            "431/431 [==============================] - 6s 15ms/step - loss: 0.2271\n",
            "Epoch 80/100\n",
            "431/431 [==============================] - 6s 14ms/step - loss: 0.2145\n",
            "Epoch 81/100\n",
            "431/431 [==============================] - 6s 15ms/step - loss: 0.2112\n",
            "Epoch 82/100\n",
            "431/431 [==============================] - 6s 14ms/step - loss: 0.2093\n",
            "Epoch 83/100\n",
            "431/431 [==============================] - 6s 15ms/step - loss: 0.2037\n",
            "Epoch 84/100\n",
            "431/431 [==============================] - 6s 15ms/step - loss: 0.1900\n",
            "Epoch 85/100\n",
            "431/431 [==============================] - 6s 15ms/step - loss: 0.2111\n",
            "Epoch 86/100\n",
            "431/431 [==============================] - 6s 14ms/step - loss: 0.2114\n",
            "Epoch 87/100\n",
            "431/431 [==============================] - 6s 15ms/step - loss: 0.2200\n",
            "Epoch 88/100\n",
            "431/431 [==============================] - 6s 14ms/step - loss: 0.1936\n",
            "Epoch 89/100\n",
            "431/431 [==============================] - 6s 15ms/step - loss: 0.1746\n",
            "Epoch 90/100\n",
            "431/431 [==============================] - 6s 14ms/step - loss: 0.1861\n",
            "Epoch 91/100\n",
            "431/431 [==============================] - 6s 15ms/step - loss: 0.1942\n",
            "Epoch 92/100\n",
            "431/431 [==============================] - 6s 14ms/step - loss: 0.1973\n",
            "Epoch 93/100\n",
            "431/431 [==============================] - 6s 15ms/step - loss: 0.1836\n",
            "Epoch 94/100\n",
            "431/431 [==============================] - 6s 14ms/step - loss: 0.1998\n",
            "Epoch 95/100\n",
            "431/431 [==============================] - 6s 15ms/step - loss: 0.2054\n",
            "Epoch 96/100\n",
            "431/431 [==============================] - 6s 14ms/step - loss: 0.1815\n",
            "Epoch 97/100\n",
            "431/431 [==============================] - 6s 15ms/step - loss: 0.1567\n",
            "Epoch 98/100\n",
            "431/431 [==============================] - 6s 14ms/step - loss: 0.1484\n",
            "Epoch 99/100\n",
            "431/431 [==============================] - 6s 15ms/step - loss: 0.1862\n",
            "Epoch 100/100\n",
            "428/431 [============================>.] - ETA: 0s - loss: 0.2261----- Generating text after Epoch: 99\n",
            "----- Generating with seed: \"そのころ、東京中の町という町、家という家\"\n",
            "そのころ、東京中の町という町、家という家では、ふたり以上の人が顔をあわせさえすれば、わしはおれどこうたういうだ。ぼくは、ぼくはひとつのこい地に車がぶじたまま、しばらくそこへはけったのか、しかしくすみたくと\n",
            "名探偵の顔つ相手がひきかえました。\n",
            "「観音さま、いくらんぼくのほうでごいいうすが知られました。\n",
            "それがらいませんのでした。\n",
            "このハン、きみのためごくちびらんなだね。それは何者だ。」\n",
            "「ならをぼったことですね。ぼくはピストルを家の中へはいることをしたい、しかったのう男は、名まえかえたようす金持は、あとつ所を信用してまだ。今のはこの先生のおとしごとおそ、さいぜんの消えことしたってあるのですか。ねが国務大臣方のようすも、わざりのここへ気をとられました。もう助手る小林君も、とうとう、このわしは一同時間でも「え。その意味をかぎってきたとは、おようには、あの家へとびおりてきなかったと、さしはからいう約束を持っているのかぎです。賊はべつに誘\n",
            "\n",
            "431/431 [==============================] - 29s 67ms/step - loss: 0.2262\n"
          ]
        }
      ],
      "source": [
        "history = model.fit(X, y, batch_size=batch_size, epochs=n_epochs, callbacks=[epoch_end_callback])"
      ]
    },
    {
      "cell_type": "markdown",
      "metadata": {
        "id": "2DN6nU--Us4C"
      },
      "source": [
        "## History"
      ]
    },
    {
      "cell_type": "code",
      "execution_count": 14,
      "metadata": {
        "id": "5pr2Jn13Us4D",
        "outputId": "8a61e294-b016-4e7d-878e-74fa870439f7",
        "colab": {
          "base_uri": "https://localhost:8080/",
          "height": 265
        }
      },
      "outputs": [
        {
          "output_type": "display_data",
          "data": {
            "text/plain": [
              "<Figure size 432x288 with 1 Axes>"
            ],
            "image/png": "[encoded data removed]"
          },
          "metadata": {
            "needs_background": "light"
          }
        }
      ],
      "source": [
        "loss = history.history['loss']\n",
        "\n",
        "import matplotlib.pyplot as plt\n",
        "plt.plot(loss, label='loss')\n",
        "plt.legend()\n",
        "plt.show()"
      ]
    }
  ],
  "metadata": {
    "kernelspec": {
      "display_name": "ai-master",
      "language": "python",
      "name": "python3"
    },
    "language_info": {
      "codemirror_mode": {
        "name": "ipython",
        "version": 3
      },
      "file_extension": ".py",
      "mimetype": "text/x-python",
      "name": "python",
      "nbconvert_exporter": "python",
      "pygments_lexer": "ipython3",
      "version": "3.7.16"
    },
    "orig_nbformat": 4,
    "vscode": {
      "interpreter": {
        "hash": "2512312fceb6e908b1c6087f9c29f0bb0c93a332146a69690954edd67c2954cb"
      }
    },
    "colab": {
      "provenance": []
    },
    "accelerator": "GPU",
    "gpuClass": "standard"
  },
  "nbformat": 4,
  "nbformat_minor": 0
}