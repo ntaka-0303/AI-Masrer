{
  "cells": [
    {
      "cell_type": "markdown",
      "metadata": {
        "id": "yojExjAMti03"
      },
      "source": [
        "## NLP by RNN"
      ]
    },
    {
      "cell_type": "markdown",
      "metadata": {
        "id": "zseET-sxti06"
      },
      "source": [
        "## Reading the data"
      ]
    },
    {
      "cell_type": "code",
      "execution_count": 15,
      "metadata": {
        "id": "ZjJDODhFti07"
      },
      "outputs": [],
      "source": [
        "nov_path = 'gingatetsudono_yoru.txt'\n",
        "\n",
        "with open(nov_path, 'r') as f:\n",
        "    nov_text = f.read()"
      ]
    },
    {
      "cell_type": "markdown",
      "metadata": {
        "id": "D3UtN1zMti08"
      },
      "source": [
        "## Preprocessing"
      ]
    },
    {
      "cell_type": "code",
      "execution_count": 16,
      "metadata": {
        "id": "SbVP3jnHti09"
      },
      "outputs": [],
      "source": [
        "import re\n",
        "\n",
        "text = re.sub(\"《[^》]+》\", \"\", nov_text)  # remove <brackets>\n",
        "text = re.sub(\"［[^］]+］\", \"\", text) # remove [brackets]\n",
        "text = re.sub(\"[｜ 　]\", \"\", text) # remove | and spaces"
      ]
    },
    {
      "cell_type": "markdown",
      "metadata": {
        "id": "_tshFs2Oti0_"
      },
      "source": [
        "## Setting up the hyperparameters"
      ]
    },
    {
      "cell_type": "code",
      "execution_count": 17,
      "metadata": {
        "id": "BSjzPWFiti1A"
      },
      "outputs": [],
      "source": [
        "n_rnn = 10 # number of characters to consider\n",
        "batch_size = 128 # number of sequences to consider at once\n",
        "n_epochs = 60 # number of epochs to train for\n",
        "n_hidden = 128 # number of hidden units in the RNN"
      ]
    },
    {
      "cell_type": "markdown",
      "metadata": {
        "id": "4pvs2Mfmti1D"
      },
      "source": [
        "## word2vec"
      ]
    },
    {
      "cell_type": "code",
      "execution_count": 18,
      "metadata": {
        "id": "4qa5pxAEti1F",
        "outputId": "150dc599-ec1f-4c08-c28b-57108db9d8d8",
        "colab": {
          "base_uri": "https://localhost:8080/"
        }
      },
      "outputs": [
        {
          "output_type": "stream",
          "name": "stderr",
          "text": [
            "<ipython-input-18-d37885ac7414>:16: DeprecationWarning: `np.bool` is a deprecated alias for the builtin `bool`. To silence this warning, use `bool` by itself. Doing this will not modify any behavior and is safe. If you specifically wanted the numpy scalar type, use `np.bool_` here.\n",
            "Deprecated in NumPy 1.20; for more details and guidance: https://numpy.org/devdocs/release/1.20.0-notes.html#deprecations\n",
            "  X = np.zeros((len(time_chars), n_rnn, len(chars)), dtype=np.bool)\n",
            "<ipython-input-18-d37885ac7414>:17: DeprecationWarning: `np.bool` is a deprecated alias for the builtin `bool`. To silence this warning, use `bool` by itself. Doing this will not modify any behavior and is safe. If you specifically wanted the numpy scalar type, use `np.bool_` here.\n",
            "Deprecated in NumPy 1.20; for more details and guidance: https://numpy.org/devdocs/release/1.20.0-notes.html#deprecations\n",
            "  y = np.zeros((len(time_chars), len(chars)), dtype=np.bool)\n"
          ]
        }
      ],
      "source": [
        "import numpy as np\n",
        "\n",
        "# create a index to character mapping\n",
        "chars = list(set(text))\n",
        "char_indices = {c: i for i, c in enumerate(chars)}\n",
        "indices_char = {i: c for i, c in enumerate(chars)}\n",
        "\n",
        "# cut the text in semi-redundant sequences of n_rnn characters\n",
        "time_chars = []\n",
        "next_chars = []\n",
        "for i in range(0, len(text) - n_rnn):\n",
        "    time_chars.append(text[i: i + n_rnn])\n",
        "    next_chars.append(text[i + n_rnn])\n",
        "\n",
        "# create a vectorized representation of the sequences\n",
        "X = np.zeros((len(time_chars), n_rnn, len(chars)), dtype=np.bool)\n",
        "y = np.zeros((len(time_chars), len(chars)), dtype=np.bool)\n",
        "for i, time_char in enumerate(time_chars):\n",
        "    for t, char in enumerate(time_char):\n",
        "        X[i, t, char_indices[char]] = 1\n",
        "    y[i, char_indices[next_chars[i]]] = 1"
      ]
    },
    {
      "cell_type": "markdown",
      "metadata": {
        "id": "X31h8-wBti1G"
      },
      "source": [
        "## Creating the model\n",
        "SimpleRNN, LSTM, GRU"
      ]
    },
    {
      "cell_type": "code",
      "execution_count": 19,
      "metadata": {
        "id": "U1pc0ivYti1H",
        "outputId": "78e4c304-920b-4428-b3c9-4f6cfa4352e6",
        "colab": {
          "base_uri": "https://localhost:8080/"
        }
      },
      "outputs": [
        {
          "output_type": "stream",
          "name": "stdout",
          "text": [
            "Model: \"sequential_6\"\n",
            "_________________________________________________________________\n",
            " Layer (type)                Output Shape              Param #   \n",
            "=================================================================\n",
            " simple_rnn_2 (SimpleRNN)    (None, 128)               150784    \n",
            "                                                                 \n",
            " dense_6 (Dense)             (None, 1049)              135321    \n",
            "                                                                 \n",
            "=================================================================\n",
            "Total params: 286,105\n",
            "Trainable params: 286,105\n",
            "Non-trainable params: 0\n",
            "_________________________________________________________________\n",
            "Model: \"sequential_7\"\n",
            "_________________________________________________________________\n",
            " Layer (type)                Output Shape              Param #   \n",
            "=================================================================\n",
            " lstm_2 (LSTM)               (None, 128)               603136    \n",
            "                                                                 \n",
            " dense_7 (Dense)             (None, 1049)              135321    \n",
            "                                                                 \n",
            "=================================================================\n",
            "Total params: 738,457\n",
            "Trainable params: 738,457\n",
            "Non-trainable params: 0\n",
            "_________________________________________________________________\n",
            "Model: \"sequential_8\"\n",
            "_________________________________________________________________\n",
            " Layer (type)                Output Shape              Param #   \n",
            "=================================================================\n",
            " gru_2 (GRU)                 (None, 128)               452736    \n",
            "                                                                 \n",
            " dense_8 (Dense)             (None, 1049)              135321    \n",
            "                                                                 \n",
            "=================================================================\n",
            "Total params: 588,057\n",
            "Trainable params: 588,057\n",
            "Non-trainable params: 0\n",
            "_________________________________________________________________\n"
          ]
        }
      ],
      "source": [
        "from keras.models import Sequential\n",
        "from keras.layers import Dense, SimpleRNN, LSTM, GRU\n",
        "\n",
        "# build the model: a simple RNN\n",
        "model_rnn = Sequential()\n",
        "model_rnn.add(SimpleRNN(n_hidden, input_shape=(n_rnn, len(chars))))\n",
        "model_rnn.add(Dense(len(chars), activation='softmax'))\n",
        "model_rnn.compile(loss='categorical_crossentropy', optimizer='adam')\n",
        "model_rnn.summary()\n",
        "\n",
        "# build the model: a LSTM\n",
        "model_lstm = Sequential()\n",
        "model_lstm.add(LSTM(n_hidden, input_shape=(n_rnn, len(chars))))\n",
        "model_lstm.add(Dense(len(chars), activation='softmax'))\n",
        "model_lstm.compile(loss='categorical_crossentropy', optimizer='adam')\n",
        "model_lstm.summary()\n",
        "\n",
        "# build the model: a GRU\n",
        "model_gru = Sequential()\n",
        "model_gru.add(GRU(n_hidden, input_shape=(n_rnn, len(chars))))\n",
        "model_gru.add(Dense(len(chars), activation='softmax'))\n",
        "model_gru.compile(loss='categorical_crossentropy', optimizer='adam')\n",
        "model_gru.summary()"
      ]
    },
    {
      "cell_type": "markdown",
      "metadata": {
        "id": "zyvKJN_Zti1K"
      },
      "source": [
        "## Defining the setence generator function"
      ]
    },
    {
      "cell_type": "code",
      "execution_count": 22,
      "metadata": {
        "id": "WS1MsPpQti1K"
      },
      "outputs": [],
      "source": [
        "from keras.callbacks import LambdaCallback\n",
        "def on_epoch_end(epochs, logs):\n",
        "    if(epochs == n_epochs-1 or epochs == 0):\n",
        "        print('----- Generating text after Epoch: %d' % epochs)\n",
        "        beta = 5 # temperature\n",
        "        prev_text = text[0: n_rnn] # seed text\n",
        "        created_text = prev_text\n",
        "\n",
        "        print('----- Generating with seed: \"' + prev_text + '\"')\n",
        "        for i in range(400):\n",
        "            # one-hot encode the characters\n",
        "            X_pred = np.zeros((1, n_rnn, len(chars)))\n",
        "            for t, char in enumerate(prev_text):\n",
        "                X_pred[0, t, char_indices[char]] = 1.\n",
        "\n",
        "            # predict the next character\n",
        "            preds = model.predict(X_pred, verbose=0)[0]\n",
        "            p_power = np.asarray(preds).astype('float64')\n",
        "            p_power = p_power ** beta # modify the distribution\n",
        "            next_index = np.random.choice(len(p_power), p=p_power/np.sum(p_power))\n",
        "            next_char = indices_char[next_index]\n",
        "\n",
        "            created_text += next_char\n",
        "            prev_text = prev_text[1:] + next_char \n",
        "        print(created_text)\n",
        "        print()\n",
        "\n",
        "# set up the callbacks\n",
        "epoch_end_callback = LambdaCallback(on_epoch_end=on_epoch_end)"
      ]
    },
    {
      "cell_type": "markdown",
      "metadata": {
        "id": "LPBobOPGti1L"
      },
      "source": [
        "## Training the model"
      ]
    },
    {
      "cell_type": "code",
      "execution_count": 23,
      "metadata": {
        "id": "G0XoQOQwti1L",
        "outputId": "f1952c13-841e-41d0-9871-c142bebdeee8",
        "colab": {
          "base_uri": "https://localhost:8080/"
        }
      },
      "outputs": [
        {
          "output_type": "stream",
          "name": "stdout",
          "text": [
            "Epoch 1/60\n",
            "300/303 [============================>.] - ETA: 0s - loss: 1.2354----- Generating text after Epoch: 0\n",
            "----- Generating with seed: \"「ではみなさんは、そ\"\n",
            "「ではみなさんは、そうごらんないろ。こともったちですか。」\n",
            "「何だ、今日は涼しいから。」\n",
            "「ああ、そうなくらあお父さんの牛乳を見えないたのですからわたっていねえ。」ジョバンニが云いました。\n",
            "「もう駄目です。落ちてから四十五分たちましたから。」\n",
            "ジョバンニはまっ赤になって、その人き、ところがつもちらして立っていました。\n",
            "「ああ、鳥捕りは、黒いのかがらって座っていたのです。\n",
            "ジョバンニは、あっちの方へ行くの方は見たとしていたした。\n",
            "「ああ、ジョバンニは眼をあげました。それは二人の人の中に、砂やつかさっているのでした。いるともうなけんとここらだら、」\n",
            "「あれてもうじっと見え、しいそのをすって来ように、あかりはいったりもの次の水ながら、あっきの方を見てるようしゃした。\n",
            "「さあ、あったのです。」\n",
            "「ああ、ジョバンニはお父さんはあることなんだんだんだん。」\n",
            "「うあ、どうどんですよ。」\n",
            "「あいつくしいねえ。」ジョバンニは、\n",
            "\n",
            "303/303 [==============================] - 27s 91ms/step - loss: 1.2350\n",
            "Epoch 2/60\n",
            "303/303 [==============================] - 3s 11ms/step - loss: 1.2035\n",
            "Epoch 3/60\n",
            "303/303 [==============================] - 3s 9ms/step - loss: 1.1720\n",
            "Epoch 4/60\n",
            "303/303 [==============================] - 3s 9ms/step - loss: 1.1455\n",
            "Epoch 5/60\n",
            "303/303 [==============================] - 4s 12ms/step - loss: 1.1150\n",
            "Epoch 6/60\n",
            "303/303 [==============================] - 4s 13ms/step - loss: 1.0920\n",
            "Epoch 7/60\n",
            "303/303 [==============================] - 3s 10ms/step - loss: 1.0644\n",
            "Epoch 8/60\n",
            "303/303 [==============================] - 3s 9ms/step - loss: 1.0409\n",
            "Epoch 9/60\n",
            "303/303 [==============================] - 4s 12ms/step - loss: 1.0193\n",
            "Epoch 10/60\n",
            "303/303 [==============================] - 3s 9ms/step - loss: 0.9922\n",
            "Epoch 11/60\n",
            "303/303 [==============================] - 3s 9ms/step - loss: 0.9746\n",
            "Epoch 12/60\n",
            "303/303 [==============================] - 3s 9ms/step - loss: 0.9578\n",
            "Epoch 13/60\n",
            "303/303 [==============================] - 4s 13ms/step - loss: 0.9395\n",
            "Epoch 14/60\n",
            "303/303 [==============================] - 3s 10ms/step - loss: 0.9134\n",
            "Epoch 15/60\n",
            "303/303 [==============================] - 3s 9ms/step - loss: 0.8960\n",
            "Epoch 16/60\n",
            "303/303 [==============================] - 3s 9ms/step - loss: 0.8770\n",
            "Epoch 17/60\n",
            "303/303 [==============================] - 4s 12ms/step - loss: 0.8574\n",
            "Epoch 18/60\n",
            "303/303 [==============================] - 3s 9ms/step - loss: 0.8446\n",
            "Epoch 19/60\n",
            "303/303 [==============================] - 3s 9ms/step - loss: 0.8239\n",
            "Epoch 20/60\n",
            "303/303 [==============================] - 3s 9ms/step - loss: 0.8104\n",
            "Epoch 21/60\n",
            "303/303 [==============================] - 4s 14ms/step - loss: 0.7937\n",
            "Epoch 22/60\n",
            "303/303 [==============================] - 3s 9ms/step - loss: 0.7738\n",
            "Epoch 23/60\n",
            "303/303 [==============================] - 3s 9ms/step - loss: 0.7636\n",
            "Epoch 24/60\n",
            "303/303 [==============================] - 3s 9ms/step - loss: 0.7462\n",
            "Epoch 25/60\n",
            "303/303 [==============================] - 4s 13ms/step - loss: 0.7343\n",
            "Epoch 26/60\n",
            "303/303 [==============================] - 3s 9ms/step - loss: 0.7207\n",
            "Epoch 27/60\n",
            "303/303 [==============================] - 3s 9ms/step - loss: 0.7116\n",
            "Epoch 28/60\n",
            "303/303 [==============================] - 3s 9ms/step - loss: 0.6957\n",
            "Epoch 29/60\n",
            "303/303 [==============================] - 4s 12ms/step - loss: 0.6830\n",
            "Epoch 30/60\n",
            "303/303 [==============================] - 3s 10ms/step - loss: 0.6667\n",
            "Epoch 31/60\n",
            "303/303 [==============================] - 3s 9ms/step - loss: 0.6533\n",
            "Epoch 32/60\n",
            "303/303 [==============================] - 3s 9ms/step - loss: 0.6508\n",
            "Epoch 33/60\n",
            "303/303 [==============================] - 3s 11ms/step - loss: 0.6343\n",
            "Epoch 34/60\n",
            "303/303 [==============================] - 3s 10ms/step - loss: 0.6270\n",
            "Epoch 35/60\n",
            "303/303 [==============================] - 3s 9ms/step - loss: 0.6149\n",
            "Epoch 36/60\n",
            "303/303 [==============================] - 3s 9ms/step - loss: 0.6025\n",
            "Epoch 37/60\n",
            "303/303 [==============================] - 3s 10ms/step - loss: 0.5988\n",
            "Epoch 38/60\n",
            "303/303 [==============================] - 3s 11ms/step - loss: 0.5881\n",
            "Epoch 39/60\n",
            "303/303 [==============================] - 3s 9ms/step - loss: 0.5754\n",
            "Epoch 40/60\n",
            "303/303 [==============================] - 3s 9ms/step - loss: 0.5674\n",
            "Epoch 41/60\n",
            "303/303 [==============================] - 4s 15ms/step - loss: 0.5599\n",
            "Epoch 42/60\n",
            "303/303 [==============================] - 3s 11ms/step - loss: 0.5431\n",
            "Epoch 43/60\n",
            "303/303 [==============================] - 3s 9ms/step - loss: 0.5369\n",
            "Epoch 44/60\n",
            "303/303 [==============================] - 3s 9ms/step - loss: 0.5316\n",
            "Epoch 45/60\n",
            "303/303 [==============================] - 3s 10ms/step - loss: 0.5208\n",
            "Epoch 46/60\n",
            "303/303 [==============================] - 4s 12ms/step - loss: 0.5183\n",
            "Epoch 47/60\n",
            "303/303 [==============================] - 3s 9ms/step - loss: 0.5076\n",
            "Epoch 48/60\n",
            "303/303 [==============================] - 3s 9ms/step - loss: 0.5023\n",
            "Epoch 49/60\n",
            "303/303 [==============================] - 3s 10ms/step - loss: 0.4864\n",
            "Epoch 50/60\n",
            "303/303 [==============================] - 4s 12ms/step - loss: 0.4810\n",
            "Epoch 51/60\n",
            "303/303 [==============================] - 3s 10ms/step - loss: 0.4813\n",
            "Epoch 52/60\n",
            "303/303 [==============================] - 3s 9ms/step - loss: 0.4679\n",
            "Epoch 53/60\n",
            "303/303 [==============================] - 3s 10ms/step - loss: 0.4642\n",
            "Epoch 54/60\n",
            "303/303 [==============================] - 4s 12ms/step - loss: 0.4545\n",
            "Epoch 55/60\n",
            "303/303 [==============================] - 3s 9ms/step - loss: 0.4472\n",
            "Epoch 56/60\n",
            "303/303 [==============================] - 3s 9ms/step - loss: 0.4436\n",
            "Epoch 57/60\n",
            "303/303 [==============================] - 3s 10ms/step - loss: 0.4414\n",
            "Epoch 58/60\n",
            "303/303 [==============================] - 4s 12ms/step - loss: 0.4323\n",
            "Epoch 59/60\n",
            "303/303 [==============================] - 3s 9ms/step - loss: 0.4307\n",
            "Epoch 60/60\n",
            "301/303 [============================>.] - ETA: 0s - loss: 0.4193----- Generating text after Epoch: 59\n",
            "----- Generating with seed: \"「ではみなさんは、そ\"\n",
            "「ではみなさんは、それからふれかなって、その中でさいののすからようときのようとうがまましたくなるとのうようだ、いかいきどいました。\n",
            "「もあ、まった。暗く、ああんだこう。そのようにひどいましたけれども流れているとい。そうに、ああなんどはまったろのが熱くなってしまが云わました。\n",
            "ジョバンニはどうしても気持がないったの仕方は、みんでだろうかと考えましたと、どくちへったやっかりのはそりの青やなのト度河をの子なから、いるのありすかっからねえ。」\n",
            "「おい。いも少し青年マイネリラス、青くさかわまりました。そのときちんな水になたんですかにね。」\n",
            "「そんから汽車のよ。架やあったのです。」二人は、そうかしまども。ことなたようになきれとしただ。だん。」鳥捕りは、あるしくしたね、おりさいいまでもあえるとことなもうちがちりこかがるかけでいろい。」\n",
            "「その中にもあっぱらはなんだの幸にはるででで。」先生はましょう乗業てみ青じはいだっとこの\n",
            "\n",
            "303/303 [==============================] - 28s 93ms/step - loss: 0.4198\n"
          ]
        }
      ],
      "source": [
        "# train the rnn model\n",
        "model = model_rnn\n",
        "history_rnn = model.fit(X, y, batch_size=batch_size, epochs=n_epochs, callbacks=[epoch_end_callback])"
      ]
    },
    {
      "cell_type": "code",
      "execution_count": 24,
      "metadata": {
        "id": "dqfzHMvRti1M",
        "outputId": "f55e23bb-ff62-4b6a-ab46-29f332dce0b4",
        "colab": {
          "base_uri": "https://localhost:8080/"
        }
      },
      "outputs": [
        {
          "output_type": "stream",
          "name": "stdout",
          "text": [
            "Epoch 1/60\n",
            "299/303 [============================>.] - ETA: 0s - loss: 5.0015----- Generating text after Epoch: 0\n",
            "----- Generating with seed: \"「ではみなさんは、そ\"\n",
            "「ではみなさんは、そたのいましたののるたうな、たたそいっいたしたたたてのいたのたたいたのくたのてっなた、いましっのなしたてのまた、てのっのいいいううった、うかいたのたいしたたてたましっ\n",
            "んまった。たたしたたにののまのたのたしたたたののののしたたのいんたしたたたいたのてのた、のしたいいたたのいていたのたののいたた。いたうのたたはの、た。たたのたのたいたまいはたたのたにのいのいたなた、たして、なのたたししたいった。ていんいいなのんてとたてのうたたまいののいいいいなましたのいまていの、のしたのらたまいいたまいのののなのたのたたでうたうた、な。にいいたいのしたのなのののいいいなたたといのななたなたっいいたいなたてでなかてそといたなてのたいたた。の、ないたたたいのいまののたたいいののっなたのまのんたのまたのたたたたの。ののそ、たしい、、たたたたたのたのいのしいのいたのたのたいいいていたのしたのなたののりういをっ、かいま\n",
            "\n",
            "303/303 [==============================] - 29s 82ms/step - loss: 4.9978\n",
            "Epoch 2/60\n",
            "303/303 [==============================] - 2s 6ms/step - loss: 4.6804\n",
            "Epoch 3/60\n",
            "303/303 [==============================] - 2s 5ms/step - loss: 4.3750\n",
            "Epoch 4/60\n",
            "303/303 [==============================] - 2s 6ms/step - loss: 4.1065\n",
            "Epoch 5/60\n",
            "303/303 [==============================] - 2s 5ms/step - loss: 3.9019\n",
            "Epoch 6/60\n",
            "303/303 [==============================] - 2s 5ms/step - loss: 3.7479\n",
            "Epoch 7/60\n",
            "303/303 [==============================] - 2s 7ms/step - loss: 3.6302\n",
            "Epoch 8/60\n",
            "303/303 [==============================] - 2s 6ms/step - loss: 3.5285\n",
            "Epoch 9/60\n",
            "303/303 [==============================] - 2s 5ms/step - loss: 3.4450\n",
            "Epoch 10/60\n",
            "303/303 [==============================] - 2s 5ms/step - loss: 3.3673\n",
            "Epoch 11/60\n",
            "303/303 [==============================] - 2s 5ms/step - loss: 3.3000\n",
            "Epoch 12/60\n",
            "303/303 [==============================] - 2s 5ms/step - loss: 3.2366\n",
            "Epoch 13/60\n",
            "303/303 [==============================] - 2s 5ms/step - loss: 3.1762\n",
            "Epoch 14/60\n",
            "303/303 [==============================] - 2s 6ms/step - loss: 3.1205\n",
            "Epoch 15/60\n",
            "303/303 [==============================] - 2s 6ms/step - loss: 3.0691\n",
            "Epoch 16/60\n",
            "303/303 [==============================] - 2s 5ms/step - loss: 3.0155\n",
            "Epoch 17/60\n",
            "303/303 [==============================] - 2s 5ms/step - loss: 2.9647\n",
            "Epoch 18/60\n",
            "303/303 [==============================] - 2s 5ms/step - loss: 2.9158\n",
            "Epoch 19/60\n",
            "303/303 [==============================] - 2s 5ms/step - loss: 2.8665\n",
            "Epoch 20/60\n",
            "303/303 [==============================] - 2s 5ms/step - loss: 2.8184\n",
            "Epoch 21/60\n",
            "303/303 [==============================] - 2s 6ms/step - loss: 2.7699\n",
            "Epoch 22/60\n",
            "303/303 [==============================] - 2s 7ms/step - loss: 2.7206\n",
            "Epoch 23/60\n",
            "303/303 [==============================] - 2s 5ms/step - loss: 2.6751\n",
            "Epoch 24/60\n",
            "303/303 [==============================] - 2s 5ms/step - loss: 2.6265\n",
            "Epoch 25/60\n",
            "303/303 [==============================] - 2s 5ms/step - loss: 2.5777\n",
            "Epoch 26/60\n",
            "303/303 [==============================] - 2s 5ms/step - loss: 2.5284\n",
            "Epoch 27/60\n",
            "303/303 [==============================] - 2s 5ms/step - loss: 2.4825\n",
            "Epoch 28/60\n",
            "303/303 [==============================] - 2s 5ms/step - loss: 2.4348\n",
            "Epoch 29/60\n",
            "303/303 [==============================] - 2s 6ms/step - loss: 2.3887\n",
            "Epoch 30/60\n",
            "303/303 [==============================] - 2s 6ms/step - loss: 2.3415\n",
            "Epoch 31/60\n",
            "303/303 [==============================] - 2s 5ms/step - loss: 2.2932\n",
            "Epoch 32/60\n",
            "303/303 [==============================] - 2s 5ms/step - loss: 2.2428\n",
            "Epoch 33/60\n",
            "303/303 [==============================] - 2s 5ms/step - loss: 2.1965\n",
            "Epoch 34/60\n",
            "303/303 [==============================] - 2s 5ms/step - loss: 2.1513\n",
            "Epoch 35/60\n",
            "303/303 [==============================] - 2s 5ms/step - loss: 2.1038\n",
            "Epoch 36/60\n",
            "303/303 [==============================] - 2s 6ms/step - loss: 2.0600\n",
            "Epoch 37/60\n",
            "303/303 [==============================] - 2s 7ms/step - loss: 2.0139\n",
            "Epoch 38/60\n",
            "303/303 [==============================] - 2s 5ms/step - loss: 1.9690\n",
            "Epoch 39/60\n",
            "303/303 [==============================] - 2s 5ms/step - loss: 1.9248\n",
            "Epoch 40/60\n",
            "303/303 [==============================] - 2s 5ms/step - loss: 1.8810\n",
            "Epoch 41/60\n",
            "303/303 [==============================] - 2s 5ms/step - loss: 1.8351\n",
            "Epoch 42/60\n",
            "303/303 [==============================] - 2s 5ms/step - loss: 1.7942\n",
            "Epoch 43/60\n",
            "303/303 [==============================] - 2s 5ms/step - loss: 1.7515\n",
            "Epoch 44/60\n",
            "303/303 [==============================] - 2s 6ms/step - loss: 1.7151\n",
            "Epoch 45/60\n",
            "303/303 [==============================] - 2s 6ms/step - loss: 1.6708\n",
            "Epoch 46/60\n",
            "303/303 [==============================] - 2s 5ms/step - loss: 1.6312\n",
            "Epoch 47/60\n",
            "303/303 [==============================] - 2s 5ms/step - loss: 1.5904\n",
            "Epoch 48/60\n",
            "303/303 [==============================] - 2s 5ms/step - loss: 1.5511\n",
            "Epoch 49/60\n",
            "303/303 [==============================] - 2s 5ms/step - loss: 1.5177\n",
            "Epoch 50/60\n",
            "303/303 [==============================] - 2s 5ms/step - loss: 1.4743\n",
            "Epoch 51/60\n",
            "303/303 [==============================] - 2s 6ms/step - loss: 1.4418\n",
            "Epoch 52/60\n",
            "303/303 [==============================] - 2s 7ms/step - loss: 1.4059\n",
            "Epoch 53/60\n",
            "303/303 [==============================] - 2s 5ms/step - loss: 1.3689\n",
            "Epoch 54/60\n",
            "303/303 [==============================] - 2s 5ms/step - loss: 1.3324\n",
            "Epoch 55/60\n",
            "303/303 [==============================] - 2s 5ms/step - loss: 1.3034\n",
            "Epoch 56/60\n",
            "303/303 [==============================] - 2s 5ms/step - loss: 1.2658\n",
            "Epoch 57/60\n",
            "303/303 [==============================] - 2s 5ms/step - loss: 1.2389\n",
            "Epoch 58/60\n",
            "303/303 [==============================] - 2s 5ms/step - loss: 1.2030\n",
            "Epoch 59/60\n",
            "303/303 [==============================] - 2s 6ms/step - loss: 1.1698\n",
            "Epoch 60/60\n",
            "302/303 [============================>.] - ETA: 0s - loss: 1.1443----- Generating text after Epoch: 59\n",
            "----- Generating with seed: \"「ではみなさんは、そ\"\n",
            "「ではみなさんは、そう云うな、そのおっぱいになっとしていました。\n",
            "「あれはもうころだ。僕からって行くないっと、どこしの木のような、もちは小さなもの角標は、青いどももうなくなって、いいいにのすぐるの上着を見るようにあっていました。\n",
            "「あの人は、お父さんは、そのをつかことをうたくさん、急いで光らなりにしました。\n",
            "「お母さん。お父さんは、こっちを見るときないとしまわた。\n",
            "「そう、そのでしょう。」\n",
            "「このええながら、いっぱりにつかったり、ついといちゃんでするか。すぐらしいのでいた。\n",
            "「あが、そんなんでした。そっとここへはつかました。けれどもその人は、もなくときっきのでした。\n",
            "\n",
            "ジョバンニは俄かに窓の外を見つめたいのようにしまっ黒な唐草のようにあみ、大きな青年はつくしくしの人がなんなりの火を知っているうとうしてもました。それから野原のお父さんが、まったりして見るのでした。\n",
            "「ああ、そんなんですよ。からかな火が云いました\n",
            "\n",
            "303/303 [==============================] - 25s 84ms/step - loss: 1.1436\n"
          ]
        }
      ],
      "source": [
        "# train the lstm model\n",
        "model = model_lstm\n",
        "history_lstm = model_lstm.fit(X, y, batch_size=batch_size, epochs=n_epochs, callbacks=[epoch_end_callback])"
      ]
    },
    {
      "cell_type": "code",
      "execution_count": 25,
      "metadata": {
        "id": "u1ZlIISLti1N",
        "outputId": "da9b21c7-6f25-4dfb-a2b0-86cb7e359c8e",
        "colab": {
          "base_uri": "https://localhost:8080/"
        }
      },
      "outputs": [
        {
          "output_type": "stream",
          "name": "stdout",
          "text": [
            "Epoch 1/60\n",
            "294/303 [============================>.] - ETA: 0s - loss: 5.0374----- Generating text after Epoch: 0\n",
            "----- Generating with seed: \"「ではみなさんは、そ\"\n",
            "「ではみなさんは、そたまたい、たったののたたたいたののたのいいたたのたのたたまのたのたたののたった。ったっとたのしたたたったたいた。たたたのしたったたのかた。とてたた。こたまたました。ののたったした。したいったいたい。た。のでいた。いたった。たのっした。したたいたた。いたたのしたたっにたっったとた。たとまたっ、。たたまいいたい。た。たったったいっいたたでたいたたしたたいかまたたたたった。でたしたした。ったったっしたったてままたたったまったしたったました。いないたたたいたまた。た。したしたのなたたたいったたたたったたした。たしたったたでたはたたってた。したまも。ないたった。っしたいったたったのたじたかに、のいたったたたのたたとったしたたたののいたがったっいたたたのの。たいたったったた。たたなたのまた。らいた。たたたった。たたかた、のた。くた。たののたっったたのた。たたたた。いた。た。いたた。たのはた。た、はいた\n",
            "\n",
            "303/303 [==============================] - 29s 87ms/step - loss: 5.0310\n",
            "Epoch 2/60\n",
            "303/303 [==============================] - 2s 5ms/step - loss: 4.4775\n",
            "Epoch 3/60\n",
            "303/303 [==============================] - 2s 5ms/step - loss: 3.8972\n",
            "Epoch 4/60\n",
            "303/303 [==============================] - 2s 6ms/step - loss: 3.5740\n",
            "Epoch 5/60\n",
            "303/303 [==============================] - 2s 6ms/step - loss: 3.3475\n",
            "Epoch 6/60\n",
            "303/303 [==============================] - 2s 5ms/step - loss: 3.1746\n",
            "Epoch 7/60\n",
            "303/303 [==============================] - 2s 5ms/step - loss: 3.0324\n",
            "Epoch 8/60\n",
            "303/303 [==============================] - 2s 5ms/step - loss: 2.9081\n",
            "Epoch 9/60\n",
            "303/303 [==============================] - 2s 5ms/step - loss: 2.7964\n",
            "Epoch 10/60\n",
            "303/303 [==============================] - 2s 5ms/step - loss: 2.6939\n",
            "Epoch 11/60\n",
            "303/303 [==============================] - 1s 5ms/step - loss: 2.5973\n",
            "Epoch 12/60\n",
            "303/303 [==============================] - 2s 6ms/step - loss: 2.5044\n",
            "Epoch 13/60\n",
            "303/303 [==============================] - 2s 6ms/step - loss: 2.4180\n",
            "Epoch 14/60\n",
            "303/303 [==============================] - 2s 5ms/step - loss: 2.3334\n",
            "Epoch 15/60\n",
            "303/303 [==============================] - 2s 5ms/step - loss: 2.2530\n",
            "Epoch 16/60\n",
            "303/303 [==============================] - 1s 5ms/step - loss: 2.1740\n",
            "Epoch 17/60\n",
            "303/303 [==============================] - 2s 5ms/step - loss: 2.0975\n",
            "Epoch 18/60\n",
            "303/303 [==============================] - 1s 5ms/step - loss: 2.0206\n",
            "Epoch 19/60\n",
            "303/303 [==============================] - 2s 5ms/step - loss: 1.9435\n",
            "Epoch 20/60\n",
            "303/303 [==============================] - 2s 7ms/step - loss: 1.8718\n",
            "Epoch 21/60\n",
            "303/303 [==============================] - 2s 6ms/step - loss: 1.8011\n",
            "Epoch 22/60\n",
            "303/303 [==============================] - 2s 5ms/step - loss: 1.7303\n",
            "Epoch 23/60\n",
            "303/303 [==============================] - 2s 5ms/step - loss: 1.6631\n",
            "Epoch 24/60\n",
            "303/303 [==============================] - 2s 5ms/step - loss: 1.5948\n",
            "Epoch 25/60\n",
            "303/303 [==============================] - 2s 5ms/step - loss: 1.5289\n",
            "Epoch 26/60\n",
            "303/303 [==============================] - 1s 5ms/step - loss: 1.4635\n",
            "Epoch 27/60\n",
            "303/303 [==============================] - 2s 6ms/step - loss: 1.4005\n",
            "Epoch 28/60\n",
            "303/303 [==============================] - 2s 6ms/step - loss: 1.3405\n",
            "Epoch 29/60\n",
            "303/303 [==============================] - 2s 5ms/step - loss: 1.2818\n",
            "Epoch 30/60\n",
            "303/303 [==============================] - 2s 5ms/step - loss: 1.2214\n",
            "Epoch 31/60\n",
            "303/303 [==============================] - 2s 5ms/step - loss: 1.1667\n",
            "Epoch 32/60\n",
            "303/303 [==============================] - 2s 5ms/step - loss: 1.1128\n",
            "Epoch 33/60\n",
            "303/303 [==============================] - 2s 5ms/step - loss: 1.0582\n",
            "Epoch 34/60\n",
            "303/303 [==============================] - 2s 5ms/step - loss: 1.0085\n",
            "Epoch 35/60\n",
            "303/303 [==============================] - 2s 6ms/step - loss: 0.9627\n",
            "Epoch 36/60\n",
            "303/303 [==============================] - 2s 6ms/step - loss: 0.9121\n",
            "Epoch 37/60\n",
            "303/303 [==============================] - 2s 5ms/step - loss: 0.8686\n",
            "Epoch 38/60\n",
            "303/303 [==============================] - 2s 5ms/step - loss: 0.8261\n",
            "Epoch 39/60\n",
            "303/303 [==============================] - 2s 5ms/step - loss: 0.7832\n",
            "Epoch 40/60\n",
            "303/303 [==============================] - 2s 5ms/step - loss: 0.7424\n",
            "Epoch 41/60\n",
            "303/303 [==============================] - 2s 5ms/step - loss: 0.7049\n",
            "Epoch 42/60\n",
            "303/303 [==============================] - 2s 5ms/step - loss: 0.6712\n",
            "Epoch 43/60\n",
            "303/303 [==============================] - 2s 7ms/step - loss: 0.6406\n",
            "Epoch 44/60\n",
            "303/303 [==============================] - 2s 5ms/step - loss: 0.6026\n",
            "Epoch 45/60\n",
            "303/303 [==============================] - 2s 5ms/step - loss: 0.5698\n",
            "Epoch 46/60\n",
            "303/303 [==============================] - 2s 5ms/step - loss: 0.5429\n",
            "Epoch 47/60\n",
            "303/303 [==============================] - 2s 5ms/step - loss: 0.5111\n",
            "Epoch 48/60\n",
            "303/303 [==============================] - 2s 5ms/step - loss: 0.4839\n",
            "Epoch 49/60\n",
            "303/303 [==============================] - 2s 5ms/step - loss: 0.4657\n",
            "Epoch 50/60\n",
            "303/303 [==============================] - 2s 6ms/step - loss: 0.4377\n",
            "Epoch 51/60\n",
            "303/303 [==============================] - 2s 6ms/step - loss: 0.4182\n",
            "Epoch 52/60\n",
            "303/303 [==============================] - 2s 5ms/step - loss: 0.3980\n",
            "Epoch 53/60\n",
            "303/303 [==============================] - 2s 5ms/step - loss: 0.3742\n",
            "Epoch 54/60\n",
            "303/303 [==============================] - 2s 5ms/step - loss: 0.3619\n",
            "Epoch 55/60\n",
            "303/303 [==============================] - 2s 5ms/step - loss: 0.3388\n",
            "Epoch 56/60\n",
            "303/303 [==============================] - 2s 5ms/step - loss: 0.3299\n",
            "Epoch 57/60\n",
            "303/303 [==============================] - 2s 5ms/step - loss: 0.3073\n",
            "Epoch 58/60\n",
            "303/303 [==============================] - 2s 7ms/step - loss: 0.2977\n",
            "Epoch 59/60\n",
            "303/303 [==============================] - 2s 6ms/step - loss: 0.2802\n",
            "Epoch 60/60\n",
            "301/303 [============================>.] - ETA: 0s - loss: 0.2655----- Generating text after Epoch: 59\n",
            "----- Generating with seed: \"「ではみなさんは、そ\"\n",
            "「ではみなさんは、そういうふうに川だと云われたり、乳の流れたあとだと思って。」ときりません。ぼんやりさいきもいええるのですから、さっきどんなあのが、こっちょうどこまでもたく、いんなが一列こっちはするねえ、立派なお母さんにひらがられてこまでも。けれど、またも二人も見ない。大きなは厚い、第一空んだ。いておるお母さんがあるようなけでした。\n",
            "ジョバンニは、ばっと胸をつけれて、勢よく見てあがり、せんのができかに光っててしたくともうしてしたからだんだ。このほんとうのさびきってありはそう云う声がらだってあのまだよ。」カムパネルラが少しおっかり下りでするもあいたものがらん。」カムパネルラが、そのまっ青にはちょうとしてもめにやりやして助けているように見えるのでした。子どもら、そんできまっすで見えらいただ、そのそれはまるでパネルラのように手を大きく振りますと、ちょうどとってどこかなラの向うのおじろですかけまるです。ジョバンニは、\n",
            "\n",
            "303/303 [==============================] - 25s 81ms/step - loss: 0.2656\n"
          ]
        }
      ],
      "source": [
        "# train the gru model\n",
        "model = model_gru\n",
        "history_gru = model_gru.fit(X, y, batch_size=batch_size, epochs=n_epochs, callbacks=[epoch_end_callback])"
      ]
    },
    {
      "cell_type": "markdown",
      "metadata": {
        "id": "8A98IWDDti1N"
      },
      "source": [
        "## History"
      ]
    },
    {
      "cell_type": "code",
      "execution_count": 26,
      "metadata": {
        "id": "zy1mRUvDti1N",
        "outputId": "e97cac36-52b0-44a1-a141-6039ee741a90",
        "colab": {
          "base_uri": "https://localhost:8080/",
          "height": 265
        }
      },
      "outputs": [
        {
          "output_type": "display_data",
          "data": {
            "text/plain": [
              "<Figure size 432x288 with 1 Axes>"
            ],
            "image/png": "[encoded data removed]"
          },
          "metadata": {
            "needs_background": "light"
          }
        }
      ],
      "source": [
        "loss_rnn = history_rnn.history['loss']\n",
        "loss_lstm = history_lstm.history['loss']\n",
        "loss_gru = history_gru.history['loss']\n",
        "\n",
        "import matplotlib.pyplot as plt\n",
        "plt.plot(loss_rnn, label='RNN')\n",
        "plt.plot(loss_lstm, label='LSTM')\n",
        "plt.plot(loss_gru, label='GRU')\n",
        "plt.legend()\n",
        "plt.show()"
      ]
    }
  ],
  "metadata": {
    "kernelspec": {
      "display_name": "ai-master",
      "language": "python",
      "name": "python3"
    },
    "language_info": {
      "codemirror_mode": {
        "name": "ipython",
        "version": 3
      },
      "file_extension": ".py",
      "mimetype": "text/x-python",
      "name": "python",
      "nbconvert_exporter": "python",
      "pygments_lexer": "ipython3",
      "version": "3.7.16"
    },
    "orig_nbformat": 4,
    "vscode": {
      "interpreter": {
        "hash": "2512312fceb6e908b1c6087f9c29f0bb0c93a332146a69690954edd67c2954cb"
      }
    },
    "colab": {
      "provenance": []
    },
    "accelerator": "GPU",
    "gpuClass": "standard"
  },
  "nbformat": 4,
  "nbformat_minor": 0
}