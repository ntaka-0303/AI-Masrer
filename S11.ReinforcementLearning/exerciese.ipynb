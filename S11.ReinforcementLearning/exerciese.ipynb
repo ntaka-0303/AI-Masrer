{
  "cells": [
    {
      "cell_type": "markdown",
      "metadata": {
        "id": "obukri2_dAfw"
      },
      "source": [
        "# Exercises\n",
        "Introduce Experience Replay and Fixed Target Q-Networks into the DQN algorithm."
      ]
    },
    {
      "cell_type": "markdown",
      "metadata": {
        "id": "1AXX8265dAfy"
      },
      "source": [
        "## Imports and setup optimization"
      ]
    },
    {
      "cell_type": "code",
      "execution_count": 1,
      "metadata": {
        "id": "omP0qjX1dAfz"
      },
      "outputs": [
        {
          "name": "stderr",
          "output_type": "stream",
          "text": [
            "2023-03-09 16:21:55.917109: I tensorflow/core/platform/cpu_feature_guard.cc:193] This TensorFlow binary is optimized with oneAPI Deep Neural Network Library (oneDNN) to use the following CPU instructions in performance-critical operations:  SSE4.1 SSE4.2 AVX AVX2 FMA\n",
            "To enable them in other operations, rebuild TensorFlow with the appropriate compiler flags.\n"
          ]
        }
      ],
      "source": [
        "import numpy as np\n",
        "import matplotlib.pyplot as plt \n",
        "from matplotlib import animation, rc\n",
        "from  dataclasses import dataclass, field\n",
        "from typing import List\n",
        "import collections\n",
        "import tensorflow as tf"
      ]
    },
    {
      "cell_type": "markdown",
      "metadata": {
        "id": "vhQ8av3YdAf5"
      },
      "source": [
        "## Experience class for replay"
      ]
    },
    {
      "cell_type": "code",
      "execution_count": 2,
      "metadata": {
        "id": "YyVYUJp6BfO0"
      },
      "outputs": [],
      "source": [
        "@dataclass\n",
        "class Experience:\n",
        "    state: np.ndarray = np.array([[]])\n",
        "    next_state: np.ndarray = np.array([[]])\n",
        "    action: List[int] = field(default_factory=list)\n",
        "    reward: int = 0\n",
        "    terminal: bool = False"
      ]
    },
    {
      "cell_type": "markdown",
      "metadata": {
        "id": "n3_w6HcDBfO0"
      },
      "source": [
        "## Brain class"
      ]
    },
    {
      "cell_type": "code",
      "execution_count": 3,
      "metadata": {
        "id": "yO-H_t93dAf5"
      },
      "outputs": [],
      "source": [
        "class Brain:\n",
        "    # initialize the brain of the agent with the following parameters\n",
        "    # build the model\n",
        "    def __init__(self, n_states, n_hidden, n_actions, gamma=0.9, r=0.99):\n",
        "        self.epsilon = 1.0 # initial exploration rate\n",
        "        self.gamma = gamma # discount factor\n",
        "        self.r = r # decay rate of epsilon\n",
        "\n",
        "        # build the model\n",
        "        model = tf.keras.Sequential()\n",
        "        model.add(tf.keras.layers.Dense(n_hidden, input_shape=(None,n_states,), activation='relu'))\n",
        "        model.add(tf.keras.layers.Dense(n_hidden, activation='relu'))\n",
        "        model.add(tf.keras.layers.Dense(n_hidden, activation='relu'))\n",
        "        model.add(tf.keras.layers.Dense(n_actions, activation='linear'))\n",
        "        self.model = model\n",
        "\n",
        "        # define the loss function\n",
        "        self.loss_fn = tf.keras.losses.MeanSquaredError()\n",
        "\n",
        "        # define the optimizer\n",
        "        self.optimizer = tf.keras.optimizers.Adam()\n",
        "\n",
        "    # train the model with the minibatch\n",
        "    def train(self, q_next, states_batch, rewards_batch, terminal_batch):\n",
        "\n",
        "        rewards_batch = rewards_batch.reshape(-1, 1)\n",
        "        terminal_batch = terminal_batch.reshape(-1, 1)\n",
        "        \n",
        "        # target is the reward + discounted Q value of the next state\n",
        "        target_values = rewards_batch + self.gamma * np.max(q_next, axis=1) * (1 - terminal_batch)\n",
        "        \n",
        "        # train the model\n",
        "        self._train_on_batch(states_batch, target_values)\n",
        "\n",
        "    # _train_on_batch is a wrapper for the keras train_on_batch function\n",
        "    @tf.function\n",
        "    def _train_on_batch(self, states_batch, target_values):\n",
        "        with tf.GradientTape() as tape:\n",
        "            y_pred = self.model(states_batch)\n",
        "            # get the loss\n",
        "            loss = self.loss_fn(target_values, y_pred)\n",
        "\n",
        "        # get the variables\n",
        "        variables = self.model.trainable_variables\n",
        "        \n",
        "        # get the gradients\n",
        "        gradients = tape.gradient(loss, variables)\n",
        "\n",
        "        # update the weights\n",
        "        self.optimizer.apply_gradients(zip(gradients, variables))\n",
        "\n",
        "    # get the Q value of the state\n",
        "    def get_q(self, states):\n",
        "        return self.model(states)\n",
        "\n",
        "    # get the action with the epsilon-greedy policy\n",
        "    def get_action(self, state):\n",
        "        q = self.get_q(np.array([state]))[0]\n",
        "        if np.random.rand() < self.epsilon:\n",
        "            action =  np.random.randint(q.shape[1], size=q.shape[0])\n",
        "        else:\n",
        "            action = np.argmax(q, axis=1)\n",
        "        if self.epsilon > 0.1: # decay the exploration rate\n",
        "            self.epsilon *= self.r\n",
        "        return action"
      ]
    },
    {
      "cell_type": "markdown",
      "metadata": {
        "id": "oDGKXpnadAf6"
      },
      "source": [
        "## Agent class"
      ]
    },
    {
      "cell_type": "code",
      "execution_count": 4,
      "metadata": {
        "id": "pbmRLS0EdAf7"
      },
      "outputs": [],
      "source": [
        "class Agent:\n",
        "    # initialize the agent with the following action parameters\n",
        "    def __init__(self, v_x, v_y_sigma, v_jump, brain, target_brain):\n",
        "        self.v_x = v_x # velocity in the x direction\n",
        "        self.v_y_sigma = v_y_sigma # std of the velocity in the y direction\n",
        "        self.v_jump = v_jump # velocity in the y direction when the agent jumps\n",
        "        self.experiences = collections.deque(maxlen=50000) # store the experiences\n",
        "        self.batch_size = 32 # mini-batch size\n",
        "        self.brain = brain # the brain of the agent\n",
        "        self.target_brain = target_brain # the target brain of the agent\n",
        "        self.reset()\n",
        "\n",
        "    # reset the agent position and velocity in the y direction\n",
        "    # initial position is (x, y) = (-1, 0)\n",
        "    # initial velocity in the y direction is randomly sampled from a normal distribution\n",
        "    def reset(self):\n",
        "        self.x = -1. # x position\n",
        "        self.y = 0. # y position\n",
        "        self.v_y = self.v_y_sigma * np.random.randn() # y velocity\n",
        "\n",
        "    # update the target brain\n",
        "    def update_target_brain(self):\n",
        "        self.target_brain.model.set_weights(self.brain.model.get_weights())\n",
        "\n",
        "    # get the mini-batch from the experience replay\n",
        "    def get_batch(self, batch_size):\n",
        "        # randomly sample the experiences for the mini-batch\n",
        "        batch = np.random.choice(self.experiences, batch_size)\n",
        "        states_batch = np.array([e.state for e in batch])\n",
        "        next_states_batch = np.array([e.next_state for e in batch])\n",
        "        actions_batch = np.array([e.action for e in batch])\n",
        "        rewards_batch = np.array([e.reward for e in batch])\n",
        "        terminal_batch = np.array([e.terminal for e in batch])\n",
        "        return states_batch, next_states_batch, actions_batch, rewards_batch, terminal_batch\n",
        "\n",
        "    # update the agent steate, reward, and brain\n",
        "    # the reward is 0 if the agent position is y = -1 or y = 1\n",
        "    # the reward is 1 if the agent position is x = 1\n",
        "    # if the agent jumps, the velocity in the y direction is updated by the jump velocity\n",
        "    # if the agent does not jump, the velocity in the y direction is updated by the gravity\n",
        "    def step(self, g):\n",
        "        # get the current state\n",
        "        state = np.array([[self.y, self.v_y]])\n",
        "\n",
        "        # update the agent position and get the reward and terminal\n",
        "        self.x += self.v_x\n",
        "        self.y += self.v_y\n",
        "        reward = 0\n",
        "        terminal = False \n",
        "        if self.y < -1.0 or self.y > 1.0:\n",
        "            reward = -1\n",
        "            terminal = True\n",
        "        elif self.x > 1.0:\n",
        "            reward = 1\n",
        "            terminal = True\n",
        "        reward = np.array([reward])\n",
        "        \n",
        "        # get the action from the target brain and get the next state\n",
        "        action = self.target_brain.get_action(state)\n",
        "        if action[0] == 0:\n",
        "            self.v_y -= g\n",
        "        else:\n",
        "            self.v_y = self.v_jump\n",
        "        next_state = np.array([[self.y, self.v_y]])\n",
        "\n",
        "        # store the experience\n",
        "        exp = Experience(state, next_state, action, reward, terminal)\n",
        "        self.experiences.append(exp)\n",
        "\n",
        "        return reward, terminal\n",
        "\n",
        "    def train_brain(self):\n",
        "        # get the mini-batch\n",
        "        batch_size = min(self.batch_size, len(self.experiences))\n",
        "        states_batch, next_states_batch, actions_batch, rewards_batch, terminal_batch = self.get_batch(batch_size)\n",
        "\n",
        "        # get the next Q value from the target brain\n",
        "        q_next = self.target_brain.get_q(next_states_batch)\n",
        "        \n",
        "        # train the brain with the mini-batch\n",
        "        self.brain.train(q_next, states_batch, rewards_batch, terminal_batch)"
      ]
    },
    {
      "cell_type": "markdown",
      "metadata": {
        "id": "-QSeP3zmdAf-"
      },
      "source": [
        "## Environment class"
      ]
    },
    {
      "cell_type": "code",
      "execution_count": 5,
      "metadata": {
        "id": "ucyofBTbdAf-"
      },
      "outputs": [],
      "source": [
        "class Enviroment:\n",
        "    # initialize the enviroment with the following parameters\n",
        "    def __init__(self, agent, g):\n",
        "        self.g = g\n",
        "        self.agent = agent\n",
        "\n",
        "    # advance the agent by one step\n",
        "    def step(self):\n",
        "        return self.agent.step(self.g)\n",
        "    \n",
        "    # reset the agent\n",
        "    def reset(self):\n",
        "        self.agent.reset()"
      ]
    },
    {
      "cell_type": "markdown",
      "metadata": {
        "id": "pfLxI6_2dAf_"
      },
      "source": [
        "## Training"
      ]
    },
    {
      "cell_type": "code",
      "execution_count": 6,
      "metadata": {
        "id": "0EFNGuB8dAf_"
      },
      "outputs": [
        {
          "ename": "ValueError",
          "evalue": "The last dimension of the inputs to a Dense layer should be defined. Found None. Full input shape received: (None, None)",
          "output_type": "error",
          "traceback": [
            "\u001b[0;31m---------------------------------------------------------------------------\u001b[0m",
            "\u001b[0;31mValueError\u001b[0m                                Traceback (most recent call last)",
            "\u001b[0;32m/var/folders/4b/51c7z2390ng5847hqgswbhrw0000gn/T/ipykernel_27908/3928742631.py\u001b[0m in \u001b[0;36m<module>\u001b[0;34m\u001b[0m\n\u001b[1;32m      4\u001b[0m \u001b[0mn_hidden\u001b[0m \u001b[0;34m=\u001b[0m \u001b[0;36m32\u001b[0m \u001b[0;31m# number of hidden units\u001b[0m\u001b[0;34m\u001b[0m\u001b[0;34m\u001b[0m\u001b[0m\n\u001b[1;32m      5\u001b[0m \u001b[0mn_actions\u001b[0m \u001b[0;34m=\u001b[0m \u001b[0;36m2\u001b[0m \u001b[0;31m# number of actions\u001b[0m\u001b[0;34m\u001b[0m\u001b[0;34m\u001b[0m\u001b[0m\n\u001b[0;32m----> 6\u001b[0;31m \u001b[0mq_net_brain\u001b[0m \u001b[0;34m=\u001b[0m \u001b[0mBrain\u001b[0m\u001b[0;34m(\u001b[0m\u001b[0mn_states\u001b[0m\u001b[0;34m,\u001b[0m \u001b[0mn_hidden\u001b[0m\u001b[0;34m,\u001b[0m \u001b[0mn_actions\u001b[0m\u001b[0;34m,\u001b[0m \u001b[0mr\u001b[0m\u001b[0;34m=\u001b[0m\u001b[0;36m0.999\u001b[0m\u001b[0;34m)\u001b[0m\u001b[0;34m\u001b[0m\u001b[0;34m\u001b[0m\u001b[0m\n\u001b[0m\u001b[1;32m      7\u001b[0m \u001b[0mtarget_brain\u001b[0m \u001b[0;34m=\u001b[0m \u001b[0mBrain\u001b[0m\u001b[0;34m(\u001b[0m\u001b[0mn_states\u001b[0m\u001b[0;34m,\u001b[0m \u001b[0mn_hidden\u001b[0m\u001b[0;34m,\u001b[0m \u001b[0mn_actions\u001b[0m\u001b[0;34m,\u001b[0m \u001b[0mr\u001b[0m\u001b[0;34m=\u001b[0m\u001b[0;36m0.999\u001b[0m\u001b[0;34m)\u001b[0m\u001b[0;34m\u001b[0m\u001b[0;34m\u001b[0m\u001b[0m\n\u001b[1;32m      8\u001b[0m \u001b[0;34m\u001b[0m\u001b[0m\n",
            "\u001b[0;32m/var/folders/4b/51c7z2390ng5847hqgswbhrw0000gn/T/ipykernel_27908/1448781859.py\u001b[0m in \u001b[0;36m__init__\u001b[0;34m(self, n_states, n_hidden, n_actions, gamma, r)\u001b[0m\n\u001b[1;32m     10\u001b[0m         \u001b[0minput_layer\u001b[0m \u001b[0;34m=\u001b[0m \u001b[0mtf\u001b[0m\u001b[0;34m.\u001b[0m\u001b[0mkeras\u001b[0m\u001b[0;34m.\u001b[0m\u001b[0mlayers\u001b[0m\u001b[0;34m.\u001b[0m\u001b[0mInput\u001b[0m\u001b[0;34m(\u001b[0m\u001b[0mshape\u001b[0m\u001b[0;34m=\u001b[0m\u001b[0;34m(\u001b[0m\u001b[0;32mNone\u001b[0m\u001b[0;34m,\u001b[0m \u001b[0mn_states\u001b[0m\u001b[0;34m)\u001b[0m\u001b[0;34m)\u001b[0m\u001b[0;34m\u001b[0m\u001b[0;34m\u001b[0m\u001b[0m\n\u001b[1;32m     11\u001b[0m         \u001b[0mx\u001b[0m \u001b[0;34m=\u001b[0m \u001b[0mtf\u001b[0m\u001b[0;34m.\u001b[0m\u001b[0mkeras\u001b[0m\u001b[0;34m.\u001b[0m\u001b[0mlayers\u001b[0m\u001b[0;34m.\u001b[0m\u001b[0mFlatten\u001b[0m\u001b[0;34m(\u001b[0m\u001b[0;34m)\u001b[0m\u001b[0;34m(\u001b[0m\u001b[0minput_layer\u001b[0m\u001b[0;34m)\u001b[0m\u001b[0;34m\u001b[0m\u001b[0;34m\u001b[0m\u001b[0m\n\u001b[0;32m---> 12\u001b[0;31m         \u001b[0mx\u001b[0m \u001b[0;34m=\u001b[0m \u001b[0mtf\u001b[0m\u001b[0;34m.\u001b[0m\u001b[0mkeras\u001b[0m\u001b[0;34m.\u001b[0m\u001b[0mlayers\u001b[0m\u001b[0;34m.\u001b[0m\u001b[0mDense\u001b[0m\u001b[0;34m(\u001b[0m\u001b[0mn_hidden\u001b[0m\u001b[0;34m,\u001b[0m \u001b[0mactivation\u001b[0m\u001b[0;34m=\u001b[0m\u001b[0;34m'relu'\u001b[0m\u001b[0;34m)\u001b[0m\u001b[0;34m(\u001b[0m\u001b[0mx\u001b[0m\u001b[0;34m)\u001b[0m\u001b[0;34m\u001b[0m\u001b[0;34m\u001b[0m\u001b[0m\n\u001b[0m\u001b[1;32m     13\u001b[0m         \u001b[0mx\u001b[0m \u001b[0;34m=\u001b[0m \u001b[0mtf\u001b[0m\u001b[0;34m.\u001b[0m\u001b[0mkeras\u001b[0m\u001b[0;34m.\u001b[0m\u001b[0mlayers\u001b[0m\u001b[0;34m.\u001b[0m\u001b[0mDense\u001b[0m\u001b[0;34m(\u001b[0m\u001b[0mn_hidden\u001b[0m\u001b[0;34m,\u001b[0m \u001b[0mactivation\u001b[0m\u001b[0;34m=\u001b[0m\u001b[0;34m'relu'\u001b[0m\u001b[0;34m)\u001b[0m\u001b[0;34m(\u001b[0m\u001b[0mx\u001b[0m\u001b[0;34m)\u001b[0m\u001b[0;34m\u001b[0m\u001b[0;34m\u001b[0m\u001b[0m\n\u001b[1;32m     14\u001b[0m         \u001b[0mx\u001b[0m \u001b[0;34m=\u001b[0m \u001b[0mtf\u001b[0m\u001b[0;34m.\u001b[0m\u001b[0mkeras\u001b[0m\u001b[0;34m.\u001b[0m\u001b[0mlayers\u001b[0m\u001b[0;34m.\u001b[0m\u001b[0mDense\u001b[0m\u001b[0;34m(\u001b[0m\u001b[0mn_hidden\u001b[0m\u001b[0;34m,\u001b[0m \u001b[0mactivation\u001b[0m\u001b[0;34m=\u001b[0m\u001b[0;34m'relu'\u001b[0m\u001b[0;34m)\u001b[0m\u001b[0;34m(\u001b[0m\u001b[0mx\u001b[0m\u001b[0;34m)\u001b[0m\u001b[0;34m\u001b[0m\u001b[0;34m\u001b[0m\u001b[0m\n",
            "\u001b[0;32m~/opt/anaconda3/envs/ai-master/lib/python3.7/site-packages/keras/utils/traceback_utils.py\u001b[0m in \u001b[0;36merror_handler\u001b[0;34m(*args, **kwargs)\u001b[0m\n\u001b[1;32m     68\u001b[0m             \u001b[0;31m# To get the full stack trace, call:\u001b[0m\u001b[0;34m\u001b[0m\u001b[0;34m\u001b[0m\u001b[0;34m\u001b[0m\u001b[0m\n\u001b[1;32m     69\u001b[0m             \u001b[0;31m# `tf.debugging.disable_traceback_filtering()`\u001b[0m\u001b[0;34m\u001b[0m\u001b[0;34m\u001b[0m\u001b[0;34m\u001b[0m\u001b[0m\n\u001b[0;32m---> 70\u001b[0;31m             \u001b[0;32mraise\u001b[0m \u001b[0me\u001b[0m\u001b[0;34m.\u001b[0m\u001b[0mwith_traceback\u001b[0m\u001b[0;34m(\u001b[0m\u001b[0mfiltered_tb\u001b[0m\u001b[0;34m)\u001b[0m \u001b[0;32mfrom\u001b[0m \u001b[0;32mNone\u001b[0m\u001b[0;34m\u001b[0m\u001b[0;34m\u001b[0m\u001b[0m\n\u001b[0m\u001b[1;32m     71\u001b[0m         \u001b[0;32mfinally\u001b[0m\u001b[0;34m:\u001b[0m\u001b[0;34m\u001b[0m\u001b[0;34m\u001b[0m\u001b[0m\n\u001b[1;32m     72\u001b[0m             \u001b[0;32mdel\u001b[0m \u001b[0mfiltered_tb\u001b[0m\u001b[0;34m\u001b[0m\u001b[0;34m\u001b[0m\u001b[0m\n",
            "\u001b[0;32m~/opt/anaconda3/envs/ai-master/lib/python3.7/site-packages/keras/layers/core/dense.py\u001b[0m in \u001b[0;36mbuild\u001b[0;34m(self, input_shape)\u001b[0m\n\u001b[1;32m    147\u001b[0m         \u001b[0;32mif\u001b[0m \u001b[0mlast_dim\u001b[0m \u001b[0;32mis\u001b[0m \u001b[0;32mNone\u001b[0m\u001b[0;34m:\u001b[0m\u001b[0;34m\u001b[0m\u001b[0;34m\u001b[0m\u001b[0m\n\u001b[1;32m    148\u001b[0m             raise ValueError(\n\u001b[0;32m--> 149\u001b[0;31m                 \u001b[0;34m\"The last dimension of the inputs to a Dense layer \"\u001b[0m\u001b[0;34m\u001b[0m\u001b[0;34m\u001b[0m\u001b[0m\n\u001b[0m\u001b[1;32m    150\u001b[0m                 \u001b[0;34m\"should be defined. Found None. \"\u001b[0m\u001b[0;34m\u001b[0m\u001b[0;34m\u001b[0m\u001b[0m\n\u001b[1;32m    151\u001b[0m                 \u001b[0;34mf\"Full input shape received: {input_shape}\"\u001b[0m\u001b[0;34m\u001b[0m\u001b[0;34m\u001b[0m\u001b[0m\n",
            "\u001b[0;31mValueError\u001b[0m: The last dimension of the inputs to a Dense layer should be defined. Found None. Full input shape received: (None, None)"
          ]
        }
      ],
      "source": [
        "# train the agent and show the animation\n",
        "# build the q-net brain and target brain\n",
        "n_states = 2 # number of states\n",
        "n_hidden = 32 # number of hidden units\n",
        "n_actions = 2 # number of actions\n",
        "q_net_brain = Brain(n_states, n_hidden, n_actions, r=0.999)\n",
        "target_brain = Brain(n_states, n_hidden, n_actions, r=0.999)\n",
        "\n",
        "# build the agent\n",
        "v_x = 0.05 # velocity in the x direction\n",
        "v_y_sigma = 0.1 # std of the velocity in the y direction\n",
        "v_jump = 0.2 # velocity in the y direction when the agent jumps\n",
        "agent = Agent(v_x, v_y_sigma, v_jump, q_net_brain, target_brain)\n",
        "\n",
        "# build the enviroment\n",
        "g = 0.2 # gravity\n",
        "enviroment = Enviroment(agent, g)\n",
        "\n",
        "# episode parameters\n",
        "n_episodes = 1001 # number of episodes\n",
        "reward_histroy = []\n",
        "step_history = []\n",
        "for episord in range(1,n_episodes):\n",
        "    # reset the enviroment\n",
        "    terminal = False\n",
        "    enviroment.reset()\n",
        "    step = 0\n",
        "\n",
        "    while not terminal: # step until terminal\n",
        "        step += 1\n",
        "        # advance the enviroment by one step\n",
        "        reward, terminal = enviroment.step()\n",
        "\n",
        "        # end the step if terminal\n",
        "        if terminal:\n",
        "            # update agent\n",
        "            agent.train_brain()\n",
        "\n",
        "            # write the result\n",
        "            step_history.append(step)\n",
        "            reward_histroy.append(reward)\n",
        "            break\n",
        "    \n",
        "    # the target brain updated every 5 episodes\n",
        "    if episord % 5 == 0:\n",
        "        agent.update_target_brain()"
      ]
    },
    {
      "cell_type": "markdown",
      "metadata": {
        "id": "m6bPxAFuBfO7"
      },
      "source": [
        "## Show the results"
      ]
    },
    {
      "cell_type": "code",
      "execution_count": null,
      "metadata": {
        "colab": {
          "base_uri": "https://localhost:8080/",
          "height": 541
        },
        "id": "Ij3L01sTBfO7",
        "outputId": "dd649821-8f7c-424f-b35c-7cfbd4a92341"
      },
      "outputs": [
        {
          "data": {
            "image/png": "[encoded data removed]",
            "text/plain": [
              "<Figure size 432x288 with 1 Axes>"
            ]
          },
          "metadata": {
            "needs_background": "light"
          },
          "output_type": "display_data"
        },
        {
          "data": {
            "image/png": "[encoded data removed]",
            "text/plain": [
              "<Figure size 432x288 with 1 Axes>"
            ]
          },
          "metadata": {
            "needs_background": "light"
          },
          "output_type": "display_data"
        }
      ],
      "source": [
        "x = np.arange(len(step_history))\n",
        "fig, ax1 = plt.subplots()\n",
        "\n",
        "# show the reward history\n",
        "ax1.scatter(x, reward_histroy)\n",
        "ax1.set_xlabel('Episode')\n",
        "ax1.set_xlim([0, len(step_history)])\n",
        "ax1.set_ylabel('Reward')\n",
        "ax1.set_ylim([-1.1, 1.1])\n",
        "\n",
        "# show the step history\n",
        "fig, ax2 = plt.subplots()\n",
        "ax2.plot(x, step_history)\n",
        "ax2.set_xlabel('Episode')\n",
        "ax2.set_xlim([0, len(step_history)])\n",
        "ax2.set_ylabel('Step')\n",
        "\n",
        "plt.show()"
      ]
    },
    {
      "cell_type": "code",
      "execution_count": null,
      "metadata": {
        "id": "2HJ2aBswJO7a"
      },
      "outputs": [],
      "source": []
    }
  ],
  "metadata": {
    "accelerator": "GPU",
    "colab": {
      "provenance": []
    },
    "gpuClass": "standard",
    "kernelspec": {
      "display_name": "ai-master",
      "language": "python",
      "name": "python3"
    },
    "language_info": {
      "codemirror_mode": {
        "name": "ipython",
        "version": 3
      },
      "file_extension": ".py",
      "mimetype": "text/x-python",
      "name": "python",
      "nbconvert_exporter": "python",
      "pygments_lexer": "ipython3",
      "version": "3.7.16"
    },
    "orig_nbformat": 4,
    "vscode": {
      "interpreter": {
        "hash": "2512312fceb6e908b1c6087f9c29f0bb0c93a332146a69690954edd67c2954cb"
      }
    }
  },
  "nbformat": 4,
  "nbformat_minor": 0
}
