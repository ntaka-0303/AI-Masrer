{
  "cells": [
    {
      "cell_type": "markdown",
      "metadata": {
        "id": "obukri2_dAfw"
      },
      "source": [
        "# Exercises\n",
        "Introduce Experience Replay and Fixed Target Q-Networks into the DQN algorithm."
      ]
    },
    {
      "cell_type": "markdown",
      "metadata": {
        "id": "1AXX8265dAfy"
      },
      "source": [
        "## Imports and setup optimization"
      ]
    },
    {
      "cell_type": "code",
      "execution_count": 1,
      "metadata": {
        "id": "omP0qjX1dAfz"
      },
      "outputs": [],
      "source": [
        "import numpy as np\n",
        "import matplotlib.pyplot as plt \n",
        "from  dataclasses import dataclass, field\n",
        "from typing import List\n",
        "import collections\n",
        "import tensorflow as tf"
      ]
    },
    {
      "cell_type": "markdown",
      "metadata": {
        "id": "vhQ8av3YdAf5"
      },
      "source": [
        "## Experience class for replay"
      ]
    },
    {
      "cell_type": "code",
      "execution_count": 2,
      "metadata": {
        "id": "YyVYUJp6BfO0"
      },
      "outputs": [],
      "source": [
        "@dataclass\n",
        "class Experience:\n",
        "    state: np.ndarray = np.array([[]])\n",
        "    next_state: np.ndarray = np.array([[]])\n",
        "    action: List[int] = field(default_factory=list)\n",
        "    reward: int = 0\n",
        "    terminal: bool = False"
      ]
    },
    {
      "cell_type": "markdown",
      "metadata": {
        "id": "n3_w6HcDBfO0"
      },
      "source": [
        "## Brain class"
      ]
    },
    {
      "cell_type": "code",
      "execution_count": 3,
      "metadata": {
        "id": "yO-H_t93dAf5"
      },
      "outputs": [],
      "source": [
        "class Brain:\n",
        "    # initialize the brain of the agent with the following parameters\n",
        "    # build the model\n",
        "    def __init__(self, n_states, n_hidden, n_actions, gamma=0.9, r=0.99):\n",
        "        self.epsilon = 1.0 # initial exploration rate\n",
        "        self.gamma = gamma # discount factor\n",
        "        self.r = r # decay rate of epsilon\n",
        "        self.n_actions = n_actions\n",
        "\n",
        "        # build the model\n",
        "        model = tf.keras.Sequential()\n",
        "        # model.add(tf.keras.layers.Dense(n_hidden, input_shape=(None,n_states,), activation='relu'))\n",
        "        model.add(tf.keras.layers.Dense(n_hidden, input_shape=[None, n_states], activation='relu'))\n",
        "        model.add(tf.keras.layers.Dense(n_hidden, activation='relu'))\n",
        "        model.add(tf.keras.layers.Dense(n_hidden, activation='relu'))\n",
        "        model.add(tf.keras.layers.Dense(n_actions))\n",
        "        self.model = model\n",
        "\n",
        "        # define the loss function\n",
        "        self.loss_fn = tf.keras.losses.Huber()\n",
        "\n",
        "        # define the optimizer\n",
        "        self.optimizer = tf.keras.optimizers.Adam()\n",
        "\n",
        "    # train the model with the minibatch\n",
        "    def train(self, q_next, states_batch, action_batch, rewards_batch, terminal_batch):\n",
        "        # convert the input to tensors\n",
        "        rewards_batch = rewards_batch.reshape(-1,1)\n",
        "        terminal_batch = terminal_batch.reshape(-1,1)\n",
        "        \n",
        "        # target is the reward + discounted Q value of the next state\n",
        "        target_action = [rewards_batch + self.gamma * np.max(q_next, axis=1) if not terminal else rewards_batch\n",
        "                  for rewards_batch, q_next, terminal in zip(rewards_batch, q_next, terminal_batch)]\n",
        "        \n",
        "        # convert the target to one-hot encoding with acton_batch\n",
        "        target = np.zeros((len(action_batch), self.n_actions))\n",
        "        for i, action in enumerate(action_batch):\n",
        "            target[i][action] = target_action[i]\n",
        "\n",
        "        # get the mask for the action_batch\n",
        "        masks = tf.one_hot(action_batch, self.n_actions)\n",
        "        \n",
        "        # train the model\n",
        "        self._train_on_batch(states_batch, masks, target)\n",
        "\n",
        "    # _train_on_batch is a wrapper for the keras train_on_batch function\n",
        "    @tf.function\n",
        "    def _train_on_batch(self, states_batch, masks, target):\n",
        "        with tf.GradientTape() as tape:\n",
        "            # y_pred is Q value of the current state\n",
        "            # states_batch = tf.convert_to_tensor(states_batch)\n",
        "            y_pred = self.get_q(states_batch)\n",
        "            y_pred = tf.reduce_sum(tf.multiply(y_pred, masks), reduction_indices=1)\n",
        "\n",
        "            # get the loss\n",
        "            loss = self.loss_fn(target, y_pred)\n",
        "        \n",
        "        # get the gradients\n",
        "        gradients = tape.gradient(loss, self.model.trainable_weights)\n",
        "\n",
        "        # update the weights with the gradients\n",
        "        self.optimizer.apply_gradients(zip(gradients, self.model.trainable_weights))\n",
        "\n",
        "    # get the Q value of the state\n",
        "    def get_q(self, states):\n",
        "        return self.model(states)\n",
        "\n",
        "    # get the action with the epsilon-greedy policy\n",
        "    def get_action(self, state):\n",
        "        q = self.get_q(np.array([state]))[0]\n",
        "        if np.random.rand() < self.epsilon:\n",
        "            action =  np.random.randint(q.shape[1], size=q.shape[0])\n",
        "        else:\n",
        "            action = np.argmax(q, axis=1)\n",
        "        if self.epsilon > 0.1: # decay the exploration rate\n",
        "            self.epsilon *= self.r\n",
        "        return action"
      ]
    },
    {
      "cell_type": "markdown",
      "metadata": {
        "id": "oDGKXpnadAf6"
      },
      "source": [
        "## Agent class"
      ]
    },
    {
      "cell_type": "code",
      "execution_count": 4,
      "metadata": {
        "id": "pbmRLS0EdAf7"
      },
      "outputs": [],
      "source": [
        "class Agent:\n",
        "    # initialize the agent with the following action parameters\n",
        "    def __init__(self, v_x, v_y_sigma, v_jump, brain, target_brain):\n",
        "        # action parameters\n",
        "        self.v_x = v_x # velocity in the x direction\n",
        "        self.v_y_sigma = v_y_sigma # std of the velocity in the y direction\n",
        "        self.v_jump = v_jump # velocity in the y direction when the agent jumps\n",
        "\n",
        "        # brain parameters\n",
        "        self.experiences = collections.deque(maxlen=50000) # store the experiences\n",
        "        self.batch_size = 32 # mini-batch size\n",
        "        self.brain = brain # the brain of the agent\n",
        "        self.target_brain = target_brain # the target brain of the agent\n",
        "        self.reset()\n",
        "\n",
        "    # reset the agent position and velocity in the y direction\n",
        "    # initial position is (x, y) = (-1, 0)\n",
        "    # initial velocity in the y direction is randomly sampled from a normal distribution\n",
        "    def reset(self):\n",
        "        self.x = -1. # x position\n",
        "        self.y = 0. # y position\n",
        "        self.v_y = self.v_y_sigma * np.random.randn() # y velocity\n",
        "\n",
        "    # update the target brain\n",
        "    def update_target_brain(self):\n",
        "        self.target_brain.model.set_weights(self.brain.model.get_weights())\n",
        "\n",
        "    # get the mini-batch from the experience replay\n",
        "    def get_batch(self, batch_size):\n",
        "        # randomly sample the experiences for the mini-batch\n",
        "        batch = np.random.choice(self.experiences, batch_size)\n",
        "        states_batch = np.array([e.state for e in batch])\n",
        "        next_states_batch = np.array([e.next_state for e in batch])\n",
        "        action_batch = np.array([e.action for e in batch])\n",
        "        rewards_batch = np.array([e.reward for e in batch])\n",
        "        terminal_batch = np.array([e.terminal for e in batch])\n",
        "        return states_batch, next_states_batch, action_batch, rewards_batch, terminal_batch\n",
        "\n",
        "    # update the agent steate, reward, and brain\n",
        "    # the reward is 0 if the agent position is y = -1 or y = 1\n",
        "    # the reward is 1 if the agent position is x = 1\n",
        "    # if the agent jumps, the velocity in the y direction is updated by the jump velocity\n",
        "    # if the agent does not jump, the velocity in the y direction is updated by the gravity\n",
        "    def step(self, g):\n",
        "        # get the current state\n",
        "        state = np.array([[self.y, self.v_y]])\n",
        "\n",
        "        # update the agent position and get the reward and terminal\n",
        "        self.x += self.v_x\n",
        "        self.y += self.v_y\n",
        "        reward = 0\n",
        "        terminal = False \n",
        "        if self.y < -1.0 or self.y > 1.0:\n",
        "            reward = -1\n",
        "            terminal = True\n",
        "        elif self.x > 1.0:\n",
        "            reward = 1\n",
        "            terminal = True\n",
        "        reward = np.array([reward])\n",
        "        \n",
        "        # get the action from the target brain and get the next state\n",
        "        action = self.target_brain.get_action(state)\n",
        "        if action[0] == 0:\n",
        "            self.v_y -= g\n",
        "        else:\n",
        "            self.v_y = self.v_jump\n",
        "        next_state = np.array([[self.y, self.v_y]])\n",
        "\n",
        "        # store the experience\n",
        "        exp = Experience(state, next_state, action, reward, terminal)\n",
        "        self.experiences.append(exp)\n",
        "\n",
        "        return reward, terminal\n",
        "\n",
        "    def train_brain(self):\n",
        "        # get the mini-batch\n",
        "        batch_size = min(self.batch_size, len(self.experiences))\n",
        "        states_batch, next_states_batch, action_batch, rewards_batch, terminal_batch = self.get_batch(batch_size)\n",
        "\n",
        "        # get the next Q value from the target brain\n",
        "        q_next = self.target_brain.get_q(next_states_batch)\n",
        "            \n",
        "        # train the brain with the mini-batch\n",
        "        self.brain.train(q_next, states_batch, action_batch, rewards_batch, terminal_batch)"
      ]
    },
    {
      "cell_type": "markdown",
      "metadata": {
        "id": "-QSeP3zmdAf-"
      },
      "source": [
        "## Environment class"
      ]
    },
    {
      "cell_type": "code",
      "execution_count": 5,
      "metadata": {
        "id": "ucyofBTbdAf-"
      },
      "outputs": [],
      "source": [
        "class Enviroment:\n",
        "    # initialize the enviroment with the following parameters\n",
        "    def __init__(self, agent, g):\n",
        "        self.g = g\n",
        "        self.agent = agent\n",
        "\n",
        "    # advance the agent by one step\n",
        "    def step(self):\n",
        "        return self.agent.step(self.g)\n",
        "    \n",
        "    # reset the agent\n",
        "    def reset(self):\n",
        "        self.agent.reset()"
      ]
    },
    {
      "cell_type": "markdown",
      "metadata": {
        "id": "pfLxI6_2dAf_"
      },
      "source": [
        "## Training"
      ]
    },
    {
      "cell_type": "code",
      "execution_count": 6,
      "metadata": {
        "id": "0EFNGuB8dAf_"
      },
      "outputs": [],
      "source": [
        "# train the agent and show the animation\n",
        "# build the q-net brain and target brain\n",
        "n_states = 2 # number of states\n",
        "n_hidden = 64 # number of hidden units\n",
        "n_actions = 2 # number of actions\n",
        "q_net_brain = Brain(n_states, n_hidden, n_actions, r=0.99)\n",
        "target_brain = Brain(n_states, n_hidden, n_actions, r=0.99)\n",
        "\n",
        "# build the agent\n",
        "v_x = 0.05 # velocity in the x direction\n",
        "v_y_sigma = 0.1 # std of the velocity in the y direction\n",
        "v_jump = 0.2 # velocity in the y direction when the agent jumps\n",
        "agent = Agent(v_x, v_y_sigma, v_jump, q_net_brain, target_brain)\n",
        "\n",
        "# build the enviroment\n",
        "g = 0.2 # gravity\n",
        "enviroment = Enviroment(agent, g)\n",
        "\n",
        "# episode parameters\n",
        "n_episodes = 1001 # number of episodes\n",
        "reward_histroy = []\n",
        "step_history = []\n",
        "for episord in range(1,n_episodes):\n",
        "    # reset the enviroment\n",
        "    terminal = False\n",
        "    enviroment.reset()\n",
        "    step = 0\n",
        "\n",
        "    while not terminal: # step until terminal\n",
        "        step += 1\n",
        "        # advance the enviroment by one step\n",
        "        reward, terminal = enviroment.step()\n",
        "\n",
        "        # end the step if terminal\n",
        "        if terminal:\n",
        "            # update agent\n",
        "            agent.train_brain()\n",
        "            # write the result\n",
        "            step_history.append(step)\n",
        "            reward_histroy.append(reward)\n",
        "            break\n",
        "    \n",
        "    # the target brain updated every 5 episodes\n",
        "    if episord % 5 == 0:\n",
        "        agent.update_target_brain()"
      ]
    },
    {
      "cell_type": "markdown",
      "metadata": {
        "id": "m6bPxAFuBfO7"
      },
      "source": [
        "## Show the results"
      ]
    },
    {
      "cell_type": "code",
      "execution_count": 7,
      "metadata": {
        "colab": {
          "base_uri": "https://localhost:8080/",
          "height": 541
        },
        "id": "Ij3L01sTBfO7",
        "outputId": "3c9cf993-a629-4ad6-eff2-ace01786125c"
      },
      "outputs": [
        {
          "data": {
            "image/png": "[encoded data removed]",
            "text/plain": [
              "<Figure size 432x288 with 1 Axes>"
            ]
          },
          "metadata": {
            "needs_background": "light"
          },
          "output_type": "display_data"
        },
        {
          "data": {
            "image/png": "[encoded data removed]",
            "text/plain": [
              "<Figure size 432x288 with 1 Axes>"
            ]
          },
          "metadata": {
            "needs_background": "light"
          },
          "output_type": "display_data"
        }
      ],
      "source": [
        "x = np.arange(len(step_history))\n",
        "fig, ax1 = plt.subplots()\n",
        "\n",
        "# show the reward history\n",
        "ax1.scatter(x, reward_histroy)\n",
        "ax1.set_xlabel('Episode')\n",
        "ax1.set_xlim([0, len(step_history)])\n",
        "ax1.set_ylabel('Reward')\n",
        "ax1.set_ylim([-1.1, 1.1])\n",
        "\n",
        "# show the step history\n",
        "fig, ax2 = plt.subplots()\n",
        "ax2.plot(x, step_history)\n",
        "ax2.set_xlabel('Episode')\n",
        "ax2.set_xlim([0, len(step_history)])\n",
        "ax2.set_ylabel('Step')\n",
        "\n",
        "plt.show()"
      ]
    },
    {
      "cell_type": "code",
      "execution_count": 7,
      "metadata": {
        "id": "2HJ2aBswJO7a"
      },
      "outputs": [],
      "source": []
    }
  ],
  "metadata": {
    "accelerator": "GPU",
    "colab": {
      "provenance": []
    },
    "gpuClass": "standard",
    "kernelspec": {
      "display_name": "ai-master",
      "language": "python",
      "name": "python3"
    },
    "language_info": {
      "codemirror_mode": {
        "name": "ipython",
        "version": 3
      },
      "file_extension": ".py",
      "mimetype": "text/x-python",
      "name": "python",
      "nbconvert_exporter": "python",
      "pygments_lexer": "ipython3",
      "version": "3.7.16"
    },
    "orig_nbformat": 4,
    "vscode": {
      "interpreter": {
        "hash": "2512312fceb6e908b1c6087f9c29f0bb0c93a332146a69690954edd67c2954cb"
      }
    }
  },
  "nbformat": 4,
  "nbformat_minor": 0
}
