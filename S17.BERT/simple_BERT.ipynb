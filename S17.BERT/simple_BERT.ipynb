{
 "cells": [
  {
   "attachments": {},
   "cell_type": "markdown",
   "metadata": {},
   "source": [
    "# Build a simple BERT model\n",
    "* Task1: Predict the masked word in a sentence using BertForMaskedLM\n",
    "* Task2: Classify the accuracy of a next sentence given a sentence using BertForNextSentencePrediction"
   ]
  },
  {
   "attachments": {},
   "cell_type": "markdown",
   "metadata": {},
   "source": [
    "**Warning**: The following code execute on Google Colab. "
   ]
  },
  {
   "cell_type": "code",
   "execution_count": null,
   "metadata": {},
   "outputs": [],
   "source": [
    "!pip install folium\n",
    "!pip install urllib3\n",
    "!pip install pytorch_transformers"
   ]
  },
  {
   "attachments": {},
   "cell_type": "markdown",
   "metadata": {},
   "source": [
    "## Task1: predict the masked word in a sentence using BertForMaskedLM"
   ]
  },
  {
   "cell_type": "code",
   "execution_count": 6,
   "metadata": {},
   "outputs": [
    {
     "name": "stdout",
     "output_type": "stream",
     "text": [
      "['[CLS]', 'i', 'played', 'football', 'with', 'my', 'friends', 'at', 'school', 'yesterday', '[SEP]']\n"
     ]
    }
   ],
   "source": [
    "# import BertForMaskedLM\n",
    "from pytorch_transformers import BertTokenizer, BertForMaskedLM\n",
    "\n",
    "# set up the text\n",
    "text = \"[CLS] I played football with my friends at school yesterday [SEP]\"\n",
    "# set up the tokenizer\n",
    "tokenizer = BertTokenizer.from_pretrained('bert-base-uncased')\n",
    "# tokenize the text\n",
    "tokenized_text = tokenizer.tokenize(text)\n",
    "print(tokenized_text)"
   ]
  },
  {
   "cell_type": "code",
   "execution_count": 3,
   "metadata": {},
   "outputs": [
    {
     "name": "stdout",
     "output_type": "stream",
     "text": [
      "['[CLS]', 'i', 'played', '[MASK]', 'with', 'my', 'friends', 'at', 'school', 'yesterday', '[SEP]']\n",
      "tensor([[ 101, 1045, 2209,  103, 2007, 2026, 2814, 2012, 2082, 7483,  102]])\n"
     ]
    }
   ],
   "source": [
    "# mask the part of the text\n",
    "masked_index = 3\n",
    "tokenized_text[masked_index] = '[MASK]'\n",
    "print(tokenized_text)\n",
    "\n",
    "# convert the text to ids\n",
    "indexed_tokens = tokenizer.convert_tokens_to_ids(tokenized_text)\n",
    "# convert the text to a tensor\n",
    "import torch\n",
    "tokens_tensor = torch.tensor([indexed_tokens])\n",
    "print(tokens_tensor)"
   ]
  },
  {
   "cell_type": "code",
   "execution_count": 5,
   "metadata": {},
   "outputs": [
    {
     "name": "stdout",
     "output_type": "stream",
     "text": [
      "tensor([[[ -6.6873,  -6.6405,  -6.6409,  ...,  -6.0201,  -5.8183,  -3.9777],\n",
      "         [ -9.5150,  -9.3415,  -9.3818,  ...,  -8.4236,  -8.4428,  -5.3152],\n",
      "         [-10.0568, -10.1768, -10.2753,  ...,  -8.5044,  -8.6216,  -5.3011],\n",
      "         ...,\n",
      "         [-13.6662, -14.2769, -13.8572,  ..., -12.8681, -11.8016, -11.4662],\n",
      "         [ -9.2015,  -8.9383,  -9.3056,  ...,  -7.7869,  -9.2608,  -3.0500],\n",
      "         [-13.1242, -12.9604, -12.7900,  ...,  -9.9769, -10.1773, -10.8939]]])\n",
      "['basketball', 'football', 'soccer', 'baseball', 'tennis']\n"
     ]
    }
   ],
   "source": [
    "# predict the masked word using the BertForMaskedLM model\n",
    "# set up the model\n",
    "msk_model = BertForMaskedLM.from_pretrained('bert-base-uncased')\n",
    "msk_model.eval()\n",
    "\n",
    "# predict the masked word\n",
    "with torch.no_grad():\n",
    "    x = tokens_tensor\n",
    "    y = msk_model(x)\n",
    "result = y[0]\n",
    "print(result)\n",
    "\n",
    "# get the top 5 predictions\n",
    "_, predicted_indexes = torch.topk(result[0, masked_index], 5)\n",
    "predicted_tokens = tokenizer.convert_ids_to_tokens(predicted_indexes.tolist())\n",
    "print(predicted_tokens)"
   ]
  },
  {
   "attachments": {},
   "cell_type": "markdown",
   "metadata": {},
   "source": [
    "## Task2: Classify the accuracy of a next sentence given a sentence using BertForNextSentencePrediction"
   ]
  },
  {
   "cell_type": "code",
   "execution_count": 7,
   "metadata": {},
   "outputs": [],
   "source": [
    "# import BertForNextSentencePrediction\n",
    "from pytorch_transformers import BertForNextSentencePrediction\n",
    "\n",
    "# define the function to determine and show a continuity between two sentences\n",
    "def show_continuity(text, seg_ids):\n",
    "    # set up the model\n",
    "    nsp_model = BertForNextSentencePrediction.from_pretrained('bert-base-uncased')\n",
    "    nsp_model.eval()\n",
    "\n",
    "    # convert the text to ids\n",
    "    tokenized_text = tokenizer.tokenize(text)\n",
    "    indexed_tokens = tokenizer.convert_tokens_to_ids(tokenized_text)\n",
    "\n",
    "    # convert the text and the segment ids to tensors\n",
    "    tokens_tensor = torch.tensor([indexed_tokens])\n",
    "    segments_tensors = torch.tensor([seg_ids])\n",
    "    \n",
    "    # predict the next sentence\n",
    "    with torch.no_grad():\n",
    "        x = tokens_tensor\n",
    "        y = segments_tensors\n",
    "        z = nsp_model(x, y)\n",
    "    result = torch.softmax(z[0], dim=1)\n",
    "    print(result)\n",
    "    print('Continuity: ', result[0][0].item()*100, '%')"
   ]
  },
  {
   "cell_type": "code",
   "execution_count": 8,
   "metadata": {},
   "outputs": [
    {
     "name": "stdout",
     "output_type": "stream",
     "text": [
      "tensor([[1.0000e+00, 4.7963e-06]])\n",
      "Continuity:  99.9995231628418 %\n"
     ]
    }
   ],
   "source": [
    "# test the function to give a continuity between two sentences\n",
    "text = '[CLS] What is baseball ? [SEP] Baseball is a sport played with a bat and ball [SEP]'\n",
    "seg_ids = [0, 0, 0, 0, 0, 0, 1, 1, 1, 1, 1, 1, 1, 1, 1, 1, 1]\n",
    "show_continuity(text, seg_ids)"
   ]
  },
  {
   "cell_type": "code",
   "execution_count": 9,
   "metadata": {},
   "outputs": [
    {
     "name": "stdout",
     "output_type": "stream",
     "text": [
      "tensor([[9.5296e-06, 9.9999e-01]])\n",
      "Continuity:  0.0009529629096505232 %\n"
     ]
    }
   ],
   "source": [
    "# test the function to give no continuity between two sentences\n",
    "text = '[CLS] What is baseball ? [SEP] This food is made with flour and milk [SEP]'\n",
    "seg_ids = [0, 0, 0, 0, 0, 0, 1, 1, 1, 1, 1, 1, 1, 1, 1]\n",
    "show_continuity(text, seg_ids)"
   ]
  }
 ],
 "metadata": {
  "kernelspec": {
   "display_name": "ai-master",
   "language": "python",
   "name": "python3"
  },
  "language_info": {
   "codemirror_mode": {
    "name": "ipython",
    "version": 3
   },
   "file_extension": ".py",
   "mimetype": "text/x-python",
   "name": "python",
   "nbconvert_exporter": "python",
   "pygments_lexer": "ipython3",
   "version": "3.7.16"
  },
  "orig_nbformat": 4,
  "vscode": {
   "interpreter": {
    "hash": "2512312fceb6e908b1c6087f9c29f0bb0c93a332146a69690954edd67c2954cb"
   }
  }
 },
 "nbformat": 4,
 "nbformat_minor": 2
}
